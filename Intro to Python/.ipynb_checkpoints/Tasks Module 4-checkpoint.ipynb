{
 "cells": [
  {
   "cell_type": "code",
   "execution_count": 3,
   "metadata": {},
   "outputs": [
    {
     "name": "stdout",
     "output_type": "stream",
     "text": [
      "  % Total    % Received % Xferd  Average Speed   Time    Time     Time  Current\n",
      "                                 Dload  Upload   Total   Spent    Left  Speed\n",
      "100    56  100    56    0     0    216      0 --:--:-- --:--:-- --:--:--   217\n"
     ]
    }
   ],
   "source": [
    "# [ ] review and run example\n",
    "!curl https://raw.githubusercontent.com/MicrosoftLearning/intropython/master/poem1.txt -o poem1.txt"
   ]
  },
  {
   "cell_type": "code",
   "execution_count": 4,
   "metadata": {},
   "outputs": [
    {
     "data": {
      "text/plain": [
       "<_io.TextIOWrapper name='poem1.txt' mode='r' encoding='ANSI_X3.4-1968'>"
      ]
     },
     "execution_count": 4,
     "metadata": {},
     "output_type": "execute_result"
    }
   ],
   "source": [
    "# [ ]Run to open the file in memory as poem_file\n",
    "poem_file = open('poem1.txt', 'r')\n",
    "# [ ] run and review code to test if open worked \n",
    "# should display name='poem1.txt' and no errors\n",
    "poem_file"
   ]
  },
  {
   "cell_type": "code",
   "execution_count": 5,
   "metadata": {},
   "outputs": [
    {
     "name": "stdout",
     "output_type": "stream",
     "text": [
      "  % Total    % Received % Xferd  Average Speed   Time    Time     Time  Current\n",
      "                                 Dload  Upload   Total   Spent    Left  Speed\n",
      "100    56  100    56    0     0    246      0 --:--:-- --:--:-- --:--:--   248\n",
      "<_io.TextIOWrapper name='cities.txt' mode='r' encoding='ANSI_X3.4-1968'>\n"
     ]
    }
   ],
   "source": [
    "!curl https://raw.githubusercontent.com/MicrosoftLearning/intropython/master/cities -o cities.txt\n",
    "cities_file = open('cities.txt', 'r')\n",
    "print(cities_file)"
   ]
  },
  {
   "cell_type": "code",
   "execution_count": 6,
   "metadata": {},
   "outputs": [
    {
     "name": "stdout",
     "output_type": "stream",
     "text": [
      "Loops I repeat\n",
      "loops\n",
      "loops\n",
      "loops\n",
      "I repeat\n",
      "until I\n",
      "break\n",
      "\n"
     ]
    }
   ],
   "source": [
    "# [ ] review and run example\n",
    "poem_contents = poem_file.read()\n",
    "# [ ] review and run example\n",
    "# shows the file as a string with formatting characters such as \"\\n\", output should be non-blank\n",
    "poem_contents\n",
    "# [ ] review and run example\n",
    "# since .read() loaded the file as a string it can be printed\n",
    "print(poem_contents)"
   ]
  },
  {
   "cell_type": "code",
   "execution_count": 7,
   "metadata": {},
   "outputs": [
    {
     "name": "stdout",
     "output_type": "stream",
     "text": [
      "Beijing\n",
      "Cairo\n",
      "London\n",
      "Nairobi\n",
      "New York City\n",
      "Sydney\n",
      "Tokyo\n",
      "\n"
     ]
    }
   ],
   "source": [
    "cities_file = open('cities.txt', 'r')\n",
    "cities = cities_file.read()\n",
    "cities\n",
    "print(cities)"
   ]
  },
  {
   "cell_type": "code",
   "execution_count": 8,
   "metadata": {},
   "outputs": [
    {
     "name": "stdout",
     "output_type": "stream",
     "text": [
      "Loops I re\n"
     ]
    },
    {
     "data": {
      "text/plain": [
       "'Loops I re'"
      ]
     },
     "execution_count": 8,
     "metadata": {},
     "output_type": "execute_result"
    }
   ],
   "source": [
    "# [ ] review and run example to read poem1.txt 10 characters at a time\n",
    "poem_file = open('poem1.txt', 'r')\n",
    "poem_10char = poem_file.read(10)\n",
    "print(poem_10char)\n",
    "poem_10char"
   ]
  },
  {
   "cell_type": "code",
   "execution_count": 9,
   "metadata": {},
   "outputs": [
    {
     "data": {
      "text/plain": [
       "'peat\\nloops'"
      ]
     },
     "execution_count": 9,
     "metadata": {},
     "output_type": "execute_result"
    }
   ],
   "source": [
    "# [ ] review and run example, + 10 more characters\n",
    "# reads and displays without storing in a variable\n",
    "poem_file.read(10)"
   ]
  },
  {
   "cell_type": "code",
   "execution_count": 10,
   "metadata": {},
   "outputs": [
    {
     "data": {
      "text/plain": [
       "'\\nloops\\nloo'"
      ]
     },
     "execution_count": 10,
     "metadata": {},
     "output_type": "execute_result"
    }
   ],
   "source": [
    "# [ ] review and run example, + 10 more characters\n",
    "# reads and displays without storing in a variable\n",
    "poem_file.read(10)"
   ]
  },
  {
   "cell_type": "code",
   "execution_count": 12,
   "metadata": {},
   "outputs": [
    {
     "name": "stdout",
     "output_type": "stream",
     "text": [
      "ps\n",
      "I repea\n"
     ]
    }
   ],
   "source": [
    "# [ ] review and run example, + 10 more characters\n",
    "# reads and stores in variable poem_parts\n",
    "poem_parts = poem_file.read(10)\n",
    "print(poem_parts)"
   ]
  },
  {
   "cell_type": "code",
   "execution_count": 14,
   "metadata": {},
   "outputs": [
    {
     "name": "stdout",
     "output_type": "stream",
     "text": [
      "ps\n",
      "I repeat\n",
      "until I\n",
      "\n"
     ]
    }
   ],
   "source": [
    "# [ ] REPEATEDLY RUN this cell,  + 5 more characters each time run are appended using string addition\n",
    "# [ ]  consider why no additional text displays after multiple runs\n",
    "poem_parts += poem_file.read(5)\n",
    "print(poem_parts)"
   ]
  },
  {
   "cell_type": "code",
   "execution_count": 16,
   "metadata": {},
   "outputs": [
    {
     "name": "stdout",
     "output_type": "stream",
     "text": [
      "  % Total    % Received % Xferd  Average Speed   Time    Time     Time  Current\n",
      "                                 Dload  Upload   Total   Spent    Left  Speed\n",
      "100   303  100   303    0     0   1880      0 --:--:-- --:--:-- --:--:--  1893\n",
      "3.14\n",
      "3.141592\n"
     ]
    }
   ],
   "source": [
    "!curl https://raw.githubusercontent.com/MicrosoftLearning/intropython/master/digits_of_pi -o digits_of_pi.txt\n",
    "digits_of_pi_text = open('digits_of_pi.txt', 'r')\n",
    "pi_digits = digits_of_pi_text.read(4)\n",
    "print(pi_digits)\n",
    "\n",
    "pi_digits += digits_of_pi_text.read(4)\n",
    "print(pi_digits)"
   ]
  },
  {
   "cell_type": "code",
   "execution_count": 17,
   "metadata": {},
   "outputs": [
    {
     "name": "stdout",
     "output_type": "stream",
     "text": [
      "LOOPS I REPEAT\n",
      "\n",
      "Loops\n",
      "\n",
      "loops\n",
      "\n",
      "False isalpha() because of `\\n`\n",
      "repeat\n",
      "loops\n",
      "loops\n"
     ]
    }
   ],
   "source": [
    "# [ ] review and run example\n",
    "poem_file = open('poem1.txt', 'r')\n",
    "poem_part = poem_file.read(15).upper()\n",
    "print(poem_part)\n",
    "# [ ] review and run example\n",
    "poem_part = poem_file.read(6).title()\n",
    "print(poem_part)\n",
    "# [ ] review and run example\n",
    "poem_part = poem_file.read(6)\n",
    "print(poem_part)\n",
    "print(poem_part.isalpha(), \"isalpha() because of `\\\\n`\")\n",
    "poem_part\n",
    "# [ ] review and run example\n",
    "poem_file = open('poem1.txt', 'r')\n",
    "poem_text = poem_file.read()\n",
    "print(poem_text[8:26])"
   ]
  },
  {
   "cell_type": "code",
   "execution_count": 22,
   "metadata": {},
   "outputs": [
    {
     "name": "stdout",
     "output_type": "stream",
     "text": [
      "Initials:\n",
      "B\n",
      "C\n",
      "L\n",
      "N\n",
      "NYC\n",
      "S\n",
      "T\n",
      "\n"
     ]
    }
   ],
   "source": [
    "cities_file = open('cities.txt', 'r')\n",
    "cities = cities_file.read()\n",
    "initials = \"\"\n",
    "\n",
    "for character in cities:\n",
    "    if character.isupper():\n",
    "        initials += character\n",
    "    elif character == \"\\n\":\n",
    "        initials += character\n",
    "\n",
    "print(\"Initials:\")\n",
    "print(initials)"
   ]
  },
  {
   "cell_type": "code",
   "execution_count": 23,
   "metadata": {},
   "outputs": [
    {
     "name": "stdout",
     "output_type": "stream",
     "text": [
      "Loops I repeat\n",
      "\n",
      "loops\n",
      "\n",
      "loops\n",
      "\n",
      "loops\n",
      "\n",
      "I repeat\n",
      "\n",
      "until I\n",
      "\n",
      "break\n",
      "\n"
     ]
    }
   ],
   "source": [
    "# [ ] review and run example\n",
    "# open address to file\n",
    "poem1 = open('poem1.txt', 'r')\n",
    "\n",
    "# readlines and print as a list\n",
    "poem_lines = poem1.readlines()\n",
    "poem_lines\n",
    "# [ ] review and run example\n",
    "for line in poem_lines:\n",
    "    print(line)"
   ]
  },
  {
   "cell_type": "code",
   "execution_count": 25,
   "metadata": {},
   "outputs": [
    {
     "name": "stdout",
     "output_type": "stream",
     "text": [
      "Beijing\n",
      "\n",
      "Cairo\n",
      "\n",
      "London\n",
      "\n",
      "Nairobi\n",
      "\n",
      "New York City\n",
      "\n",
      "Sydney\n",
      "\n",
      "Tokyo\n",
      "\n"
     ]
    }
   ],
   "source": [
    "cities_file = open('cities.txt', 'r')\n",
    "cities_lines = cities_file.readlines()\n",
    "\n",
    "for line in cities_lines:\n",
    "    print(line)"
   ]
  },
  {
   "cell_type": "code",
   "execution_count": 26,
   "metadata": {},
   "outputs": [
    {
     "name": "stdout",
     "output_type": "stream",
     "text": [
      "['Loops I repeat\\n', 'loops\\n', 'loops\\n', 'loops\\n', 'I repeat\\n', 'until I\\n', 'break\\n']\n",
      "Loops I repeat\n",
      "\n",
      "loops\n",
      "\n",
      "loops\n",
      "\n",
      "loops\n",
      "\n",
      "I repeat\n",
      "\n",
      "until I\n",
      "\n",
      "break\n",
      "\n",
      "['Loops I repeat', 'loops', 'loops', 'loops', 'I repeat', 'until I', 'break']\n",
      "Loops I repeat\n",
      "loops\n",
      "loops\n",
      "loops\n",
      "I repeat\n",
      "until I\n",
      "break\n"
     ]
    }
   ],
   "source": [
    "poem1 = open('poem1.txt', 'r')\n",
    "poem_lines = poem1.readlines()\n",
    "print(poem_lines)\n",
    "# [ ] print each list item \n",
    "for line in poem_lines:\n",
    "    print(line)\n",
    "# [ ] remove the last character of each list item, which is \"\\n\"\n",
    "count = 0\n",
    "\n",
    "for line in poem_lines:\n",
    "    poem_lines[count] = line[:-1]\n",
    "    count += 1\n",
    "\n",
    "print(poem_lines)\n",
    "# [ ] print each list item \n",
    "for line in poem_lines:\n",
    "    print(line)"
   ]
  },
  {
   "cell_type": "code",
   "execution_count": 30,
   "metadata": {},
   "outputs": [
    {
     "name": "stdout",
     "output_type": "stream",
     "text": [
      "7\n",
      "['Beijing', 'Cairo', 'London', 'Nairobi', 'New York City', 'Sydney', 'Tokyo']\n"
     ]
    }
   ],
   "source": [
    "cities_file = open('cities.txt', 'r')\n",
    "cities_lines = cities_file.readlines()\n",
    "count = 0\n",
    "\n",
    "for line in cities_lines:\n",
    "    cities_lines[count] = line[:-1]\n",
    "    count += 1\n",
    "\n",
    "print(cities_lines)"
   ]
  },
  {
   "cell_type": "code",
   "execution_count": 31,
   "metadata": {},
   "outputs": [
    {
     "name": "stdout",
     "output_type": "stream",
     "text": [
      "['Loops I repeat\\n', 'loops\\n', 'loops\\n', 'loops\\n', 'I repeat\\n', 'until I\\n', 'break\\n']\n"
     ]
    }
   ],
   "source": [
    "# [ ] review and run example: open and readlines of poem1.txt\n",
    "poem1 = open('poem1.txt', 'r')\n",
    "# [ ] review and run example: readlines breaks if file is no longer open\n",
    "\n",
    "poem_lines = poem1.readlines()\n",
    "print(poem_lines)\n",
    "# [ ] review and run example: Close poem1\n",
    "poem1.close()"
   ]
  },
  {
   "cell_type": "code",
   "execution_count": 2,
   "metadata": {},
   "outputs": [
    {
     "ename": "FileNotFoundError",
     "evalue": "[Errno 2] No such file or directory: 'cities.txt'",
     "output_type": "error",
     "traceback": [
      "\u001b[1;31m---------------------------------------------------------------------------\u001b[0m",
      "\u001b[1;31mFileNotFoundError\u001b[0m                         Traceback (most recent call last)",
      "\u001b[1;32m<ipython-input-2-0efea93d9027>\u001b[0m in \u001b[0;36m<module>\u001b[1;34m()\u001b[0m\n\u001b[1;32m----> 1\u001b[1;33m \u001b[0mcities_file\u001b[0m \u001b[1;33m=\u001b[0m \u001b[0mopen\u001b[0m\u001b[1;33m(\u001b[0m\u001b[1;34m'cities.txt'\u001b[0m\u001b[1;33m,\u001b[0m \u001b[1;34m'r'\u001b[0m\u001b[1;33m)\u001b[0m\u001b[1;33m\u001b[0m\u001b[0m\n\u001b[0m\u001b[0;32m      2\u001b[0m \u001b[0mcities_lines\u001b[0m \u001b[1;33m=\u001b[0m \u001b[0mcities_file\u001b[0m\u001b[1;33m.\u001b[0m\u001b[0mreadlines\u001b[0m\u001b[1;33m(\u001b[0m\u001b[1;33m)\u001b[0m\u001b[1;33m\u001b[0m\u001b[0m\n\u001b[0;32m      3\u001b[0m \u001b[1;33m\u001b[0m\u001b[0m\n\u001b[0;32m      4\u001b[0m \u001b[0mD_cities\u001b[0m \u001b[1;33m=\u001b[0m \u001b[1;34m\"\"\u001b[0m\u001b[1;33m\u001b[0m\u001b[0m\n\u001b[0;32m      5\u001b[0m \u001b[1;33m\u001b[0m\u001b[0m\n",
      "\u001b[1;31mFileNotFoundError\u001b[0m: [Errno 2] No such file or directory: 'cities.txt'"
     ]
    }
   ],
   "source": [
    "\n",
    "cities_file = open('cities.txt', 'r')\n",
    "cities_lines = cities_file.readlines()\n",
    "\n",
    "D_cities = \"\"\n",
    "\n",
    "for city in cities_lines:\n",
    "    if city[0] >= \"D\":\n",
    "        D_cities += city\n",
    "\n",
    "print(D_cities)\n",
    "cities_file.close()"
   ]
  },
  {
   "cell_type": "code",
   "execution_count": 3,
   "metadata": {},
   "outputs": [
    {
     "name": "stdout",
     "output_type": "stream",
     "text": [
      " Volume in drive C has no label.\n",
      " Volume Serial Number is 8003-A480\n",
      "\n",
      " Directory of C:\\Users\\sandr\\python\\Intro to Python\n",
      "\n",
      "12/19/2017  08:57 PM    <DIR>          .\n",
      "12/19/2017  08:57 PM    <DIR>          ..\n",
      "12/19/2017  08:57 PM    <DIR>          .ipynb_checkpoints\n",
      "10/02/2017  03:08 PM            37,212 Intro to Python - Absolute Beginner.ipynb\n",
      "11/06/2017  10:21 AM             8,939 Introduction to Python - Fundamentals.ipynb\n",
      "12/19/2017  08:49 PM            43,967 Tasks Module 4.ipynb\n",
      "               3 File(s)         90,118 bytes\n",
      "               3 Dir(s)  166,759,239,680 bytes free\n"
     ]
    }
   ],
   "source": [
    "ls"
   ]
  },
  {
   "cell_type": "code",
   "execution_count": 39,
   "metadata": {},
   "outputs": [
    {
     "name": "stdout",
     "output_type": "stream",
     "text": [
      "  % Total    % Received % Xferd  Average Speed   Time    Time     Time  Current\n",
      "                                 Dload  Upload   Total   Spent    Left  Speed\n",
      "100    57  100    57    0     0    358      0 --:--:-- --:--:-- --:--:--   360\n",
      "e\n",
      "n\n",
      "d\n",
      "\n",
      "\n"
     ]
    },
    {
     "ename": "IndexError",
     "evalue": "string index out of range",
     "output_type": "error",
     "traceback": [
      "\u001b[0;31m---------------------------------------------------------------------------\u001b[0m",
      "\u001b[0;31mIndexError\u001b[0m                                Traceback (most recent call last)",
      "\u001b[0;32m<ipython-input-39-e7a16d57f53d>\u001b[0m in \u001b[0;36m<module>\u001b[0;34m()\u001b[0m\n\u001b[1;32m      9\u001b[0m \u001b[0;34m\u001b[0m\u001b[0m\n\u001b[1;32m     10\u001b[0m \u001b[0;32mfor\u001b[0m \u001b[0mi\u001b[0m \u001b[0;32min\u001b[0m \u001b[0mrange\u001b[0m\u001b[0;34m(\u001b[0m\u001b[0mlen\u001b[0m\u001b[0;34m(\u001b[0m\u001b[0mpoem2_lines\u001b[0m\u001b[0;34m)\u001b[0m\u001b[0;34m-\u001b[0m\u001b[0;36m1\u001b[0m\u001b[0;34m)\u001b[0m\u001b[0;34m:\u001b[0m\u001b[0;34m\u001b[0m\u001b[0m\n\u001b[0;32m---> 11\u001b[0;31m     \u001b[0mprint\u001b[0m\u001b[0;34m(\u001b[0m\u001b[0mline\u001b[0m\u001b[0;34m[\u001b[0m\u001b[0mi\u001b[0m\u001b[0;34m]\u001b[0m\u001b[0;34m)\u001b[0m\u001b[0;34m\u001b[0m\u001b[0m\n\u001b[0m",
      "\u001b[0;31mIndexError\u001b[0m: string index out of range"
     ]
    }
   ],
   "source": [
    "!curl https://raw.githubusercontent.com/MicrosoftLearning/intropython/master/poem2.txt -o poem2.txt\n",
    "poem2_file = open('poem2.txt', 'r')\n",
    "poem2_lines = poem2_file.readlines()\n",
    "count = 0\n",
    "\n",
    "for line in poem2_lines:\n",
    "    poem2_lines[count] = line[:-1]\n",
    "    count += 1\n",
    "\n",
    "for i in range(len(poem2_lines)-1):\n",
    "    print(line[i])"
   ]
  },
  {
   "cell_type": "code",
   "execution_count": 43,
   "metadata": {},
   "outputs": [
    {
     "name": "stdout",
     "output_type": "stream",
     "text": [
      "Loops I repeat\n",
      "loops\n",
      "loops\n",
      "\n",
      "loops\n",
      "\n"
     ]
    }
   ],
   "source": [
    "# [ ] review and run example\n",
    "# open address to file\n",
    "poem1 = open('poem1.txt', 'r')\n",
    "# [ ] review and run example"
   ]
  },
  {
   "cell_type": "code",
   "execution_count": 47,
   "metadata": {},
   "outputs": [
    {
     "ename": "ValueError",
     "evalue": "I/O operation on closed file.",
     "output_type": "error",
     "traceback": [
      "\u001b[0;31m---------------------------------------------------------------------------\u001b[0m",
      "\u001b[0;31mValueError\u001b[0m                                Traceback (most recent call last)",
      "\u001b[0;32m<ipython-input-47-1681895e1fd0>\u001b[0m in \u001b[0;36m<module>\u001b[0;34m()\u001b[0m\n\u001b[1;32m      1\u001b[0m \u001b[0;31m# readline 1, 2, 3\u001b[0m\u001b[0;34m\u001b[0m\u001b[0;34m\u001b[0m\u001b[0m\n\u001b[0;32m----> 2\u001b[0;31m \u001b[0mpoem_line1\u001b[0m \u001b[0;34m=\u001b[0m \u001b[0mpoem1\u001b[0m\u001b[0;34m.\u001b[0m\u001b[0mreadline\u001b[0m\u001b[0;34m(\u001b[0m\u001b[0;34m)\u001b[0m\u001b[0;34m\u001b[0m\u001b[0m\n\u001b[0m\u001b[1;32m      3\u001b[0m \u001b[0mpoem_line2\u001b[0m \u001b[0;34m=\u001b[0m \u001b[0mpoem1\u001b[0m\u001b[0;34m.\u001b[0m\u001b[0mreadline\u001b[0m\u001b[0;34m(\u001b[0m\u001b[0;34m)\u001b[0m\u001b[0;34m\u001b[0m\u001b[0m\n\u001b[1;32m      4\u001b[0m \u001b[0mpoem_line3\u001b[0m \u001b[0;34m=\u001b[0m \u001b[0mpoem1\u001b[0m\u001b[0;34m.\u001b[0m\u001b[0mreadline\u001b[0m\u001b[0;34m(\u001b[0m\u001b[0;34m)\u001b[0m\u001b[0;34m\u001b[0m\u001b[0m\n\u001b[1;32m      5\u001b[0m \u001b[0;31m# [ ] review and run example: print the first 3 .readline() values\u001b[0m\u001b[0;34m\u001b[0m\u001b[0;34m\u001b[0m\u001b[0m\n",
      "\u001b[0;31mValueError\u001b[0m: I/O operation on closed file."
     ]
    }
   ],
   "source": [
    "# readline 1, 2, 3\n",
    "poem_line1 = poem1.readline()\n",
    "poem_line2 = poem1.readline()\n",
    "poem_line3 = poem1.readline()\n",
    "# [ ] review and run example: print the first 3 .readline() values\n",
    "print(poem_line1 + poem_line2 + poem_line3)\n",
    "# [ ] review and run example printing return value & re-run several times\n",
    "print(poem1.readline())"
   ]
  },
  {
   "cell_type": "code",
   "execution_count": 46,
   "metadata": {
    "collapsed": true
   },
   "outputs": [],
   "source": [
    "# [ ] review and run example to close file in memory- then run previous cell\n",
    "\n",
    "poem1.close()"
   ]
  },
  {
   "cell_type": "code",
   "execution_count": 54,
   "metadata": {
    "collapsed": true
   },
   "outputs": [],
   "source": [
    "rainbow_file = open('rainbow.txt', 'r')\n",
    "color_1 = rainbow_file.readline()\n",
    "color_2 = rainbow_file.readline()\n",
    "color_3 = rainbow_file.readline()\n"
   ]
  },
  {
   "cell_type": "code",
   "execution_count": 53,
   "metadata": {},
   "outputs": [
    {
     "name": "stdout",
     "output_type": "stream",
     "text": [
      "red\n",
      "orange\n",
      "yellow\n",
      "\n"
     ]
    }
   ],
   "source": [
    "rainbow_file.close()\n",
    "print(color_1 + color_2 + color_3)"
   ]
  },
  {
   "cell_type": "code",
   "execution_count": 55,
   "metadata": {},
   "outputs": [
    {
     "name": "stdout",
     "output_type": "stream",
     "text": [
      "LOOPS I REPEAT\n",
      "LOOPS\n",
      "LOOPS\n",
      "LOOPS\n",
      "I REPEAT\n",
      "UNTIL I\n",
      "BREAK\n"
     ]
    }
   ],
   "source": [
    "# [ ] review and run example\n",
    "# open address to file\n",
    "poem1 = open('poem1.txt', 'r')\n",
    "# [ ] review and run example - use a while loop to read each line of a file \n",
    "#  remove last character ('\\n') and print as upper case\n",
    "poem_line = poem1.readline()\n",
    "\n",
    "while poem_line:\n",
    "    print(poem_line[:-1].upper())\n",
    "    poem_line = poem1.readline()\n",
    "# [ ] review and run example\n",
    "poem1.close()"
   ]
  },
  {
   "cell_type": "code",
   "execution_count": 3,
   "metadata": {},
   "outputs": [
    {
     "name": "stdout",
     "output_type": "stream",
     "text": [
      "Red\n",
      "Orange\n",
      "Yellow\n",
      "Green\n",
      "Blue\n",
      "Indigo\n",
      "Violet\n"
     ]
    }
   ],
   "source": [
    "rainbow_file = open('rainbow.txt', 'r')\n",
    "rainbow_line = rainbow_file.readline()\n",
    "\n",
    "while rainbow_line:\n",
    "    print(rainbow_line[:-1].capitalize())\n",
    "    rainbow_line = rainbow_file.readline()\n",
    "    \n",
    "rainbow_file.close()"
   ]
  },
  {
   "cell_type": "code",
   "execution_count": 4,
   "metadata": {},
   "outputs": [
    {
     "name": "stdout",
     "output_type": "stream",
     "text": [
      "Loops I repeat\n",
      "\n",
      "loops\n",
      "\n",
      "loops\n",
      "\n",
      "loops\n",
      "\n",
      "I repeat\n",
      "\n",
      "until I\n",
      "\n",
      "break\n",
      "\n"
     ]
    }
   ],
   "source": [
    "# [ ] review and run example\n",
    "# open address to file\n",
    "poem1 = open('poem1.txt', 'r')\n",
    "\n",
    "# [ ] review and run example - readline while loop without removing '\\n'\n",
    "poem_line = poem1.readline()\n",
    "\n",
    "while poem_line:\n",
    "    print(poem_line)\n",
    "    poem_line = poem1.readline()\n",
    "\n",
    "poem1.close()"
   ]
  },
  {
   "cell_type": "code",
   "execution_count": 5,
   "metadata": {},
   "outputs": [
    {
     "name": "stdout",
     "output_type": "stream",
     "text": [
      "Loops I repeat\n",
      "loops\n",
      "loops\n",
      "loops\n",
      "I repeat\n",
      "until I\n",
      "break\n"
     ]
    }
   ],
   "source": [
    "# [ ] review and run example - readline with .strip() to remove '\\n'\n",
    "poem1 = open('poem1.txt', 'r')\n",
    "poem_line = poem1.readline().strip()\n",
    "\n",
    "while poem_line:\n",
    "    print(poem_line)\n",
    "    poem_line = poem1.readline().strip()\n",
    "    \n",
    "poem1.close()"
   ]
  },
  {
   "cell_type": "code",
   "execution_count": 6,
   "metadata": {},
   "outputs": [
    {
     "name": "stdout",
     "output_type": "stream",
     "text": [
      "RED\n",
      "ORANGE\n",
      "YELLOW\n",
      "GREEN\n",
      "BLUE\n",
      "INDIGO\n",
      "VIOLET\n"
     ]
    }
   ],
   "source": [
    "rainbow_file = open('rainbow.txt', 'r')\n",
    "rainbow_line = rainbow_file.readline().strip()\n",
    "\n",
    "while rainbow_line:\n",
    "    print(rainbow_line.upper())\n",
    "    rainbow_line = rainbow_file.readline().strip()\n",
    "    \n",
    "rainbow_file.close()"
   ]
  },
  {
   "cell_type": "code",
   "execution_count": 7,
   "metadata": {},
   "outputs": [
    {
     "name": "stdout",
     "output_type": "stream",
     "text": [
      "  % Total    % Received % Xferd  Average Speed   Time    Time     Time  Current\n",
      "                                 Dload  Upload   Total   Spent    Left  Speed\n",
      "100    71  100    71    0     0    179      0 --:--:-- --:--:-- --:--:--   179\n",
      "**red**\n",
      "\n",
      "**orange**\n",
      "\n",
      "**yellow**\n",
      "\n",
      "**green**\n",
      "\n",
      "**blue**\n",
      "\n",
      "**indigo**\n",
      "\n",
      "**violet**\n",
      "\n",
      "red\n",
      "orange\n",
      "yellow\n",
      "green\n",
      "blue\n",
      "indigo\n",
      "violet\n"
     ]
    }
   ],
   "source": [
    "# [ ] review and run example: import rainbow_messy.txt\n",
    "!curl https://raw.githubusercontent.com/MicrosoftLearning/intropython/master/rainbow_messy -o rainbow_messy.txt\n",
    "# [ ] review and run example: open file read only\n",
    "rainbow_messy = open('rainbow_messy.txt', 'r')\n",
    "# [ ] review and run example: .readline() without .strip()\n",
    "\n",
    "color = rainbow_messy.readline()\n",
    "\n",
    "while color:\n",
    "    print(color)\n",
    "    color = rainbow_messy.readline()\n",
    "# [ ] review and run example: strip \"*\" and newline ('\\n')\n",
    "rainbow_messy = open('rainbow_messy.txt', 'r')\n",
    "\n",
    "color = rainbow_messy.readline().strip('*\\n')\n",
    "\n",
    "while color:\n",
    "    print(color)\n",
    "    color = rainbow_messy.readline().strip('*\\n')\n",
    "\n",
    "rainbow_messy.close()"
   ]
  },
  {
   "cell_type": "code",
   "execution_count": 11,
   "metadata": {},
   "outputs": [
    {
     "name": "stdout",
     "output_type": "stream",
     "text": [
      "  % Total    % Received % Xferd  Average Speed   Time    Time     Time  Current\n",
      "                                 Dload  Upload   Total   Spent    Left  Speed\n",
      "100    77  100    77    0     0    485      0 --:--:-- --:--:-- --:--:--   490\n",
      "  Beijing\n",
      "  Cairo\n",
      "  London\n",
      "  Nairobi\n",
      "  New York City\n",
      "  Sydney\n",
      "  Tokyo\n"
     ]
    }
   ],
   "source": [
    "!curl https://raw.githubusercontent.com/MicrosoftLearning/intropython/master/cities_messy -o cities_messy.txt\n",
    "cities_messy = open('cities_messy.txt', 'r')\n",
    "line = cities_messy.readline().strip(':\\n')\n",
    "\n",
    "while line:\n",
    "    print(line)\n",
    "    line = cities_messy.readline().strip(':\\n')"
   ]
  },
  {
   "cell_type": "code",
   "execution_count": 13,
   "metadata": {},
   "outputs": [
    {
     "name": "stdout",
     "output_type": "stream",
     "text": [
      "  % Total    % Received % Xferd  Average Speed   Time    Time     Time  Current\n",
      "                                 Dload  Upload   Total   Spent    Left  Speed\n",
      "100    75  100    75    0     0    443      0 --:--:-- --:--:-- --:--:--   449\n",
      "while True\n",
      "I loop\n",
      "True\n",
      "loop\n",
      "True\n",
      "loop\n",
      "not True\n",
      "False\n",
      "end\n"
     ]
    }
   ],
   "source": [
    "!curl https://raw.githubusercontent.com/MicrosoftLearning/intropython/master/poem2_messy -o poem2_messy.txt\n",
    "poem2_messy = open('poem2_messy.txt', 'r')\n",
    "line = poem2_messy.readline().strip(\"()\\n\")\n",
    "\n",
    "while line:\n",
    "    print(line)\n",
    "    line = poem2_messy.readline().strip(\"()\\n\")\n",
    "    \n",
    "poem2_messy.close()"
   ]
  },
  {
   "cell_type": "code",
   "execution_count": 14,
   "metadata": {},
   "outputs": [
    {
     "name": "stdout",
     "output_type": "stream",
     "text": [
      "This is line #1 with 'w'\n",
      "This is line #2 with 'w'\n",
      "This is line #3 withn 'w'!\n",
      "\n"
     ]
    }
   ],
   "source": [
    "# [ ] review and run example\n",
    "# - creates a new local file or overwrites the local file (makes it blank)\n",
    "new_file = open('new_file.txt', 'w')\n",
    "# [ ] review and run example to write some text to the file\n",
    "new_file.write(\"This is line #1 with 'w'\\nThis is line #2 with 'w'\\nThis is line #3 withn 'w'!\\n\")\n",
    "# [ ] review and run example\n",
    "# - close file and re-open in read mode \n",
    "# - head pointer is at start of file\n",
    "new_file.close()\n",
    "new_file = open('new_file.txt', 'r')\n",
    "# [ ] review and run example to see what was written to the file\n",
    "new_text = new_file.read()\n",
    "print(new_text)\n",
    "\n",
    "new_file.close()"
   ]
  },
  {
   "cell_type": "code",
   "execution_count": 17,
   "metadata": {},
   "outputs": [
    {
     "name": "stdout",
     "output_type": "stream",
     "text": [
      "Mercury\n",
      "Venus\n",
      "Earth\n",
      "Mars\n"
     ]
    }
   ],
   "source": [
    "inner_planets = open('inner_planets.txt', 'w')\n",
    "inner_planets.write(\"Mercury\\nVenus\\nEarth\\nMars\")\n",
    "inner_planets.close()\n",
    "\n",
    "inner_planets = open('inner_planets.txt', 'r')\n",
    "inner_planets_text = inner_planets.read()\n",
    "print(inner_planets_text)\n",
    "inner_planets.close()"
   ]
  },
  {
   "cell_type": "code",
   "execution_count": 18,
   "metadata": {},
   "outputs": [
    {
     "name": "stdout",
     "output_type": "stream",
     "text": [
      "\n",
      "\n"
     ]
    }
   ],
   "source": [
    "# [ ] review and run example\n",
    "# creates a new local file or overwrites the local file (makes it blank)\n",
    "new_file = open('new_file.txt', 'w+')\n",
    "# write plus read 'w+'\n",
    "# 'w+' overwrites existing files of the same name - rendering the file blank\n",
    "# the file is writable and readable\n",
    "\n",
    "# [ ] review and run example to see what was written to the file \n",
    "# - 'w+' overwrites, we can read, but the file is ***BLANK***\n",
    "new_text = new_file.read()\n",
    "print(new_text)\n",
    "# [ ] review and run - write to the blank file\n",
    "new_file.write(\"This is line #1 with 'w+'\\nThis is line #2 with 'w+'\\n\")\n",
    "# [ ] review and run example - read and print (Note: the pointer is at the end of the file - result = empty string)  \n",
    "new_text = new_file.read()\n",
    "\n",
    "print(new_text)"
   ]
  },
  {
   "cell_type": "code",
   "execution_count": 19,
   "metadata": {},
   "outputs": [
    {
     "name": "stdout",
     "output_type": "stream",
     "text": [
      "This is line #1 with 'w+'\n",
      "This is line #2 with 'w+'\n",
      "\n"
     ]
    }
   ],
   "source": [
    "# [ ] review and run example - sets pointer to beginning of file\n",
    "new_file.seek(0)\n",
    "# [ ] review and run example - now read starts from beginning of file\n",
    "new_text = new_file.read()\n",
    "print(new_text)\n",
    "\n",
    "# # [ ] review and run example - clean up and close file\n",
    "new_file.close()"
   ]
  },
  {
   "cell_type": "code",
   "execution_count": 21,
   "metadata": {},
   "outputs": [
    {
     "name": "stdout",
     "output_type": "stream",
     "text": [
      "Jupiter\n",
      "Saturn\n",
      "Uranus\n",
      "Neptune\n"
     ]
    }
   ],
   "source": [
    "outer_planets = open('outer_planets.txt', 'w+')\n",
    "outer_planets.write(\"Jupiter\\nSaturn\\nUranus\\nNeptune\")\n",
    "outer_planets.seek(0)\n",
    "outer_planets_text = outer_planets.read()\n",
    "print(outer_planets_text)\n",
    "outer_planets.close()"
   ]
  },
  {
   "cell_type": "code",
   "execution_count": 22,
   "metadata": {},
   "outputs": [
    {
     "name": "stdout",
     "output_type": "stream",
     "text": [
      "-use simple function and variable names\n",
      "-comment code\n",
      "-organize code into functions\n",
      "\n",
      "unction and variable names\n",
      "-comment code\n",
      "-organize code into functions\n",
      "\n",
      "unction and variable names\n",
      "-comment code\n",
      "-organize code into functions\n",
      "\n",
      "-use simple function and variable names\n",
      "-comment code\n",
      "-organize code into functions\n",
      "-use seek(0,2) to set read/write at end of file\n",
      "\n",
      "-USE SIMPLE FUNCTION AND VARIABLE NAMES\n",
      "-comment code\n",
      "-organize code into functions\n",
      "-use seek(0,2) to set read/write at end of file\n",
      "\n"
     ]
    }
   ],
   "source": [
    "# [ ] review and run - create, write, read and print a file\n",
    "tips_file = open('code_tips.txt', 'w+')\n",
    "tips_file.write('-use simple function and variable names\\n-comment code\\n-organize code into functions\\n')\n",
    "tips_file.seek(0)\n",
    "tips_text = tips_file.read()\n",
    "print(tips_text)\n",
    "# [ ] review and run example - setting a specific seek() index \n",
    "tips_file.seek(13)\n",
    "# now read starts from 14th character of file\n",
    "tips_text = tips_file.read()\n",
    "print(tips_text)\n",
    "# [ ] review and run example - string slicing on a read of an entire file\n",
    "# read from the start\n",
    "tips_file.seek(0)\n",
    "tips_text = tips_file.read()\n",
    "\n",
    "# slice from the 14th character to end\n",
    "print(tips_text[13:])\n",
    "\n",
    "# [ ] review and run example - setting pointer to end of file with whence value = 2\n",
    "tips_file.seek(0,2)\n",
    "tips_file.write(\"-use seek(0,2) to set read/write at end of file\\n\")\n",
    "\n",
    "# read from beginning of file - .seek(0,0) is same as .seek(0)\n",
    "tips_file.seek(0,0)\n",
    "tips_text = tips_file.read()\n",
    "print(tips_text)\n",
    "# [ ] review and run example - point to file beginning and overwrite 1st line\n",
    "tips_file.seek(0)\n",
    "tips_file.write('-use simple function and variable names\\n'.upper())\n",
    "\n",
    "# [ ] review and run example - show new file contents\n",
    "tips_file.seek(0,0)\n",
    "tips_text = tips_file.read()\n",
    "print(tips_text)"
   ]
  },
  {
   "cell_type": "code",
   "execution_count": 28,
   "metadata": {},
   "outputs": [
    {
     "name": "stdout",
     "output_type": "stream",
     "text": [
      "Monday\n",
      "Tuesday\n",
      "Wednesday\n",
      "Thursday\n",
      "Friday\n",
      "\u0000\u0000Saturday\n",
      "Sunday\n"
     ]
    }
   ],
   "source": [
    "days_file = open('days.txt', 'w+')\n",
    "days_file.write(\"Monday\\nTuesday\\nWednesday\\nThursday\\nFriday\")\n",
    "days_file.seek(0)\n",
    "days_file_text = days_file.read()\n",
    "print(days_file_text)\n",
    "days_file.close()\n",
    "\n",
    "days_file = open('days.txt', 'w+')\n",
    "days_file.seek(2,0)\n",
    "days_file.write(\"Saturday\\nSunday\")\n",
    "days_file.seek(0)\n",
    "days_file_new_text = days_file.read()\n",
    "print(days_file_new_text)\n",
    "days_file.close()"
   ]
  },
  {
   "cell_type": "code",
   "execution_count": 1,
   "metadata": {},
   "outputs": [
    {
     "name": "stdout",
     "output_type": "stream",
     "text": [
      "enter log item (enter to quit): Watch python video\n",
      "enter log item (enter to quit): read sample code\n",
      "enter log item (enter to quit): perform the task\n",
      "enter log item (enter to quit): \n",
      "\n",
      "1: Watch python video\n",
      "2: read sample code\n",
      "3: perform the task\n",
      "\n"
     ]
    }
   ],
   "source": [
    "# [ ] review and run example - function writes to the open log argument\n",
    "# loads function into memory but the function is not called\n",
    "def logger(log):\n",
    "    log_entry = input(\"enter log item (enter to quit): \")\n",
    "    count = 0\n",
    "\n",
    "    while log_entry:\n",
    "        count += 1\n",
    "        log.write(str(count) + \": \" + log_entry + \"\\n\")\n",
    "        log_entry = input(\"enter log item (enter to quit): \")\n",
    "        \n",
    "    return count\n",
    "    \n",
    "# [ ] review and run example: makes a blank file  (initialize/reset)\n",
    "\n",
    "log_file = open('log_file.txt', 'w+')\n",
    "log_file.close()\n",
    "\n",
    "# [ ] review and run example - opens the log_file before passing to logger() function call, below\n",
    "# allows for calls below to run several times appending to the end of log_file\n",
    "\n",
    "log_file = open('log_file.txt', 'a+')\n",
    "# [ ] review and run example - calls the above logger() function\n",
    "# what happens running the cell above (a+) again before running this cell again? \n",
    "# what happens if log_file.seek(0) is run before an append?\n",
    "\n",
    "logger(log_file)    \n",
    "\n",
    "log_file.seek(0)\n",
    "log_text = log_file.read()\n",
    "\n",
    "print()\n",
    "print(log_text)\n",
    "log_file.close()"
   ]
  },
  {
   "cell_type": "code",
   "execution_count": 2,
   "metadata": {},
   "outputs": [
    {
     "name": "stdout",
     "output_type": "stream",
     "text": [
      "Count is: 0\n"
     ]
    }
   ],
   "source": [
    "# [ ] review and run example - create a file with initial count of 0\n",
    "count_file = open(\"count_file.txt\", \"w+\")\n",
    "\n",
    "count_file.write(\"Count is: 0\")\n",
    "count_file.seek(0)\n",
    "print(count_file.readline().strip())\n",
    "\n",
    "count_file.close()"
   ]
  },
  {
   "cell_type": "code",
   "execution_count": 3,
   "metadata": {},
   "outputs": [
    {
     "name": "stdout",
     "output_type": "stream",
     "text": [
      "BEFORE\n",
      "Count is: 0\n",
      "\n",
      "AFTER\n",
      "Count is: 1\n",
      "BEFORE\n",
      "Count is: 1\n",
      "\n",
      "AFTER inc_count() call 1 \n",
      "Count is: 2\n",
      "\n",
      "AFTER inc_count() call 2 \n",
      "Count is: 3\n",
      "\n",
      "AFTER inc_count() call 3 \n",
      "Count is: 4\n",
      "\n",
      "AFTER inc_count() call 4 \n",
      "Count is: 5\n",
      "\n",
      "AFTER inc_count() call 5 \n",
      "Count is: 6\n"
     ]
    }
   ],
   "source": [
    "# [ ] review and run example - can rerun this cell\n",
    "count_file = open(\"count_file.txt\", \"r+\")\n",
    "\n",
    "count_file.seek(0)\n",
    "count_line = count_file.readline().strip()\n",
    "print(\"BEFORE\\n\" + count_line)\n",
    "\n",
    "# get the int character(s) after the colon and space, cast and increment\n",
    "count = int(count_line[10:])+1\n",
    "\n",
    "# write the incremented value to the file - overwrite before value\n",
    "count_file.seek(10)\n",
    "count_file.write(str(count))\n",
    "\n",
    "count_file.seek(0)\n",
    "print(\"\\nAFTER\\n\" + count_file.readline().strip())\n",
    "\n",
    "count_file.close()\n",
    "# [ ]  review funtion code for inc_count() funtion that reads file and updates the count\n",
    "# the file always has 1 line that is The count is: N, where N is an integer\n",
    "def inc_count(cnt_file):\n",
    "    cnt_file.seek(0,0)\n",
    "    cnt_line = cnt_file.readline().strip()\n",
    "    cnt = int(cnt_line[10:])+1\n",
    "    cnt_file.seek(10,0)\n",
    "    cnt_file.write(str(cnt))\n",
    "    return cnt\n",
    "# [ ] review and run example with call to function: inc_count() - **Run cell multiple times**\n",
    "# opens file/prints initial value\n",
    "count_file = open(\"count_file.txt\", \"r+\")\n",
    "\n",
    "count_file.seek(0)\n",
    "count_line = count_file.readline().strip()\n",
    "print(\"BEFORE\\n\" + count_line)\n",
    "\n",
    "# call inc_count() to increase the count 5 times\n",
    "for i in range(5):\n",
    "    count = inc_count(count_file)\n",
    "    count_file.seek(0)\n",
    "    print(\"\\nAFTER inc_count() call\", i+1, \"\\n\" + count_file.readline().strip())\n",
    "\n",
    "count_file.close()"
   ]
  },
  {
   "cell_type": "code",
   "execution_count": 5,
   "metadata": {},
   "outputs": [
    {
     "name": "stdout",
     "output_type": "stream",
     "text": [
      "Line1\n",
      "Line2\n",
      "Line3\n",
      "\n"
     ]
    }
   ],
   "source": [
    "task4_file = open('task4_file.txt', 'w+')\n",
    "task4_file.write(\"Line1\\nLine2\\nLine3\\n\")\n",
    "task4_file.close()\n",
    "\n",
    "task4_file = open ('task4_file.txt', 'a+')\n",
    "\n",
    "for item in task4_file:\n",
    "    task4_file.write(\"append #\" + str(item) + \"\\n\")\n",
    "    \n",
    "task4_file.seek(0)\n",
    "task4_file_contents = task4_file.read()\n",
    "print(task4_file_contents)"
   ]
  },
  {
   "cell_type": "code",
   "execution_count": 8,
   "metadata": {},
   "outputs": [
    {
     "name": "stdout",
     "output_type": "stream",
     "text": [
      "Before:\n",
      "Line---1\n",
      "Line---2\n",
      "Line---3\n",
      "Line---4\n",
      "Line---5\n",
      "Line---6\n",
      "Line---7\n",
      "Line---8\n",
      "Line---9\n",
      "Line--10\n",
      "\n",
      "\n",
      "Line---9\n",
      "Line--10\n",
      "\n"
     ]
    }
   ],
   "source": [
    "task5_file = open('task5_file.txt', 'w+')\n",
    "task5_file.write(\"Line---1\\nLine---2\\nLine---3\\nLine---4\\nLine---5\\nLine---6\\nLine---7\\nLine---8\\nLine---9\\nLine--10\\n\")\n",
    "task5_file.seek(0)\n",
    "print(\"Before:\\n\"+ task5_file.read()+\"\\n\")\n",
    "task5_file.close()\n",
    "\n",
    "task5_file = open('task5_file.txt', 'r+')\n",
    "\n",
    "for item in range(1,5):\n",
    "    task5_file.write(\"append#\" + str(item) + \"\\n\")\n",
    "    task5_file.seek(item*18)\n",
    "    \n",
    "task5_file_text = task5_file.read()\n",
    "print(task5_file_text)"
   ]
  },
  {
   "cell_type": "markdown",
   "metadata": {},
   "source": [
    "Practice"
   ]
  },
  {
   "cell_type": "code",
   "execution_count": 10,
   "metadata": {},
   "outputs": [
    {
     "name": "stdout",
     "output_type": "stream",
     "text": [
      "blue\n",
      "\n",
      "green\n",
      "\n",
      "indigo\n",
      "\n",
      "orange\n",
      "\n",
      "red\n",
      "\n",
      "violet\n",
      "\n",
      "yellow\n",
      "\n"
     ]
    }
   ],
   "source": [
    "rainbow_file = open('rainbow.txt', 'r')\n",
    "rainbow_colors = rainbow_file.readlines()\n",
    "\n",
    "rainbow_colors.sort()\n",
    "\n",
    "for color in rainbow_colors:\n",
    "    print(color)"
   ]
  },
  {
   "cell_type": "code",
   "execution_count": 15,
   "metadata": {},
   "outputs": [
    {
     "name": "stdout",
     "output_type": "stream",
     "text": [
      "  % Total    % Received % Xferd  Average Speed   Time    Time     Time  Current\n",
      "                                 Dload  Upload   Total   Spent    Left  Speed\n",
      "100   222  100   222    0     0   1226      0 --:--:-- --:--:-- --:--:--  1233\n",
      "city,country,month ave: highest high,month ave: lowest low\n",
      "\n",
      "['city', 'country', 'month ave: highest high', 'month ave: lowest low\\n']\n",
      "['Cairo', 'Egypt', '34.7', '1.2\\nNairobi', 'Kenya', '26.3', '10.5\\nSydney', 'Australia', '26.5', '8.7\\n']\n"
     ]
    }
   ],
   "source": [
    "!curl https://raw.githubusercontent.com/MicrosoftLearning/intropython/master/world_temp_mean.csv -o mean_temp.txt\n",
    "mean_temp_file = open('mean_temp.txt', 'r')\n",
    "headings = mean_temp_file.readline()\n",
    "print(headings)\n",
    "\n",
    "headings_list = headings.split(',')\n",
    "print(headings_list)\n",
    "\n",
    "city_temp = \"\"\n",
    "\n",
    "while mean_temp_file.readline():\n",
    "    city_temp += mean_temp_file.readline()\n",
    "    \n",
    "city_temp_list = city_temp.split(',')\n",
    "print(city_temp_list)\n",
    "mean_temp_file.close()"
   ]
  },
  {
   "cell_type": "code",
   "execution_count": 3,
   "metadata": {},
   "outputs": [
    {
     "name": "stderr",
     "output_type": "stream",
     "text": [
      "  % Total    % Received % Xferd  Average Speed   Time    Time     Time  Current\n",
      "                                 Dload  Upload   Total   Spent    Left  Speed\n",
      "\n",
      "  0     0    0     0    0     0      0      0 --:--:-- --:--:-- --:--:--     0\n",
      "100   303  100   303    0     0   1289      0 --:--:-- --:--:-- --:--:--  1289\n"
     ]
    },
    {
     "name": "stdout",
     "output_type": "stream",
     "text": [
      "enter user name: andriy\n",
      "enter a single digit guess or 'q' to quit: 3\n",
      "incorrect\n",
      "correct: 0 incorrect: 1\n"
     ]
    }
   ],
   "source": [
    "!curl https://raw.githubusercontent.com/MicrosoftLearning/intropython/master/digits_of_pi -o pi.txt\n",
    "digits_of_pi_file = open('pi.txt', 'r')\n",
    "name = input(\"enter user name: \")\n",
    "# name = \"andriy\"\n",
    "seed = len(name)\n",
    "\n",
    "digits_of_pi_file.seek(seed)\n",
    "\n",
    "digit = digits_of_pi_file.read(1)\n",
    "guess = input(\"enter a single digit guess or 'q' to quit: \")\n",
    "# guess = \"3\"\n",
    "\n",
    "correct = 0\n",
    "wrong = 0\n",
    "\n",
    "while guess != digit:\n",
    "    if guess == \".\":\n",
    "        digits_of_pi_file.read(1)\n",
    "    elif guess == \"\\n\":\n",
    "        seed += digit\n",
    "        digits_of_pi_file.seek(seed)\n",
    "    else:\n",
    "        if guess == digit:\n",
    "            print(\"correct\")\n",
    "            correct += 1\n",
    "        else:\n",
    "            print(\"incorrect\")\n",
    "            wrong += 1\n",
    "    break\n",
    "            \n",
    "print(\"correct:\", correct, \"incorrect:\", wrong)"
   ]
  },
  {
   "cell_type": "code",
   "execution_count": null,
   "metadata": {
    "collapsed": true
   },
   "outputs": [],
   "source": []
  }
 ],
 "metadata": {
  "kernelspec": {
   "display_name": "Python 3",
   "language": "python",
   "name": "python3"
  },
  "language_info": {
   "codemirror_mode": {
    "name": "ipython",
    "version": 3
   },
   "file_extension": ".py",
   "mimetype": "text/x-python",
   "name": "python",
   "nbconvert_exporter": "python",
   "pygments_lexer": "ipython3",
   "version": "3.6.1"
  }
 },
 "nbformat": 4,
 "nbformat_minor": 2
}
