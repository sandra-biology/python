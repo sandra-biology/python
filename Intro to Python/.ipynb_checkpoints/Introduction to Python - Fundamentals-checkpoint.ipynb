{
 "cells": [
  {
   "cell_type": "code",
   "execution_count": 5,
   "metadata": {},
   "outputs": [
    {
     "name": "stdout",
     "output_type": "stream",
     "text": [
      "What you do, do with your whole heart\n",
      "What\n"
     ]
    }
   ],
   "source": [
    "# phrase = input(\"enter a famous quotation: \")\n",
    "phrase = \"What you do, do with your whole heart\"\n",
    "print(phrase)\n",
    "\n",
    "index = phrase.find(\" \")\n",
    "print(phrase[0:index])\n",
    "\n",
    "#if phrase.isalpha():\n",
    "#    for letter in phrase:\n",
    "#        word += letter\n",
    "#elif phrase.lower() > \"g\":\n",
    "#    word += phrase\n",
    "#    print(word)\n",
    "#else:\n",
    "#    pass\n",
    "    "
   ]
  },
  {
   "cell_type": "code",
   "execution_count": 23,
   "metadata": {},
   "outputs": [
    {
     "name": "stdout",
     "output_type": "stream",
     "text": [
      "enter a famous quotation: What you do do with your whole heart.\n",
      "What you do do with your whole heart.\n",
      "What\n",
      "\n",
      "WHAT\n",
      "YOU\n",
      "WITH\n",
      "YOUR\n",
      "WHOLE\n",
      "HEART\n"
     ]
    }
   ],
   "source": [
    "phrase = input(\"enter a famous quotation: \")\n",
    "# phrase = \"What you do, do with your whole heart\"\n",
    "print(phrase)\n",
    "\n",
    "phrase.find(\" \")\n",
    "print(phrase[:4])\n",
    "\n",
    "print()\n",
    "\n",
    "word = \"\"\n",
    "for letter in phrase:\n",
    "    if letter.isalpha():\n",
    "        word += letter\n",
    "    else:\n",
    "        if len(word) > 0:\n",
    "            if word[0].lower() > \"g\":\n",
    "                print(word.upper())\n",
    "        word = \"\""
   ]
  },
  {
   "cell_type": "code",
   "execution_count": 23,
   "metadata": {},
   "outputs": [
    {
     "name": "stdout",
     "output_type": "stream",
     "text": [
      "5\n"
     ]
    }
   ],
   "source": [
    "phrase = \"Mary has a little lamb\"\n",
    "\n",
    "word_count = 0\n",
    "\n",
    "for letter in phrase:\n",
    "    if letter == \" \":\n",
    "        word_count += 1\n",
    "\n",
    "word_count += 1 # to count the last word\n",
    "\n",
    "print(word_count)"
   ]
  },
  {
   "cell_type": "code",
   "execution_count": 23,
   "metadata": {},
   "outputs": [
    {
     "name": "stdout",
     "output_type": "stream",
     "text": [
      "enter favorite color: Red\n",
      "d\n",
      "e\n",
      "R\n",
      "R\n",
      "e\n",
      "d\n"
     ]
    }
   ],
   "source": [
    "fav_color = input(\"enter favorite color: \")\n",
    "color_fav = \"\"\n",
    "for letter in fav_color[::-1]:\n",
    "    # color_fav += str(letter in fav_color[::-1])\n",
    "    print(letter)\n",
    "for letter in fav_color[:]:\n",
    "    print(letter)"
   ]
  },
  {
   "cell_type": "code",
   "execution_count": 8,
   "metadata": {},
   "outputs": [
    {
     "name": "stdout",
     "output_type": "stream",
     "text": [
      "enter the price: 5.99\n",
      "enter the price: 9.99\n",
      "enter the price: 10.99\n",
      "enter the price: done\n",
      "['5.99', '9.99', '10.99']\n"
     ]
    }
   ],
   "source": [
    "purchase_amounts = []\n",
    "price = input(\"enter the price: \")\n",
    "\n",
    "while True:\n",
    "    if price != \"done\":\n",
    "        purchase_amounts.append(price)\n",
    "        price = input(\"enter the price: \")\n",
    "    else:\n",
    "        break\n",
    "\n",
    "print(purchase_amounts)"
   ]
  },
  {
   "cell_type": "code",
   "execution_count": 9,
   "metadata": {},
   "outputs": [
    {
     "ename": "ValueError",
     "evalue": "invalid literal for int() with base 10: 'done'",
     "output_type": "error",
     "traceback": [
      "\u001b[1;31m---------------------------------------------------------------------------\u001b[0m",
      "\u001b[1;31mValueError\u001b[0m                                Traceback (most recent call last)",
      "\u001b[1;32m<ipython-input-9-a09ce32558ff>\u001b[0m in \u001b[0;36m<module>\u001b[1;34m()\u001b[0m\n\u001b[0;32m      3\u001b[0m \u001b[1;32mwhile\u001b[0m \u001b[0mpurchase_amounts\u001b[0m \u001b[1;33m!=\u001b[0m \u001b[1;33m[\u001b[0m\u001b[1;33m]\u001b[0m\u001b[1;33m:\u001b[0m\u001b[1;33m\u001b[0m\u001b[0m\n\u001b[0;32m      4\u001b[0m     \u001b[0mpurchase_amounts\u001b[0m\u001b[1;33m.\u001b[0m\u001b[0mpop\u001b[0m\u001b[1;33m(\u001b[0m\u001b[1;33m)\u001b[0m\u001b[1;33m\u001b[0m\u001b[0m\n\u001b[1;32m----> 5\u001b[1;33m     \u001b[0msubtotal\u001b[0m \u001b[1;33m+=\u001b[0m \u001b[0mint\u001b[0m\u001b[1;33m(\u001b[0m\u001b[0mprice\u001b[0m\u001b[1;33m)\u001b[0m\u001b[1;33m\u001b[0m\u001b[0m\n\u001b[0m\u001b[0;32m      6\u001b[0m \u001b[1;33m\u001b[0m\u001b[0m\n\u001b[0;32m      7\u001b[0m \u001b[0mprint\u001b[0m\u001b[1;33m(\u001b[0m\u001b[0msubtotal\u001b[0m\u001b[1;33m)\u001b[0m\u001b[1;33m\u001b[0m\u001b[0m\n",
      "\u001b[1;31mValueError\u001b[0m: invalid literal for int() with base 10: 'done'"
     ]
    }
   ],
   "source": [
    "subtotal = 0\n",
    "\n",
    "while purchase_amounts != []:\n",
    "    purchase_amounts.pop()\n",
    "    subtotal += int(price)\n",
    "    \n",
    "print(subtotal)"
   ]
  },
  {
   "cell_type": "code",
   "execution_count": 20,
   "metadata": {},
   "outputs": [
    {
     "name": "stdout",
     "output_type": "stream",
     "text": [
      "enter the price: 5\n",
      "enter the price: 9\n",
      "enter the price: 10\n",
      "enter the price: done\n",
      "['5', '9', '10']\n"
     ]
    }
   ],
   "source": [
    "purchase_amounts = []\n",
    "price = input(\"enter the price: \")\n",
    "\n",
    "while True:\n",
    "    if price != \"done\":\n",
    "        purchase_amounts.append(price)\n",
    "        price = input(\"enter the price: \")\n",
    "    else:\n",
    "        break\n",
    "\n",
    "print(purchase_amounts)\n"
   ]
  },
  {
   "cell_type": "code",
   "execution_count": 13,
   "metadata": {},
   "outputs": [
    {
     "name": "stdout",
     "output_type": "stream",
     "text": [
      "0\n"
     ]
    }
   ],
   "source": [
    "subtotal = 0\n",
    "\n",
    "while purchase_amounts != []:\n",
    "    purchase_amounts.pop()\n",
    "\n",
    "    subtotal += purchase_amounts.pop()\n",
    "    \n",
    "print(subtotal)"
   ]
  },
  {
   "cell_type": "code",
   "execution_count": 29,
   "metadata": {
    "scrolled": true
   },
   "outputs": [
    {
     "name": "stdout",
     "output_type": "stream",
     "text": [
      "enter the price: 5\n",
      "enter the price: 9\n",
      "enter the price: 10\n",
      "enter the price: done\n",
      "purchase_amounts after input: ['5', '9', '10']\n",
      "iter: 0\n",
      "subtotal = 0 purchase_amounts = ['5', '9', '10']\n",
      "iter: 1\n",
      "subtotal = 10 purchase_amounts = ['5', '9']\n",
      "iter: 2\n",
      "subtotal = 19 purchase_amounts = ['5']\n",
      "24\n"
     ]
    }
   ],
   "source": [
    "purchase_amounts = []\n",
    "price = input(\"enter the price: \")\n",
    "\n",
    "while True:\n",
    "    if price != \"done\":\n",
    "        purchase_amounts.append(price)\n",
    "        price = input(\"enter the price: \")\n",
    "    else:\n",
    "        break\n",
    "\n",
    "print(\"purchase_amounts after input:\", purchase_amounts)\n",
    "\n",
    "subtotal = 0\n",
    "\n",
    "iter = 0\n",
    "while purchase_amounts != []:\n",
    "    print(\"iter:\", iter)\n",
    "    iter += 1\n",
    "    \n",
    "    print(\"subtotal =\", subtotal, \"purchase_amounts =\", purchase_amounts)\n",
    "    subtotal += int(purchase_amounts.pop())\n",
    "    \n",
    "print(subtotal)"
   ]
  },
  {
   "cell_type": "code",
   "execution_count": 30,
   "metadata": {},
   "outputs": [
    {
     "name": "stdout",
     "output_type": "stream",
     "text": [
      "c\n",
      "a\n",
      "t\n",
      "cat to tac\n",
      "False\n"
     ]
    }
   ],
   "source": [
    "phrase = \"cat\"\n",
    "new_phrase = \"\"\n",
    "\n",
    "for letter in pet_type[::-1]:\n",
    "    new_type += letter\n",
    "    #print(new_type)\n",
    "for letter in pet_type[:]:\n",
    "    print(letter)\n",
    "\n",
    "print(pet_type, \"to\", new_type)\n",
    "\n",
    "if pet_type == new_type:\n",
    "    print(True)\n",
    "else:\n",
    "    print(False)"
   ]
  },
  {
   "cell_type": "code",
   "execution_count": 1,
   "metadata": {},
   "outputs": [
    {
     "name": "stdout",
     "output_type": "stream",
     "text": [
      "Length: 7\n",
      "half 1: 3\n",
      "First half of list: ['Tuesday', 'Wednesday', 'February']\n",
      "Second half of list: ['November', 'Annual', 'Calendar', 'Solstice']\n"
     ]
    }
   ],
   "source": [
    "spell_list = [\"Tuesday\", \"Wednesday\", \"February\", \"November\", \"Annual\", \"Calendar\", \"Solstice\"]\n",
    "length = len(spell_list)\n",
    "print(\"Length:\", length)\n",
    "half_1 = int(len(spell_list)/2)\n",
    "print(\"half 1:\", half_1)\n",
    "first_half = []\n",
    "second_half = []\n",
    "\n",
    "for i in range(half_1):\n",
    "    first_half.append(spell_list[i])\n",
    "\n",
    "for i in range(half_1, length):\n",
    "    second_half.append(spell_list[i])\n",
    "\n",
    "print(\"First half of list:\", first_half)\n",
    "print(\"Second half of list:\", second_half)"
   ]
  },
  {
   "cell_type": "code",
   "execution_count": 2,
   "metadata": {},
   "outputs": [
    {
     "name": "stdout",
     "output_type": "stream",
     "text": [
      "City of Beijing month ave: highest high is 30.9 Celsius\n",
      "City of Cairo month ave: highest high is 34.7 Celsius\n",
      "City of London month ave: highest high is 23.5 Celsius\n",
      "City of Nairobi month ave: highest high is 26.3 Celsius\n",
      "City of New York City month ave: highest high is 28.9 Celsius\n",
      "City of Sydney month ave: highest high is 26.5 Celsius\n",
      "City of Tokyo month ave: highest high is 30.8 Celsius\n",
      "City of Rio de Janeiro month ave: highest high is  30.0 Celsius\n"
     ]
    },
    {
     "name": "stderr",
     "output_type": "stream",
     "text": [
      "  % Total    % Received % Xferd  Average Speed   Time    Time     Time  Current\n",
      "                                 Dload  Upload   Total   Spent    Left  Speed\n",
      "\n",
      "  0     0    0     0    0     0      0      0 --:--:-- --:--:-- --:--:--     0\n",
      "100   222  100   222    0     0    888      0 --:--:-- --:--:-- --:--:--   888\n"
     ]
    }
   ],
   "source": [
    "!curl https://raw.githubusercontent.com/MicrosoftLearning/intropython/master/world_temp_mean.csv -o mean_temp.txt\n",
    "mean_temp_file = open('mean_temp.txt', 'a+')\n",
    "mean_temp_file.write(\"Rio de Janeiro, Brazil, 30.0, 18.0\\n\")\n",
    "\n",
    "mean_temp_file.seek(0)\n",
    "headings = mean_temp_file.readline()\n",
    "headings_list = headings.split(',')\n",
    "# print(\"headings list:\", headings_list)\n",
    "\n",
    "city_temp = mean_temp_file.readline().strip(\"\\n\")\n",
    "while city_temp:\n",
    "    # convert line into list\n",
    "    city_temp_list = city_temp.split(\",\")\n",
    "    # print('city_temp_list:', city_temp_list) \n",
    "    # read the next city line\n",
    "    print(headings_list[0].title(), 'of', city_temp_list[0], headings_list[2], 'is', city_temp_list[2], 'Celsius')\n",
    "    city_temp = mean_temp_file.readline().strip(\"\\n\")\n",
    "    \n",
    "mean_temp_file.close()"
   ]
  },
  {
   "cell_type": "code",
   "execution_count": 4,
   "metadata": {},
   "outputs": [
    {
     "name": "stdout",
     "output_type": "stream",
     "text": [
      "elements_list_user: ['Hydrogen', 'Helium']\n",
      "percentage_correct: 10.0\n",
      "correct: ['Hydrogen', 'Helium']\n",
      "incorrect: ['Lithium', 'Beryllium', 'Boron', 'Carbon', 'Nitrogen', 'Oxygen', 'Fluorine', 'Neon', 'Sodium', 'Magnesium', 'Aluminum', 'Silicon', 'Phosphorus', 'Sulfur', 'Chlorine', 'Argon', 'Potassium', 'Calcium']\n"
     ]
    },
    {
     "name": "stderr",
     "output_type": "stream",
     "text": [
      "  % Total    % Received % Xferd  Average Speed   Time    Time     Time  Current\n",
      "                                 Dload  Upload   Total   Spent    Left  Speed\n",
      "\n",
      "  0     0    0     0    0     0      0      0 --:--:-- --:--:-- --:--:--     0\n",
      "100   161  100   161    0     0    856      0 --:--:-- --:--:-- --:--:--   856\n"
     ]
    }
   ],
   "source": [
    "# define functions in the beginning\n",
    "\n",
    "def get_names(): \n",
    "    elements_list = []\n",
    "    # #guess = input(\"enter an element name: \")\n",
    "    # if guess == \" \":\n",
    "    #     print(\"Not a valid name. No duplicate element names or empty strings allowed.\")\n",
    "    #     #guess = input(\"enter an element name: \")\n",
    "    # while len(elements_list) < 5:\n",
    "    #     elements_list.append(guess)\n",
    "    \n",
    "    elements_list = [\"Hydrogen\", \"Helium\"]\n",
    "    return elements_list\n",
    "\n",
    "\n",
    "# main code\n",
    "\n",
    "!curl https://raw.githubusercontent.com/MicrosoftLearning/intropython/master/elements1_20.txt -o elements1_20.txt\n",
    "elements1_20_file = open('elements1_20.txt', 'r')\n",
    "\n",
    "elements1_20_file_list = []\n",
    "element_name = elements1_20_file.readline().strip()\n",
    "while element_name:\n",
    "    elements1_20_file_list.append(element_name)\n",
    "    element_name = elements1_20_file.readline().strip()\n",
    "\n",
    "elements_list_user = get_names()\n",
    "print('elements_list_user:', elements_list_user)\n",
    "\n",
    "correct = []\n",
    "incorrect = []\n",
    "\n",
    "for element in elements1_20_file_list:\n",
    "    if element in elements_list_user:\n",
    "        correct.append(element)\n",
    "    else:\n",
    "        incorrect.append(element)\n",
    "        \n",
    "num_correct = len(correct)\n",
    "num_incorrect = len(incorrect)\n",
    "percentage_correct = num_correct / (num_correct + num_incorrect) * 100\n",
    "\n",
    "print(\"percentage_correct:\", percentage_correct)\n",
    "print(\"correct:\", correct)\n",
    "print(\"incorrect:\", incorrect)\n",
    "elements1_20_file.close()    "
   ]
  },
  {
   "cell_type": "code",
   "execution_count": 2,
   "metadata": {},
   "outputs": [
    {
     "name": "stdout",
     "output_type": "stream",
     "text": [
      "element name: ['Hydrogen\\n', 'Helium\\n', 'Lithium\\n', 'Beryllium\\n', 'Boron\\n', 'Carbon\\n', 'Nitrogen\\n', 'Oxygen\\n', 'Fluorine\\n', 'Neon\\n', 'Sodium\\n', 'Magnesium\\n', 'Aluminum\\n', 'Silicon\\n', 'Phosphorus\\n', 'Sulfur\\n', 'Chlorine\\n', 'Argon\\n', 'Potassium\\n', 'Calcium']\n",
      "element name: ['Hydrogen\\n', 'Helium\\n', 'Lithium\\n', 'Beryllium\\n', 'Boron\\n', 'Carbon\\n', 'Nitrogen\\n', 'Oxygen\\n', 'Fluorine\\n', 'Neon\\n', 'Sodium\\n', 'Magnesium\\n', 'Aluminum\\n', 'Silicon\\n', 'Phosphorus\\n', 'Sulfur\\n', 'Chlorine\\n', 'Argon\\n', 'Potassium\\n', 'Calcium']\n",
      "element name: ['Hydrogen\\n', 'Helium\\n', 'Lithium\\n', 'Beryllium\\n', 'Boron\\n', 'Carbon\\n', 'Nitrogen\\n', 'Oxygen\\n', 'Fluorine\\n', 'Neon\\n', 'Sodium\\n', 'Magnesium\\n', 'Aluminum\\n', 'Silicon\\n', 'Phosphorus\\n', 'Sulfur\\n', 'Chlorine\\n', 'Argon\\n', 'Potassium\\n', 'Calcium']\n",
      "element name: ['Hydrogen\\n', 'Helium\\n', 'Lithium\\n', 'Beryllium\\n', 'Boron\\n', 'Carbon\\n', 'Nitrogen\\n', 'Oxygen\\n', 'Fluorine\\n', 'Neon\\n', 'Sodium\\n', 'Magnesium\\n', 'Aluminum\\n', 'Silicon\\n', 'Phosphorus\\n', 'Sulfur\\n', 'Chlorine\\n', 'Argon\\n', 'Potassium\\n', 'Calcium']\n",
      "element name: ['Hydrogen\\n', 'Helium\\n', 'Lithium\\n', 'Beryllium\\n', 'Boron\\n', 'Carbon\\n', 'Nitrogen\\n', 'Oxygen\\n', 'Fluorine\\n', 'Neon\\n', 'Sodium\\n', 'Magnesium\\n', 'Aluminum\\n', 'Silicon\\n', 'Phosphorus\\n', 'Sulfur\\n', 'Chlorine\\n', 'Argon\\n', 'Potassium\\n', 'Calcium']\n",
      "element name: ['Hydrogen\\n', 'Helium\\n', 'Lithium\\n', 'Beryllium\\n', 'Boron\\n', 'Carbon\\n', 'Nitrogen\\n', 'Oxygen\\n', 'Fluorine\\n', 'Neon\\n', 'Sodium\\n', 'Magnesium\\n', 'Aluminum\\n', 'Silicon\\n', 'Phosphorus\\n', 'Sulfur\\n', 'Chlorine\\n', 'Argon\\n', 'Potassium\\n', 'Calcium']\n",
      "element name: ['Hydrogen\\n', 'Helium\\n', 'Lithium\\n', 'Beryllium\\n', 'Boron\\n', 'Carbon\\n', 'Nitrogen\\n', 'Oxygen\\n', 'Fluorine\\n', 'Neon\\n', 'Sodium\\n', 'Magnesium\\n', 'Aluminum\\n', 'Silicon\\n', 'Phosphorus\\n', 'Sulfur\\n', 'Chlorine\\n', 'Argon\\n', 'Potassium\\n', 'Calcium']\n",
      "element name: ['Hydrogen\\n', 'Helium\\n', 'Lithium\\n', 'Beryllium\\n', 'Boron\\n', 'Carbon\\n', 'Nitrogen\\n', 'Oxygen\\n', 'Fluorine\\n', 'Neon\\n', 'Sodium\\n', 'Magnesium\\n', 'Aluminum\\n', 'Silicon\\n', 'Phosphorus\\n', 'Sulfur\\n', 'Chlorine\\n', 'Argon\\n', 'Potassium\\n', 'Calcium']\n",
      "element name: ['Hydrogen\\n', 'Helium\\n', 'Lithium\\n', 'Beryllium\\n', 'Boron\\n', 'Carbon\\n', 'Nitrogen\\n', 'Oxygen\\n', 'Fluorine\\n', 'Neon\\n', 'Sodium\\n', 'Magnesium\\n', 'Aluminum\\n', 'Silicon\\n', 'Phosphorus\\n', 'Sulfur\\n', 'Chlorine\\n', 'Argon\\n', 'Potassium\\n', 'Calcium']\n",
      "element name: ['Hydrogen\\n', 'Helium\\n', 'Lithium\\n', 'Beryllium\\n', 'Boron\\n', 'Carbon\\n', 'Nitrogen\\n', 'Oxygen\\n', 'Fluorine\\n', 'Neon\\n', 'Sodium\\n', 'Magnesium\\n', 'Aluminum\\n', 'Silicon\\n', 'Phosphorus\\n', 'Sulfur\\n', 'Chlorine\\n', 'Argon\\n', 'Potassium\\n', 'Calcium']\n",
      "element name: ['Hydrogen\\n', 'Helium\\n', 'Lithium\\n', 'Beryllium\\n', 'Boron\\n', 'Carbon\\n', 'Nitrogen\\n', 'Oxygen\\n', 'Fluorine\\n', 'Neon\\n', 'Sodium\\n', 'Magnesium\\n', 'Aluminum\\n', 'Silicon\\n', 'Phosphorus\\n', 'Sulfur\\n', 'Chlorine\\n', 'Argon\\n', 'Potassium\\n', 'Calcium']\n",
      "element name: ['Hydrogen\\n', 'Helium\\n', 'Lithium\\n', 'Beryllium\\n', 'Boron\\n', 'Carbon\\n', 'Nitrogen\\n', 'Oxygen\\n', 'Fluorine\\n', 'Neon\\n', 'Sodium\\n', 'Magnesium\\n', 'Aluminum\\n', 'Silicon\\n', 'Phosphorus\\n', 'Sulfur\\n', 'Chlorine\\n', 'Argon\\n', 'Potassium\\n', 'Calcium']\n",
      "element name: ['Hydrogen\\n', 'Helium\\n', 'Lithium\\n', 'Beryllium\\n', 'Boron\\n', 'Carbon\\n', 'Nitrogen\\n', 'Oxygen\\n', 'Fluorine\\n', 'Neon\\n', 'Sodium\\n', 'Magnesium\\n', 'Aluminum\\n', 'Silicon\\n', 'Phosphorus\\n', 'Sulfur\\n', 'Chlorine\\n', 'Argon\\n', 'Potassium\\n', 'Calcium']\n",
      "element name: ['Hydrogen\\n', 'Helium\\n', 'Lithium\\n', 'Beryllium\\n', 'Boron\\n', 'Carbon\\n', 'Nitrogen\\n', 'Oxygen\\n', 'Fluorine\\n', 'Neon\\n', 'Sodium\\n', 'Magnesium\\n', 'Aluminum\\n', 'Silicon\\n', 'Phosphorus\\n', 'Sulfur\\n', 'Chlorine\\n', 'Argon\\n', 'Potassium\\n', 'Calcium']\n",
      "element name: ['Hydrogen\\n', 'Helium\\n', 'Lithium\\n', 'Beryllium\\n', 'Boron\\n', 'Carbon\\n', 'Nitrogen\\n', 'Oxygen\\n', 'Fluorine\\n', 'Neon\\n', 'Sodium\\n', 'Magnesium\\n', 'Aluminum\\n', 'Silicon\\n', 'Phosphorus\\n', 'Sulfur\\n', 'Chlorine\\n', 'Argon\\n', 'Potassium\\n', 'Calcium']\n",
      "element name: ['Hydrogen\\n', 'Helium\\n', 'Lithium\\n', 'Beryllium\\n', 'Boron\\n', 'Carbon\\n', 'Nitrogen\\n', 'Oxygen\\n', 'Fluorine\\n', 'Neon\\n', 'Sodium\\n', 'Magnesium\\n', 'Aluminum\\n', 'Silicon\\n', 'Phosphorus\\n', 'Sulfur\\n', 'Chlorine\\n', 'Argon\\n', 'Potassium\\n', 'Calcium']\n",
      "element name: ['Hydrogen\\n', 'Helium\\n', 'Lithium\\n', 'Beryllium\\n', 'Boron\\n', 'Carbon\\n', 'Nitrogen\\n', 'Oxygen\\n', 'Fluorine\\n', 'Neon\\n', 'Sodium\\n', 'Magnesium\\n', 'Aluminum\\n', 'Silicon\\n', 'Phosphorus\\n', 'Sulfur\\n', 'Chlorine\\n', 'Argon\\n', 'Potassium\\n', 'Calcium']\n",
      "element name: ['Hydrogen\\n', 'Helium\\n', 'Lithium\\n', 'Beryllium\\n', 'Boron\\n', 'Carbon\\n', 'Nitrogen\\n', 'Oxygen\\n', 'Fluorine\\n', 'Neon\\n', 'Sodium\\n', 'Magnesium\\n', 'Aluminum\\n', 'Silicon\\n', 'Phosphorus\\n', 'Sulfur\\n', 'Chlorine\\n', 'Argon\\n', 'Potassium\\n', 'Calcium']\n",
      "element name: ['Hydrogen\\n', 'Helium\\n', 'Lithium\\n', 'Beryllium\\n', 'Boron\\n', 'Carbon\\n', 'Nitrogen\\n', 'Oxygen\\n', 'Fluorine\\n', 'Neon\\n', 'Sodium\\n', 'Magnesium\\n', 'Aluminum\\n', 'Silicon\\n', 'Phosphorus\\n', 'Sulfur\\n', 'Chlorine\\n', 'Argon\\n', 'Potassium\\n', 'Calcium']\n",
      "element name: ['Hydrogen\\n', 'Helium\\n', 'Lithium\\n', 'Beryllium\\n', 'Boron\\n', 'Carbon\\n', 'Nitrogen\\n', 'Oxygen\\n', 'Fluorine\\n', 'Neon\\n', 'Sodium\\n', 'Magnesium\\n', 'Aluminum\\n', 'Silicon\\n', 'Phosphorus\\n', 'Sulfur\\n', 'Chlorine\\n', 'Argon\\n', 'Potassium\\n', 'Calcium']\n"
     ]
    },
    {
     "name": "stderr",
     "output_type": "stream",
     "text": [
      "  % Total    % Received % Xferd  Average Speed   Time    Time     Time  Current\n",
      "                                 Dload  Upload   Total   Spent    Left  Speed\n",
      "\n",
      "  0     0    0     0    0     0      0      0 --:--:-- --:--:-- --:--:--     0\n",
      "100   161  100   161    0     0    644      0 --:--:-- --:--:-- --:--:--   644\n"
     ]
    }
   ],
   "source": [
    "!curl https://raw.githubusercontent.com/MicrosoftLearning/intropython/master/elements1_20.txt -o elements1_20.txt\n",
    "elements1_20_file = open('elements1_20.txt', 'r')\n",
    "\n",
    "element_name = elements1_20_file.readlines()\n",
    "for line in element_name:\n",
    "    print(\"element name:\", element_name)"
   ]
  },
  {
   "cell_type": "code",
   "execution_count": null,
   "metadata": {
    "collapsed": true
   },
   "outputs": [],
   "source": []
  },
  {
   "cell_type": "code",
   "execution_count": null,
   "metadata": {
    "collapsed": true
   },
   "outputs": [],
   "source": []
  }
 ],
 "metadata": {
  "kernelspec": {
   "display_name": "Python 3",
   "language": "python",
   "name": "python3"
  },
  "language_info": {
   "codemirror_mode": {
    "name": "ipython",
    "version": 3
   },
   "file_extension": ".py",
   "mimetype": "text/x-python",
   "name": "python",
   "nbconvert_exporter": "python",
   "pygments_lexer": "ipython3",
   "version": "3.6.1"
  }
 },
 "nbformat": 4,
 "nbformat_minor": 2
}
