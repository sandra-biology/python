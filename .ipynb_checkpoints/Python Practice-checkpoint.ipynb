{
 "cells": [
  {
   "cell_type": "code",
   "execution_count": 4,
   "metadata": {},
   "outputs": [
    {
     "name": "stdout",
     "output_type": "stream",
     "text": [
      "c\n",
      "a\n",
      "t\n",
      "cat to tac\n",
      "False\n"
     ]
    }
   ],
   "source": [
    "phrase = \"cat\"\n",
    "new_phrase = \"\"\n",
    "\n",
    "for letter in phrase[::-1]:\n",
    "    new_phrase += letter\n",
    "    #print(new_type)\n",
    "for letter in phrase[:]:\n",
    "    print(letter)\n",
    "\n",
    "print(phrase, \"to\", new_phrase)\n",
    "\n",
    "if phrase == new_phrase:\n",
    "    print(True)\n",
    "else:\n",
    "    print(False)"
   ]
  },
  {
   "cell_type": "code",
   "execution_count": 12,
   "metadata": {},
   "outputs": [
    {
     "name": "stdout",
     "output_type": "stream",
     "text": [
      "abba to abba\n",
      "result is True\n"
     ]
    }
   ],
   "source": [
    "def phrase(s, new_phrase):\n",
    "    \"\"\"determines if phrase is anagram\n",
    "    Input parameters:\n",
    "    s: phrase to analyze\n",
    "    new_phrase: we need this for iteration\n",
    "    Returns the result\n",
    "    \"\"\"\n",
    "    for letter in s[::-1]:\n",
    "        new_phrase += letter\n",
    "        #print(new_type)\n",
    "    # for letter in s[:]:\n",
    "    #     print(letter)\n",
    "\n",
    "    print(s, \"to\", new_phrase)\n",
    "\n",
    "    if s == new_phrase:\n",
    "        return True\n",
    "    else:\n",
    "        return False\n",
    "\n",
    "s = \"abba\"\n",
    "new_phrase = \"\"\n",
    "result = phrase(s, new_phrase)\n",
    "\n",
    "print(\"result is\", result)"
   ]
  },
  {
   "cell_type": "code",
   "execution_count": 10,
   "metadata": {},
   "outputs": [
    {
     "name": "stdout",
     "output_type": "stream",
     "text": [
      "this is a text\n"
     ]
    },
    {
     "data": {
      "text/plain": [
       "'abc def'"
      ]
     },
     "execution_count": 10,
     "metadata": {},
     "output_type": "execute_result"
    }
   ],
   "source": [
    "s = \"\"\"this is a text\"\"\"\n",
    "print(s)\n",
    "\"abc def\""
   ]
  },
  {
   "cell_type": "code",
   "execution_count": 17,
   "metadata": {},
   "outputs": [
    {
     "name": "stdout",
     "output_type": "stream",
     "text": [
      "abba to abba\n",
      "result is True\n"
     ]
    }
   ],
   "source": [
    "def phrase(s):\n",
    "    \"\"\"determines if phrase is anagram\n",
    "    Input parameters:\n",
    "    s: phrase to analyze\n",
    "    new_phrase: we need this for iteration\n",
    "    Returns the result\n",
    "    \"\"\"\n",
    "    new_phrase = \"\"\n",
    "    for letter in s[::-1]:\n",
    "        new_phrase += letter # not needed as parameter since it's not being returned to user\n",
    "        #print(new_type)\n",
    "    # for letter in s[:]:\n",
    "    #     print(letter)\n",
    "\n",
    "    print(s, \"to\", new_phrase)\n",
    "\n",
    "    if s == new_phrase:\n",
    "        return True\n",
    "    else:\n",
    "        return False\n",
    "\n",
    "s = \"abba\"\n",
    "\n",
    "result = phrase(s)\n",
    "\n",
    "print(\"result is\", result)"
   ]
  },
  {
   "cell_type": "code",
   "execution_count": 20,
   "metadata": {},
   "outputs": [
    {
     "name": "stdout",
     "output_type": "stream",
     "text": [
      "phrase: abba to abba\n",
      "result for abba is True\n",
      "\n",
      "phrase: cat to tac\n",
      "result for cat is False\n"
     ]
    }
   ],
   "source": [
    "def phrase(s):\n",
    "    \"\"\"determines if phrase is anagram\n",
    "    Input parameters:\n",
    "    s: phrase to analyze\n",
    "    Returns the result\n",
    "    \"\"\"\n",
    "    new_phrase = \"\"\n",
    "    for letter in s[::-1]:\n",
    "        new_phrase += letter # not needed as parameter since it's not being returned to user\n",
    "        # print(new_type)\n",
    "\n",
    "    # for letter in s[:]:\n",
    "    #     print(letter)\n",
    "\n",
    "    print(\"phrase:\", s, \"to\", new_phrase)\n",
    "\n",
    "    if s == new_phrase:\n",
    "        return True\n",
    "    else:\n",
    "        return False\n",
    "\n",
    "s_ana = \"abba\"\n",
    "\n",
    "result = phrase(s_ana)\n",
    "\n",
    "print(\"result for\", s_ana, \"is\", result)\n",
    "\n",
    "print()\n",
    "s_not_ana = \"cat\"\n",
    "result = phrase(s_not_ana)\n",
    "print(\"result for\", s_not_ana, \"is\", result)"
   ]
  },
  {
   "cell_type": "code",
   "execution_count": 28,
   "metadata": {},
   "outputs": [
    {
     "name": "stdout",
     "output_type": "stream",
     "text": [
      "enter a single letter, space, or empty string: B\n"
     ]
    },
    {
     "data": {
      "text/plain": [
       "2"
      ]
     },
     "execution_count": 28,
     "metadata": {},
     "output_type": "execute_result"
    }
   ],
   "source": [
    "def let_to_num(phone_letters):\n",
    "    key = 0\n",
    "    letter = input(\"enter a single letter, space, or empty string: \")\n",
    "    while key < 10:\n",
    "        if letter in phone_letters[key]:\n",
    "            return key\n",
    "        else:\n",
    "            key = key + 1\n",
    "\n",
    "phone_letters = [\" \", \"\", \"ABC\", \"DEF\", \"GHI\", \"JKL\", \"MNO\", \"PQRS\", \"TUV\", \"WXYZ\"]\n",
    "let_to_num(phone_letters)"
   ]
  },
  {
   "cell_type": "code",
   "execution_count": 35,
   "metadata": {},
   "outputs": [
    {
     "name": "stdout",
     "output_type": "stream",
     "text": [
      "the empty is in the string ABC DEF\n"
     ]
    }
   ],
   "source": [
    "s = \"ABC DEF\"\n",
    "e = \"\"\n",
    "\n",
    "if e in s:\n",
    "    print(\"the empty is in the string\", s)"
   ]
  },
  {
   "cell_type": "code",
   "execution_count": 40,
   "metadata": {},
   "outputs": [
    {
     "name": "stdout",
     "output_type": "stream",
     "text": [
      "number =  0\n"
     ]
    }
   ],
   "source": [
    "def let_to_num(letter):\n",
    "    phone_letters = [\" \", \"\", \"ABC\", \"DEF\", \"GHI\", \"JKL\", \"MNO\", \"PQRS\", \"TUV\", \"WXYZ\"]\n",
    "    \n",
    "    if letter == \"\": # special case since both \" \" and \"\" contain empty string\n",
    "        return 1\n",
    "    \n",
    "    index = 0\n",
    "    for element in phone_letters:\n",
    "        if letter.upper() in element:\n",
    "            return index\n",
    "        else:\n",
    "            index += 1\n",
    "    # symbol not found\n",
    "    return -1\n",
    "\n",
    "\n",
    "# letter = \"\"\n",
    "letter = \" \"\n",
    "number = let_to_num(letter)\n",
    "print(\"number = \", number)\n",
    "\n",
    "test_patterns = [\"\", \" \", \"G\", \"g\"]\n",
    "for pattern in test_patterns:\n",
    "    num = le\n",
    "    prin(\"pattern:\", pattern, \": numb = \", nu)"
   ]
  },
  {
   "cell_type": "code",
   "execution_count": null,
   "metadata": {
    "collapsed": true
   },
   "outputs": [],
   "source": [
    "def list_o_matic(s, all_animals):\n",
    "    if s == \"\":\n",
    "        popped = all_animals.pop() # ignore case of empty list\n",
    "        return \"pop \" + popped\n",
    "    elif s in all_animals:\n",
    "        all_animals.remove(s)\n",
    "        return \"remove \" + s\n",
    "    else:\n",
    "        all_animals.append(s)\n",
    "        return \"append \" + s\n",
    "\n",
    "all_animals = [\"dog\", \"goat\", \"sheep\", \"cat\"]\n",
    "\n",
    "if [all_animals] == []:\n",
    "    print(\"Goodbye\")\n",
    "else:\n",
    "    s = input(\"enter the name : \")\n",
    "    if s == \"quit\":\n",
    "        print(\"Goodbye\")\n",
    "    else:\n",
    "        list_o_matic()"
   ]
  },
  {
   "cell_type": "code",
   "execution_count": 2,
   "metadata": {},
   "outputs": [
    {
     "name": "stdout",
     "output_type": "stream",
     "text": [
      "popped b\n",
      "popped a\n",
      "finished with mylist\n"
     ]
    }
   ],
   "source": [
    "mylist = [\"a\", \"b\"]\n",
    "while mylist:\n",
    "    item = mylist.pop()\n",
    "    print(\"popped\", item)\n",
    "\n",
    "print(\"finished with mylist\")"
   ]
  },
  {
   "cell_type": "code",
   "execution_count": 4,
   "metadata": {},
   "outputs": [
    {
     "name": "stdout",
     "output_type": "stream",
     "text": [
      "enter the name : horse\n"
     ]
    }
   ],
   "source": [
    "def list_o_matic(s, all_animals):\n",
    "    if s == \"\":\n",
    "        popped = all_animals.pop() # ignore case of empty list\n",
    "        return \"pop \" + popped\n",
    "    elif s in all_animals:\n",
    "        all_animals.remove(s)\n",
    "        return \"remove \" + s\n",
    "    else:\n",
    "        all_animals.append(s)\n",
    "        return \"append \" + s\n",
    "\n",
    "\n",
    "all_animals = [\"dog\", \"goat\", \"sheep\", \"cat\"]\n",
    "\n",
    "if [all_animals] == []:\n",
    "    print(\"Goodbye\")\n",
    "else:\n",
    "    s = input(\"enter the name : \")\n",
    "    if s == \"quit\":\n",
    "        print(\"Goodbye\")\n",
    "    else:\n",
    "        list_o_matic(s, all_animals)"
   ]
  },
  {
   "cell_type": "code",
   "execution_count": 1,
   "metadata": {},
   "outputs": [
    {
     "name": "stdout",
     "output_type": "stream",
     "text": [
      "enter the name : cat\n",
      "res = remove cat all_animals = ['dog', 'goat', 'sheep']\n",
      "enter the name : horse\n",
      "res = append horse all_animals = ['dog', 'goat', 'sheep', 'horse']\n",
      "enter the name : \n",
      "res = pop horse all_animals = ['dog', 'goat', 'sheep']\n",
      "enter the name : \n",
      "res = pop sheep all_animals = ['dog', 'goat']\n",
      "enter the name : \n",
      "res = pop goat all_animals = ['dog']\n",
      "enter the name : \n",
      "res = pop dog all_animals = []\n",
      "Goodbye\n"
     ]
    }
   ],
   "source": [
    "def list_o_matic(s, all_animals):\n",
    "    # print(\"list_o_matic\")\n",
    "    if s == \"\":\n",
    "        popped = all_animals.pop() # ignore case of empty list\n",
    "        return \"pop \" + popped\n",
    "    elif s in all_animals:\n",
    "        all_animals.remove(s)\n",
    "        return \"remove \" + s\n",
    "    else:\n",
    "        all_animals.append(s)\n",
    "        return \"append \" + s\n",
    "\n",
    "\n",
    "all_animals = [\"dog\", \"goat\", \"sheep\", \"cat\"]\n",
    "\n",
    "while True:\n",
    "    if all_animals == []:\n",
    "        print(\"Goodbye\")\n",
    "        break\n",
    "    else:\n",
    "        s = input(\"enter the name : \")\n",
    "        if s == \"quit\":\n",
    "            print(\"Goodbye\")\n",
    "            break\n",
    "        else:\n",
    "            # print(\"call list_o_matic\")\n",
    "            res = list_o_matic(s, all_animals)\n",
    "            print(\"res =\", res, \"all_animals =\", all_animals)"
   ]
  },
  {
   "cell_type": "code",
   "execution_count": 2,
   "metadata": {},
   "outputs": [
    {
     "name": "stdout",
     "output_type": "stream",
     "text": [
      "Good-code-is-commented-code\n"
     ]
    }
   ],
   "source": [
    "work_tip = \"Good code is commented code\"\n",
    "new_string = \"\"\n",
    "\n",
    "for letter in work_tip:\n",
    "    if letter == \" \":\n",
    "        new_string += \"-\"\n",
    "    else:\n",
    "        new_string += letter\n",
    "    \n",
    "print(new_string)"
   ]
  },
  {
   "cell_type": "code",
   "execution_count": 3,
   "metadata": {},
   "outputs": [
    {
     "name": "stdout",
     "output_type": "stream",
     "text": [
      "eagle hawk dove swan \n"
     ]
    }
   ],
   "source": [
    "birds = ['eagle', 'hawk', 'dove', 'swan']\n",
    "long_string = ''\n",
    "\n",
    "for bird in birds:\n",
    "    long_string += bird\n",
    "    long_string += ' '\n",
    "\n",
    "print(long_string)"
   ]
  },
  {
   "cell_type": "code",
   "execution_count": 15,
   "metadata": {},
   "outputs": [
    {
     "name": "stdout",
     "output_type": "stream",
     "text": [
      "correct\n",
      "incorrect\n",
      "1 correct footbones out of 2\n"
     ]
    }
   ],
   "source": [
    "def footbone(bone, foot_bones):\n",
    "    for current_bone in foot_bones:\n",
    "        if current_bone == bone:\n",
    "            return True\n",
    "    return False\n",
    "\n",
    "foot_bones = [\"calcaneus\", \"talus\", \"cuboid\", \"navicular\", \"lateral cuneiform\",\n",
    "             \"intermediate cuneiform\", \"medial cuneiform\"]\n",
    "# print(\"foot_bones:\", foot_bones)\n",
    "\n",
    "total = 0\n",
    "num_correct = 0\n",
    "\n",
    "bone = \"talus\"\n",
    "result = footbone(bone, foot_bones)\n",
    "total += 1\n",
    "\n",
    "if result:\n",
    "    print(\"correct\")\n",
    "    num_correct += 1\n",
    "else:\n",
    "    print(\"incorrect\")\n",
    "\n",
    "bone = \"rib\"\n",
    "result = footbone(bone, foot_bones)\n",
    "total += 1\n",
    "\n",
    "if result:\n",
    "    print(\"correct\")\n",
    "    num_correct += 1\n",
    "else:\n",
    "    print(\"incorrect\")\n",
    "\n",
    "print(num_correct, \"correct footbones out of\", total)"
   ]
  },
  {
   "cell_type": "code",
   "execution_count": 7,
   "metadata": {},
   "outputs": [
    {
     "name": "stdout",
     "output_type": "stream",
     "text": [
      "correct\n",
      "incorrect\n",
      "1 correct bones out of total 2\n"
     ]
    }
   ],
   "source": [
    "def check_bone(bone, bones):\n",
    "    if bone in bones:\n",
    "        return True\n",
    "    else:\n",
    "        return False\n",
    "\n",
    "\n",
    "bones = [\"aaa\", \"bbb\", \"ccc\"]\n",
    "\n",
    "total = 0\n",
    "n_correct = 0\n",
    "\n",
    "result = check_bone(\"bbb\", bones)\n",
    "total += 1\n",
    "if result:\n",
    "    print(\"correct\")\n",
    "    n_correct += 1\n",
    "else:\n",
    "    print(\"incorrect\")\n",
    "\n",
    "result = check_bone(\"xxx\", bones)\n",
    "total += 1\n",
    "if result:\n",
    "    print(\"correct\")\n",
    "    n_correct += 1\n",
    "else:\n",
    "    print(\"incorrect\")\n",
    "\n",
    "print(n_correct, \"correct bones out of total\", total)"
   ]
  },
  {
   "cell_type": "code",
   "execution_count": 1,
   "metadata": {},
   "outputs": [
    {
     "name": "stdout",
     "output_type": "stream",
     "text": [
      "Pizza in menu is True\n"
     ]
    }
   ],
   "source": [
    "# example of implicit iteration\n",
    "menu = \"apple pizza pasta hamburgers pizza sandwiches\"\n",
    "\n",
    "if \"pizza\" in menu:\n",
    "    print(\"Pizza in menu is\", True)"
   ]
  },
  {
   "cell_type": "code",
   "execution_count": 18,
   "metadata": {},
   "outputs": [
    {
     "name": "stdout",
     "output_type": "stream",
     "text": [
      "a = range(0, 10)\n"
     ]
    }
   ],
   "source": [
    "a = range(10)\n",
    "print(\"a =\", a)"
   ]
  },
  {
   "cell_type": "code",
   "execution_count": 19,
   "metadata": {},
   "outputs": [
    {
     "name": "stdout",
     "output_type": "stream",
     "text": [
      "Annual\n",
      "Calendar\n",
      "Solstice\n"
     ]
    }
   ],
   "source": [
    "spell_list = [\"Wednesday\", \"Tuesday\", \"November\", \"Annual\", \"Calendar\", \"Solstice\"]\n",
    "half_2 = int(len(spell_list)/2)\n",
    "\n",
    "for iword in range(half_2):\n",
    "    print(spell_list[iword + half_2])"
   ]
  },
  {
   "cell_type": "code",
   "execution_count": 28,
   "metadata": {},
   "outputs": [
    {
     "name": "stdout",
     "output_type": "stream",
     "text": [
      "n = 5\n",
      "\n",
      "half_2 = 2\n",
      "spell_list[ 2 ] = November\n",
      "spell_list[ 3 ] = Annual\n"
     ]
    }
   ],
   "source": [
    "# spell_list = [\"Wednesday\", \"Tuesday\", \"November\", \"Annual\", \"Calendar\", \"Solstice\"]\n",
    "#                0             1          2          3          4\n",
    "spell_list = [\"Wednesday\", \"Tuesday\", \"November\", \"Annual\", \"Calendar\"]\n",
    "n = len(spell_list)\n",
    "print(\"n =\", n)\n",
    "print()\n",
    "\n",
    "half_2 = int(len(spell_list)/2)\n",
    "print(\"half_2 =\", half_2)\n",
    "\n",
    "istop = half_2\n",
    "for iword in range(istop):\n",
    "    index = iword + half_2\n",
    "    print(\"spell_list[\", index, \"] =\", spell_list[index])"
   ]
  },
  {
   "cell_type": "code",
   "execution_count": 29,
   "metadata": {},
   "outputs": [
    {
     "data": {
      "text/plain": [
       "1"
      ]
     },
     "execution_count": 29,
     "metadata": {},
     "output_type": "execute_result"
    }
   ],
   "source": [
    "5 % 2"
   ]
  },
  {
   "cell_type": "code",
   "execution_count": 30,
   "metadata": {},
   "outputs": [
    {
     "name": "stdout",
     "output_type": "stream",
     "text": [
      "Annual\n",
      "Calendar\n",
      "Solstice\n"
     ]
    }
   ],
   "source": [
    "spell_list = [\"Wednesday\", \"Tuesday\", \"November\", \"Annual\", \"Calendar\", \"Solstice\"]\n",
    "for i in range(3,6):\n",
    "    print(spell_list[i])"
   ]
  },
  {
   "cell_type": "code",
   "execution_count": 35,
   "metadata": {},
   "outputs": [
    {
     "name": "stdout",
     "output_type": "stream",
     "text": [
      "Index of \"Annual\" is 3\n",
      "Annual\n",
      "Calendar\n",
      "Solstice\n"
     ]
    }
   ],
   "source": [
    "spell_list = [\"Wednesday\", \"Tuesday\", \"November\", \"Annual\", \"Calendar\", \"Solstice\"]\n",
    "index = -1\n",
    "\n",
    "for i in range(len(spell_list)):\n",
    "    if spell_list[i] == \"Annual\":\n",
    "        index = i\n",
    "        break\n",
    "\n",
    "print('Index of \"Annual\" is', index)\n",
    "\n",
    "for i in range(index,len(spell_list)): # don't be using constants as arguments or parameters\n",
    "    print(spell_list[i])"
   ]
  },
  {
   "cell_type": "code",
   "execution_count": 36,
   "metadata": {},
   "outputs": [
    {
     "name": "stdout",
     "output_type": "stream",
     "text": [
      "[5, 6, 7, 8, 9, 10, 11, 12, 13, 14]\n"
     ]
    }
   ],
   "source": [
    "five_fifteen = []\n",
    "\n",
    "for i in range(5,15):\n",
    "    five_fifteen.append(i)\n",
    "\n",
    "print(five_fifteen)"
   ]
  },
  {
   "cell_type": "code",
   "execution_count": 26,
   "metadata": {},
   "outputs": [
    {
     "name": "stdout",
     "output_type": "stream",
     "text": [
      "enter a word string: complexity\n",
      "10 = length of string\n",
      "Letters with even_numbered indices: ['c', 'm', 'l', 'x', 't']\n",
      "Letters with odd-numbered indices: ['o', 'p', 'e', 'i', 'y']\n"
     ]
    }
   ],
   "source": [
    "word = input(\"enter a word string: \")\n",
    "length = len(word)\n",
    "print(length, \"= length of string\")\n",
    "\n",
    "odd_list = []\n",
    "even_list = []\n",
    "# odd = [1, 3, 5, 7, 9, 11, 13, 15, 17, 19]\n",
    "\n",
    "for letter in range(len(word)):\n",
    "    if letter in range(1, length + 1, 2):\n",
    "        odd_list.append(word[letter])\n",
    "    else:\n",
    "        even_list.append(word[letter])\n",
    "\n",
    "print(\"Letters with even_numbered indices:\", even_list)\n",
    "print(\"Letters with odd-numbered indices:\", odd_list)"
   ]
  },
  {
   "cell_type": "code",
   "execution_count": 24,
   "metadata": {},
   "outputs": [
    {
     "name": "stdout",
     "output_type": "stream",
     "text": [
      "1\n",
      "3\n",
      "5\n",
      "7\n",
      "9\n",
      "11\n",
      "13\n",
      "15\n",
      "17\n",
      "19\n"
     ]
    }
   ],
   "source": [
    "# range(1, 21, 2)\n",
    "for i in range(1, 21, 2):\n",
    "    print(i)"
   ]
  },
  {
   "cell_type": "code",
   "execution_count": 18,
   "metadata": {},
   "outputs": [
    {
     "name": "stdout",
     "output_type": "stream",
     "text": [
      "0 c\n",
      "1 o\n",
      "2 m\n",
      "3 p\n",
      "4 l\n",
      "5 e\n",
      "6 x\n",
      "7 i\n",
      "8 t\n",
      "9 y\n",
      "Letters with even_numbered indices: ['c', 'm', 'l', 'x', 't']\n",
      "Letters with odd-numbered indices: ['o', 'p', 'e', 'i', 'y']\n"
     ]
    }
   ],
   "source": [
    "word = \"complexity\"\n",
    "even_list = []\n",
    "odd_list = []\n",
    "\n",
    "even = True\n",
    "for iletter in range(len(word)):\n",
    "    print(iletter, word[iletter])\n",
    "    if even:\n",
    "        even_list.append(word[iletter])\n",
    "    else:\n",
    "        odd_list.append(word[iletter])\n",
    "    even = not even\n",
    "\n",
    "print(\"Letters with even_numbered indices:\", even_list)\n",
    "print(\"Letters with odd-numbered indices:\", odd_list)"
   ]
  },
  {
   "cell_type": "code",
   "execution_count": 27,
   "metadata": {},
   "outputs": [
    {
     "name": "stdout",
     "output_type": "stream",
     "text": [
      "0 c\n",
      "1 o\n",
      "2 m\n",
      "3 p\n",
      "4 l\n",
      "5 e\n",
      "6 x\n",
      "7 i\n",
      "8 t\n",
      "9 y\n",
      "Letters with even_numbered indices: ['c', 'm', 'l', 'x', 't']\n",
      "Letters with odd-numbered indices: ['o', 'p', 'e', 'i', 'y']\n"
     ]
    }
   ],
   "source": [
    "word = \"complexity\"\n",
    "even_list = []\n",
    "odd_list = []\n",
    "\n",
    "for iletter in range(len(word)):\n",
    "    print(iletter, word[iletter])\n",
    "    if iletter in range(0,len(word),2):\n",
    "        even_list.append(word[iletter])\n",
    "    else:\n",
    "        odd_list.append(word[iletter])\n",
    "    \n",
    "print(\"Letters with even_numbered indices:\", even_list)\n",
    "print(\"Letters with odd-numbered indices:\", odd_list)"
   ]
  },
  {
   "cell_type": "code",
   "execution_count": 5,
   "metadata": {},
   "outputs": [
    {
     "name": "stdout",
     "output_type": "stream",
     "text": [
      "enter name of animal: Cat\n",
      "enter name of animal: Dog\n",
      "enter name of animal: Sheep\n",
      "enter name of animal: \n",
      "add_animal after while loop: ['Cat', 'Dog', 'Sheep']\n",
      "animals extended: ['Chimpanzee', 'Panther', 'Wolf', 'Armadillo', 'Cat', 'Dog', 'Sheep']\n",
      "sorted animals before the if/else: ['Armadillo', 'Cat', 'Chimpanzee', 'Dog', 'Panther', 'Sheep', 'Wolf']\n",
      "enter order to sort(a to z/z to a): z to a\n",
      "branch else: z to a\n",
      "z to a: ['Wolf', 'Sheep', 'Panther', 'Dog', 'Chimpanzee', 'Cat', 'Armadillo']\n"
     ]
    }
   ],
   "source": [
    "add_animals = []\n",
    "animals = [\"Chimpanzee\", \"Panther\", \"Wolf\", \"Armadillo\"]\n",
    "\n",
    "# animal = \"Cat\"\n",
    "animal = input(\"enter name of animal: \")\n",
    "\n",
    "# print(\"animal =\", animal)\n",
    "\n",
    "while animal != \"\":\n",
    "    add_animals.append(animal)\n",
    "    # print(add_animals)\n",
    "    animal = input(\"enter name of animal: \")\n",
    "    \n",
    "# print(\"add_animal after while loop:\", add_animals)\n",
    "\n",
    "animals.extend(add_animals)\n",
    "print(\"animals extended:\", animals)\n",
    "\n",
    "sorted_animals = sorted(animals)\n",
    "print(\"sorted animals before the if/else:\", sorted_animals)\n",
    "\n",
    "order = input(\"enter order to sort(a to z/z to a): \")\n",
    "# order = \"a to z\"\n",
    "# order = \"z to a\"\n",
    "\n",
    "if order == \"a to z\":\n",
    "    print(\"a to z\")\n",
    "    print(\"sorted a to z:\", sorted_animals)\n",
    "else:\n",
    "    print (\"branch else: z to a\")\n",
    "    sorted_animals.reverse()\n",
    "    print(\"z to a:\", sorted_animals)"
   ]
  },
  {
   "cell_type": "code",
   "execution_count": 45,
   "metadata": {},
   "outputs": [
    {
     "name": "stdout",
     "output_type": "stream",
     "text": [
      "sorted_animals before the if/else: ['Armadillo', 'Cat', 'Chimpanzee', 'Panther', 'Wolf']\n",
      "A to Z\n",
      "sorted A to Z: ['Armadillo', 'Cat', 'Chimpanzee', 'Panther', 'Wolf']\n"
     ]
    }
   ],
   "source": [
    "sorted_animals = ['Armadillo', 'Cat', 'Chimpanzee', 'Panther', 'Wolf']\n",
    "# sorted_animals.reverse()\n",
    "# print(\"reverse:\", sorted_animals)\n",
    "\n",
    "order = \"A to Z\"\n",
    "# order = \"Z to A\"\n",
    "\n",
    "print(\"sorted_animals before the if/else:\", sorted_animals)\n",
    "if order == \"A to Z\":\n",
    "    print(\"A to Z\")\n",
    "    print(\"sorted A to Z:\", sorted_animals)\n",
    "else:\n",
    "    print (\"branch else: Z to A\")\n",
    "    sorted_animals.reverse()\n",
    "    print(\"Z to A:\", sorted_animals)"
   ]
  },
  {
   "cell_type": "code",
   "execution_count": 8,
   "metadata": {},
   "outputs": [
    {
     "name": "stdout",
     "output_type": "stream",
     "text": [
      "Always\n",
      "test\n",
      "your\n",
      "code"
     ]
    }
   ],
   "source": [
    "Msg_characters = \"Always test your code\"\n",
    "fact_letters = list(Msg_characters)\n",
    "\n",
    "for letter in fact_letters:\n",
    "    if letter == ' ':\n",
    "        print()\n",
    "    else:\n",
    "        print(letter, end = '')"
   ]
  },
  {
   "cell_type": "code",
   "execution_count": 10,
   "metadata": {},
   "outputs": [
    {
     "name": "stdout",
     "output_type": "stream",
     "text": [
      "Always \n",
      "test \n",
      "your \n",
      "code"
     ]
    }
   ],
   "source": [
    "Msg_characters = \"Always test your code\"\n",
    "fact_letters = list(Msg_characters)\n",
    "\n",
    "for letter in fact_letters:\n",
    "    end_str = ''\n",
    "    if letter == ' ':\n",
    "        end_str = '\\n'\n",
    "    print(letter, end = end_str)"
   ]
  },
  {
   "cell_type": "code",
   "execution_count": 15,
   "metadata": {},
   "outputs": [
    {
     "name": "stdout",
     "output_type": "stream",
     "text": [
      "['3', '5', '8', '1', '2', '1', '5', '2', '0', '4', '2', '8', '9', '1', '2', '1', '9', '8', '1', '9']\n",
      "3+5+8+1+2+1+5+2+0+4+2+8+9+1+2+1+9+8+1+9 = 81\n"
     ]
    }
   ],
   "source": [
    "s_string = \"35812152042891219819\"\n",
    "s_list = list(s_string)\n",
    "print(s_list)\n",
    "\n",
    "sum = 0\n",
    "for symbol in s_list:\n",
    "    number = int(symbol)\n",
    "    sum += number\n",
    "\n",
    "plus = \"+\"\n",
    "equation = plus.join(s_list)\n",
    "print(equation, \"=\", sum)"
   ]
  },
  {
   "cell_type": "code",
   "execution_count": 14,
   "metadata": {},
   "outputs": [
    {
     "name": "stdout",
     "output_type": "stream",
     "text": [
      "sum = 25\n"
     ]
    }
   ],
   "source": [
    "a_list = [1, 9, 8, 7]\n",
    "sum = 0\n",
    "\n",
    "for number in a_list:\n",
    "    sum += number\n",
    "\n",
    "print(\"sum =\", sum)"
   ]
  },
  {
   "cell_type": "code",
   "execution_count": 25,
   "metadata": {},
   "outputs": [
    {
     "name": "stdout",
     "output_type": "stream",
     "text": [
      "len(all) = 7 half = 3\n",
      "all: [10, 20, 30, 40, 50, 60, 70]\n",
      "alist: [10, 20, 30]\n",
      "blist: [40, 50, 60, 70]\n"
     ]
    }
   ],
   "source": [
    "all = [10, 20, 30, 40, 50, 60, 70]\n",
    "# all = [10, 20, 30, 40, 50, 60]\n",
    "alist = []\n",
    "blist = []\n",
    "half = int(len(all)/2) # this is NOT an index of the middle element\n",
    "print(\"len(all) =\", len(all), \"half =\", half)\n",
    "alist.extend(all[0:half])\n",
    "blist.extend(all[half:])\n",
    "print(\"all:\", all)\n",
    "print(\"alist:\", alist)\n",
    "print(\"blist:\", blist)"
   ]
  },
  {
   "cell_type": "code",
   "execution_count": 28,
   "metadata": {},
   "outputs": [
    {
     "name": "stdout",
     "output_type": "stream",
     "text": [
      "Length: 7\n",
      "half 1: 3\n",
      "First half of list: ['Tuesday', 'Wednesday', 'February']\n",
      "Second half of list: ['November', 'Annual', 'Calendar', 'Solstice']\n"
     ]
    }
   ],
   "source": [
    "spell_list = [\"Tuesday\", \"Wednesday\", \"February\", \"November\", \"Annual\", \"Calendar\", \"Solstice\"]\n",
    "length = len(spell_list)\n",
    "print(\"Length:\", length)\n",
    "half_1 = int(len(spell_list)/2)\n",
    "print(\"half 1:\", half_1)\n",
    "first_half = []\n",
    "second_half = []\n",
    "\n",
    "for i in range(half_1):\n",
    "    first_half.append(spell_list[i])\n",
    "\n",
    "for i in range(half_1, length):\n",
    "    second_half.append(spell_list[i])\n",
    "\n",
    "print(\"First half of list:\", first_half)\n",
    "print(\"Second half of list:\", second_half)"
   ]
  },
  {
   "cell_type": "code",
   "execution_count": 36,
   "metadata": {},
   "outputs": [
    {
     "name": "stdout",
     "output_type": "stream",
     "text": [
      "Calcaneus\n",
      "Talus\n",
      "Cuboid\n",
      "Navicular\n",
      "Lateral cuneiform\n",
      "Intermediate cuneiform\n",
      "Medial cuneiform\n"
     ]
    }
   ],
   "source": [
    "foot_bones = [\"calcaneus\", \"talus\", \"cuboid\", \"navicular\", \"lateral cuneiform\", \n",
    "            \"intermediate cuneiform\", \"medial cuneiform\"]\n",
    "\n",
    "for item in foot_bones:\n",
    "    capitalize = item.capitalize()\n",
    "    #comma = \",\"\n",
    "    #comma.join(capitalize)\n",
    "    #print(comma.join(capitalize))\n",
    "    print(capitalize)"
   ]
  },
  {
   "cell_type": "code",
   "execution_count": 73,
   "metadata": {},
   "outputs": [
    {
     "name": "stdout",
     "output_type": "stream",
     "text": [
      "Enter a poem, verse, or saying: Little fly, Thy summer’s play My thoughtless hand Has brushed away. Am not I A fly like thee? Or art not thou A man like me?\n",
      "New list:  ['play', 'A', 'thoughtless', 'not', 'A', 'thou', 'man', 'Am', 'thee?', 'like', 'Has', 'summer’s', 'fly,', 'I', 'not', 'brushed', 'Little', 'me?', 'art', 'My', 'like']\n"
     ]
    }
   ],
   "source": [
    "def word_mixer(word_list):\n",
    "    word_list.sort()\n",
    "    # print(\"Word list after sorting by word_mixer:\", word_list)\n",
    "    # print(\"Length of word list:\", len(word_list))\n",
    "    new_words = []\n",
    "    while len(word_list) > 5:\n",
    "        temp_word = word_list.pop(-5)\n",
    "        new_words.append(temp_word)\n",
    "        temp_word = word_list.pop(0)\n",
    "        new_words.append(temp_word)\n",
    "        temp_word = word_list.pop()\n",
    "        new_words.append(temp_word)\n",
    "    # print(\"Return:\", new_words)\n",
    "    return new_words\n",
    "\n",
    "words = input(\"Enter a poem, verse, or saying: \")\n",
    "# words = \"Little fly, Thy summer’s play My thoughtless hand Has brushed away. Am not I A fly like thee? Or art not thou A man like me?\"\n",
    "words_list = words.split()\n",
    "words_length = len(words_list)\n",
    "\n",
    "orig_words = []\n",
    "\n",
    "for i in range(len(words_list)): # just 'i' is index\n",
    "    if len(words_list[i]) <= 3: # words_list[i] means element in list\n",
    "        orig_words.append(words_list[i].lower())\n",
    "    elif len(words_list[i]) >= 7:\n",
    "        orig_words.append(words_list[i].upper())\n",
    "\n",
    "# print(\"Before word_mixer words_list:\", words_list)\n",
    "# word_mixer(words_list)\n",
    "new_list = word_mixer(words_list)\n",
    "print(\"New list: \", new_list)"
   ]
  },
  {
   "cell_type": "code",
   "execution_count": 52,
   "metadata": {},
   "outputs": [
    {
     "ename": "AttributeError",
     "evalue": "'str' object has no attribute 'lowercase'",
     "output_type": "error",
     "traceback": [
      "\u001b[1;31m---------------------------------------------------------------------------\u001b[0m",
      "\u001b[1;31mAttributeError\u001b[0m                            Traceback (most recent call last)",
      "\u001b[1;32m<ipython-input-52-dd05e52efb83>\u001b[0m in \u001b[0;36m<module>\u001b[1;34m()\u001b[0m\n\u001b[0;32m      1\u001b[0m \u001b[0ms\u001b[0m \u001b[1;33m=\u001b[0m \u001b[1;34m\"abc\"\u001b[0m\u001b[1;33m\u001b[0m\u001b[0m\n\u001b[1;32m----> 2\u001b[1;33m \u001b[0mprint\u001b[0m\u001b[1;33m(\u001b[0m\u001b[0ms\u001b[0m\u001b[1;33m.\u001b[0m\u001b[0mlowercase\u001b[0m\u001b[1;33m(\u001b[0m\u001b[1;33m)\u001b[0m\u001b[1;33m)\u001b[0m\u001b[1;33m\u001b[0m\u001b[0m\n\u001b[0m",
      "\u001b[1;31mAttributeError\u001b[0m: 'str' object has no attribute 'lowercase'"
     ]
    }
   ],
   "source": [
    "s = \"abc\"\n",
    "print(s.lowercase()) # s.lower() is lowercase"
   ]
  },
  {
   "cell_type": "code",
   "execution_count": 23,
   "metadata": {},
   "outputs": [
    {
     "name": "stdout",
     "output_type": "stream",
     "text": [
      "file contents: city,country,month ave: highest high,month ave: lowest low\n",
      "Beijing,China,30.9,-8.4\n",
      "Cairo,Egypt,34.7,1.2\n",
      "London,UK,23.5,2.1\n",
      "Nairobi,Kenya,26.3,10.5\n",
      "New York City,USA,28.9,-2.8\n",
      "Sydney,Australia,26.5,8.7\n",
      "Tokyo,Japan,30.8,0.9\n",
      "Rio de Janeiro, Brazil, 30.0, 18.0\n",
      "\n"
     ]
    },
    {
     "name": "stderr",
     "output_type": "stream",
     "text": [
      "  % Total    % Received % Xferd  Average Speed   Time    Time     Time  Current\n",
      "                                 Dload  Upload   Total   Spent    Left  Speed\n",
      "\n",
      "  0     0    0     0    0     0      0      0 --:--:-- --:--:-- --:--:--     0\n",
      "100   222  100   222    0     0    676      0 --:--:-- --:--:-- --:--:--   676\n"
     ]
    }
   ],
   "source": [
    "!curl https://raw.githubusercontent.com/MicrosoftLearning/intropython/master/world_temp_mean.csv -o mean_temp.txt\n",
    "mean_temp_file = open('mean_temp.txt', 'a+')\n",
    "mean_temp_file.write(\"Rio de Janeiro, Brazil, 30.0, 18.0\\n\")\n",
    "mean_temp_file.seek(0)\n",
    "\n",
    "\n",
    "mean_temp_file_contents = mean_temp_file.read()\n",
    "print(\"file contents:\", mean_temp_file_contents)"
   ]
  },
  {
   "cell_type": "code",
   "execution_count": 3,
   "metadata": {},
   "outputs": [
    {
     "name": "stdout",
     "output_type": "stream",
     "text": [
      "headings list: ['city', 'country', 'month ave: highest high', 'month ave: lowest low\\n']\n",
      "city,country,month ave: highest high,month ave: lowest low\n",
      "Beijing,China,30.9,-8.4\n",
      "Cairo,Egypt,34.7,1.2\n",
      "London,UK,23.5,2.1\n",
      "Nairobi,Kenya,26.3,10.5\n",
      "New York City,USA,28.9,-2.8\n",
      "Sydney,Australia,26.5,8.7\n",
      "Tokyo,Japan,30.8,0.9\n",
      "Rio de Janeiro, Brazil, 30.0, 18.0\n",
      "city_list: ['city', 'country', 'month ave: highest high', 'month ave: lowest low', 'Beijing', 'China', '30.9', '-8.4', 'Cairo', 'Egypt', '34.7', '1.2', 'London', 'UK', '23.5', '2.1', 'Nairobi', 'Kenya', '26.3', '10.5', 'New York City', 'USA', '28.9', '-2.8', 'Sydney', 'Australia', '26.5', '8.7', 'Tokyo', 'Japan', '30.8', '0.9', 'Rio de Janeiro', ' Brazil', ' 30.0', ' 18.0', '']\n",
      "\n",
      "City of Beijing month ave: highest high is 30.9 Celsius\n",
      "City of Cairo month ave: highest high is 34.7 Celsius\n",
      "City of London month ave: highest high is 23.5 Celsius\n",
      "City of Nairobi month ave: highest high is 26.3 Celsius\n",
      "City of New York City month ave: highest high is 28.9 Celsius\n",
      "City of Sydney month ave: highest high is 26.5 Celsius\n",
      "City of Tokyo month ave: highest high is 30.8 Celsius\n",
      "City of Rio de Janeiro month ave: highest high is  30.0 Celsius\n"
     ]
    },
    {
     "name": "stderr",
     "output_type": "stream",
     "text": [
      "  % Total    % Received % Xferd  Average Speed   Time    Time     Time  Current\n",
      "                                 Dload  Upload   Total   Spent    Left  Speed\n",
      "\n",
      "  0     0    0     0    0     0      0      0 --:--:-- --:--:-- --:--:--     0\n",
      "100   222  100   222    0     0    888      0 --:--:-- --:--:-- --:--:--   888\n"
     ]
    }
   ],
   "source": [
    "!curl https://raw.githubusercontent.com/MicrosoftLearning/intropython/master/world_temp_mean.csv -o mean_temp.txt\n",
    "mean_temp_file = open('mean_temp.txt', 'a+')\n",
    "mean_temp_file.write(\"Rio de Janeiro, Brazil, 30.0, 18.0\\n\")\n",
    "mean_temp_file.seek(0)\n",
    "\n",
    "headings = mean_temp_file.readline()\n",
    "headings_list = headings.split(',')\n",
    "print(\"headings list:\", headings_list)\n",
    "\n",
    "city_temp = \"\"\n",
    "\n",
    "while headings:\n",
    "#    city_temp += mean_temp_file.readline()\n",
    "    print(headings[:-1])\n",
    "    city_temp += headings.strip('\\n') + ',' # \" + ','\" is needed to separate last element and first element in new line\n",
    "    headings = mean_temp_file.readline()\n",
    "    #headings_list = headings.split(',')\n",
    "    \n",
    "\n",
    "city_list = city_temp.split(',')\n",
    "    \n",
    "print(\"city_list:\", city_list)\n",
    "print()\n",
    "\n",
    "print(headings_list[0].title(), 'of', city_list[4], headings_list[2], 'is', city_list[6], 'Celsius')\n",
    "print(headings_list[0].title(), 'of', city_list[8], headings_list[2], 'is', city_list[10], 'Celsius')\n",
    "print(headings_list[0].title(), 'of', city_list[12], headings_list[2], 'is', city_list[14], 'Celsius')\n",
    "print(headings_list[0].title(), 'of', city_list[16], headings_list[2], 'is', city_list[18], 'Celsius')\n",
    "print(headings_list[0].title(), 'of', city_list[20], headings_list[2], 'is', city_list[22], 'Celsius')\n",
    "print(headings_list[0].title(), 'of', city_list[24], headings_list[2], 'is', city_list[26], 'Celsius')\n",
    "print(headings_list[0].title(), 'of', city_list[28], headings_list[2], 'is', city_list[30], 'Celsius')\n",
    "print(headings_list[0].title(), 'of', city_list[32], headings_list[2], 'is', city_list[34], 'Celsius')"
   ]
  },
  {
   "cell_type": "code",
   "execution_count": 21,
   "metadata": {
    "scrolled": true
   },
   "outputs": [
    {
     "name": "stdout",
     "output_type": "stream",
     "text": [
      "headings list: ['city', 'country', 'month ave: highest high', 'month ave: lowest low\\n']\n",
      "['Beijing', 'Cairo', 'London', 'Nairobi', 'New York City', 'Sydney', 'Tokyo', 'Rio de Janeiro']\n",
      "['30.9', '34.7', '23.5', '26.3', '28.9', '26.5', '30.8', ' 30.0']\n",
      "City of Beijing month ave: highest high is 30.9 Celsius\n",
      "City of Cairo month ave: highest high is 34.7 Celsius\n",
      "City of London month ave: highest high is 23.5 Celsius\n",
      "City of Nairobi month ave: highest high is 26.3 Celsius\n",
      "City of New York City month ave: highest high is 28.9 Celsius\n",
      "City of Sydney month ave: highest high is 26.5 Celsius\n",
      "City of Tokyo month ave: highest high is 30.8 Celsius\n",
      "City of Rio de Janeiro month ave: highest high is  30.0 Celsius\n"
     ]
    },
    {
     "name": "stderr",
     "output_type": "stream",
     "text": [
      "  % Total    % Received % Xferd  Average Speed   Time    Time     Time  Current\n",
      "                                 Dload  Upload   Total   Spent    Left  Speed\n",
      "\n",
      "  0     0    0     0    0     0      0      0 --:--:-- --:--:-- --:--:--     0\n",
      "  0     0    0     0    0     0      0      0 --:--:-- --:--:-- --:--:--     0\n",
      "100   222  100   222    0     0   1187      0 --:--:-- --:--:-- --:--:--  1187\n"
     ]
    }
   ],
   "source": [
    "!curl https://raw.githubusercontent.com/MicrosoftLearning/intropython/master/world_temp_mean.csv -o mean_temp.txt\n",
    "mean_temp_file = open('mean_temp.txt', 'a+')\n",
    "mean_temp_file.write(\"Rio de Janeiro, Brazil, 30.0, 18.0\\n\")\n",
    "\n",
    "mean_temp_file.seek(0)\n",
    "headings = mean_temp_file.readline()\n",
    "headings_list = headings.split(',')\n",
    "print(\"headings list:\", headings_list)\n",
    "\n",
    "cities = []\n",
    "temps = []\n",
    "ncities = 0\n",
    "\n",
    "line = mean_temp_file.readline().strip(\"\\n\")\n",
    "while line:\n",
    "    # convert line into list\n",
    "    line_list = line.split(\",\")\n",
    "    # print(\"line_list =\", line_list)\n",
    "    cities.append(line_list[0])\n",
    "    temps.append(line_list[2])\n",
    "    # print(\"cities[\", ncities, \"] =\", cities[ncities], \"temps[\", ncities, \"] =\", temps[ncities])\n",
    "    ncities += 1\n",
    "    # read the next city line\n",
    "    line = mean_temp_file.readline().strip(\"\\n\")\n",
    "\n",
    "print(cities)\n",
    "print(temps)\n",
    "\n",
    "for i in range(ncities):\n",
    "    print(headings_list[0].title(), 'of', cities[i], headings_list[2], 'is', temps[i], 'Celsius')\n",
    "\n",
    "mean_temp_file.close()"
   ]
  },
  {
   "cell_type": "code",
   "execution_count": 33,
   "metadata": {},
   "outputs": [
    {
     "name": "stdout",
     "output_type": "stream",
     "text": [
      "Once deleted, variables cannot be recovered. Proceed (y/[n])? y\n"
     ]
    }
   ],
   "source": [
    "%reset"
   ]
  },
  {
   "cell_type": "code",
   "execution_count": 37,
   "metadata": {},
   "outputs": [
    {
     "name": "stdout",
     "output_type": "stream",
     "text": [
      "City of Beijing month ave: highest high is 30.9 Celsius\n",
      "City of Cairo month ave: highest high is 34.7 Celsius\n",
      "City of London month ave: highest high is 23.5 Celsius\n",
      "City of Nairobi month ave: highest high is 26.3 Celsius\n",
      "City of New York City month ave: highest high is 28.9 Celsius\n",
      "City of Sydney month ave: highest high is 26.5 Celsius\n",
      "City of Tokyo month ave: highest high is 30.8 Celsius\n",
      "City of Rio de Janeiro month ave: highest high is  30.0 Celsius\n"
     ]
    },
    {
     "name": "stderr",
     "output_type": "stream",
     "text": [
      "  % Total    % Received % Xferd  Average Speed   Time    Time     Time  Current\n",
      "                                 Dload  Upload   Total   Spent    Left  Speed\n",
      "\n",
      "  0     0    0     0    0     0      0      0 --:--:-- --:--:-- --:--:--     0\n",
      "100   222  100   222    0     0   1093      0 --:--:-- --:--:-- --:--:--  1093\n"
     ]
    }
   ],
   "source": [
    "!curl https://raw.githubusercontent.com/MicrosoftLearning/intropython/master/world_temp_mean.csv -o mean_temp.txt\n",
    "mean_temp_file = open('mean_temp.txt', 'a+')\n",
    "mean_temp_file.write(\"Rio de Janeiro, Brazil, 30.0, 18.0\\n\")\n",
    "\n",
    "mean_temp_file.seek(0)\n",
    "headings = mean_temp_file.readline()\n",
    "headings_list = headings.split(',')\n",
    "# print(\"headings list:\", headings_list)\n",
    "\n",
    "city_temp = mean_temp_file.readline().strip(\"\\n\")\n",
    "while city_temp:\n",
    "    # convert line into list\n",
    "    city_temp_list = city_temp.split(\",\")\n",
    "    # print('city_temp_list:', city_temp_list) \n",
    "    # read the next city line\n",
    "    print(headings_list[0].title(), 'of', city_temp_list[0], headings_list[2], 'is', city_temp_list[2], 'Celsius')\n",
    "    city_temp = mean_temp_file.readline().strip(\"\\n\")\n",
    "    \n",
    "mean_temp_file.close()"
   ]
  },
  {
   "cell_type": "code",
   "execution_count": 2,
   "metadata": {},
   "outputs": [
    {
     "name": "stdout",
     "output_type": "stream",
     "text": [
      "[10, 20, 300, 40]\n"
     ]
    }
   ],
   "source": [
    "# list\n",
    "alist = [10, 20, 30, 40]\n",
    "alist[2] = 300\n",
    "print(alist)"
   ]
  },
  {
   "cell_type": "code",
   "execution_count": 3,
   "metadata": {},
   "outputs": [
    {
     "name": "stdout",
     "output_type": "stream",
     "text": [
      "(10, 20, 30, 40)\n"
     ]
    }
   ],
   "source": [
    "# tuple\n",
    "atuple = (10, 20, 30, 40)\n",
    "print(atuple)"
   ]
  },
  {
   "cell_type": "code",
   "execution_count": 8,
   "metadata": {},
   "outputs": [
    {
     "name": "stdout",
     "output_type": "stream",
     "text": [
      "(20, 10, 30, 40)\n"
     ]
    }
   ],
   "source": [
    "# tuple\n",
    "atuple = (20, 10, 30, 40)\n",
    "# atuple.append(50) # 'tuple' object has no attribute 'append'\n",
    "# atuple.insert(20) # 'tuple' object has no attribute 'insert'\n",
    "# tuple is immutable\n",
    "# atuple.sort() # 'tuple' object has no attribute 'sort'\n",
    "print(atuple)"
   ]
  },
  {
   "cell_type": "code",
   "execution_count": 10,
   "metadata": {},
   "outputs": [
    {
     "name": "stdout",
     "output_type": "stream",
     "text": [
      "[20, 10, 30, 40]\n"
     ]
    }
   ],
   "source": [
    "xlist = list(atuple)\n",
    "print(xlist)"
   ]
  },
  {
   "cell_type": "code",
   "execution_count": 13,
   "metadata": {},
   "outputs": [
    {
     "name": "stdout",
     "output_type": "stream",
     "text": [
      "{'Sun': 'Sunday', 'Mon': 'Monday', 'Tue': 'Tuesday', 'Wed': 'Wednesday', 'Thu': 'Thursday', 'Fri': 'Friday'}\n",
      "Tuesday\n",
      "300\n"
     ]
    }
   ],
   "source": [
    "# dictionary: key-value pairs. Cf: in fact list contains int-value pair\n",
    "d = {'Sun': 'Sunday', 'Mon': 'Monday', 'Tue':'Tuesday', 'Wed':'Wednesday', 'Thu':'Thursday', 'Fri':'Friday'}\n",
    "print(d)\n",
    "print(d['Tue'])\n",
    "print(alist[2]) # Cf with list"
   ]
  },
  {
   "cell_type": "code",
   "execution_count": 15,
   "metadata": {},
   "outputs": [
    {
     "name": "stdout",
     "output_type": "stream",
     "text": [
      "{'Sun': 'Sunday', 'Mon': 'Monday', 'Tue': 'Tuesday', 'Wed': 'Wednesday', 'Thu': 'Thursday', 'Fri': 'Friday', 'Xxx': 'Unknown day'}\n",
      "{'Sun': 'Sunday', 'Mon': 'Monday', 'Tue': 'Tuesday', 'Wed': 'Wednesday', 'Thu': 'Thursday', 'Fri': 'Friday', 'Xxx': 'Leap day'}\n"
     ]
    }
   ],
   "source": [
    "d['Xxx'] = 'Unknown day'\n",
    "print(d)\n",
    "d['Xxx'] = 'Leap day'\n",
    "print(d)"
   ]
  },
  {
   "cell_type": "code",
   "execution_count": 20,
   "metadata": {},
   "outputs": [
    {
     "name": "stdout",
     "output_type": "stream",
     "text": [
      "dict_keys(['Sun', 'Mon', 'Tue', 'Wed', 'Thu', 'Fri', 'Xxx'])\n",
      "dict_values(['Sunday', 'Monday', 'Tuesday', 'Wednesday', 'Thursday', 'Friday', 'Leap day'])\n",
      "dict_keys(['Sun', 'Mon', 'Tue', 'Wed', 'Thu', 'Fri', 'Xxx'])\n",
      "<class 'dict_keys'>\n",
      "['Sun', 'Mon', 'Tue', 'Wed', 'Thu', 'Fri', 'Xxx']\n"
     ]
    }
   ],
   "source": [
    "print(d.keys())\n",
    "print(d.values()) # method is function that is defined in class\n",
    "x = d.keys()\n",
    "print(x)\n",
    "print(type(x))\n",
    "xlist = list(x)\n",
    "print(xlist)"
   ]
  },
  {
   "cell_type": "code",
   "execution_count": 10,
   "metadata": {},
   "outputs": [
    {
     "data": {
      "text/plain": [
       "(['a', 'b', 'd'], 10, 'abc def')"
      ]
     },
     "execution_count": 10,
     "metadata": {},
     "output_type": "execute_result"
    }
   ],
   "source": [
    "alist = ['a', 'b', 'c']\n",
    "t = (alist, 10, \"abc def\")\n",
    "t[0][2] = 'd'\n",
    "t"
   ]
  },
  {
   "cell_type": "code",
   "execution_count": 14,
   "metadata": {},
   "outputs": [
    {
     "name": "stdout",
     "output_type": "stream",
     "text": [
      "{0: 'Sunday', 1: 'Monday', 2: 'Tuesday', 3: 'Wednesday'}\n",
      "(0, 'Sunday')\n",
      "(1, 'Monday')\n",
      "(2, 'Tuesday')\n",
      "(3, 'Wednesday')\n",
      "dict_keys([0, 1, 2, 3])\n",
      "dict_values(['Sunday', 'Monday', 'Tuesday', 'Wednesday'])\n"
     ]
    }
   ],
   "source": [
    "d = {0:'Sunday', 1:'Monday', 2:'Tuesday', 3:'Wednesday'}\n",
    "print(d)\n",
    "\n",
    "for element in d.items():\n",
    "    print(element)\n",
    "\n",
    "print(d.keys())\n",
    "print(d.values())"
   ]
  },
  {
   "cell_type": "code",
   "execution_count": 18,
   "metadata": {},
   "outputs": [
    {
     "name": "stdout",
     "output_type": "stream",
     "text": [
      "defaultdict(<class 'int'>, {'a': 5, 'b': 2, 'r': 2, 'c': 1, 'd': 1})\n"
     ]
    }
   ],
   "source": [
    "# using defaultdict\n",
    "word = 'abracadabra'\n",
    "word.count('x')\n",
    "from collections import defaultdict\n",
    "frequency = defaultdict(int)\n",
    "for letter in word:\n",
    "    frequency[letter] += 1\n",
    "\n",
    "print(frequency)"
   ]
  },
  {
   "cell_type": "code",
   "execution_count": 39,
   "metadata": {},
   "outputs": [
    {
     "name": "stdout",
     "output_type": "stream",
     "text": [
      "{'a': 5, 'b': 2, 'r': 2, 'c': 1, 'd': 1}\n"
     ]
    }
   ],
   "source": [
    "# example\n",
    "word = 'abracadabra'\n",
    "word.count('x')\n",
    "# from collections import defaultdict\n",
    "# frequency = defaultdict(int)\n",
    "frequency = {}\n",
    "for letter in word:\n",
    "    if letter in frequency.keys():\n",
    "        frequency[letter] += 1\n",
    "    else:\n",
    "        frequency[letter] = 1\n",
    "\n",
    "print(frequency)"
   ]
  },
  {
   "cell_type": "code",
   "execution_count": 6,
   "metadata": {},
   "outputs": [
    {
     "name": "stdout",
     "output_type": "stream",
     "text": [
      "frequency = defaultdict(<class 'int'>, {'m': 1, 'o': 6, 'r': 2, 'n': 8, 'i': 3, 'g': 1, 's': 6, 'a': 3, 'v': 1, 'e': 6, 'u': 2, 'p': 1, 't': 3, 'h': 3, 'f': 1, 'q': 1, 'c': 2, 'w': 2})\n",
      "elements of frequency:\n",
      "[('a', 3), ('c', 2), ('e', 6), ('f', 1), ('g', 1), ('h', 3), ('i', 3), ('m', 1), ('n', 8), ('o', 6), ('p', 1), ('q', 1), ('r', 2), ('s', 6), ('t', 3), ('u', 2), ('v', 1), ('w', 2)]\n"
     ]
    }
   ],
   "source": [
    "text = 'mornings, save upon those not infrequent occasions when he was'\n",
    "text.count('a')\n",
    "\n",
    "from collections import defaultdict # collections is module\n",
    "frequency = defaultdict(int)\n",
    "\n",
    "for letter in text:\n",
    "    if letter.isalpha():\n",
    "        frequency[letter] += 1\n",
    "\n",
    "print(\"frequency =\", frequency)\n",
    "pairs = []\n",
    "# using dict.items()\n",
    "print(\"elements of frequency:\")\n",
    "for element in frequency.items():\n",
    "    key, value = element\n",
    "    # print(key, value)\n",
    "    pairs.append(element)\n",
    "\n",
    "pairs.sort()\n",
    "print(pairs)"
   ]
  },
  {
   "cell_type": "code",
   "execution_count": 48,
   "metadata": {},
   "outputs": [
    {
     "name": "stdout",
     "output_type": "stream",
     "text": [
      "[1, 4, 9, 16, 25, 36]\n",
      "[4, 16, 36]\n"
     ]
    }
   ],
   "source": [
    "# list comprehension examples: build a list using another list\n",
    "xlist = [1, 2, 3, 4, 5, 6]\n",
    "x2list = [x*x for x in xlist]\n",
    "x2even = [x*x for x in xlist if x % 2 == 0] # % is remainder\n",
    "print(x2list)\n",
    "print(x2even)"
   ]
  },
  {
   "cell_type": "code",
   "execution_count": 56,
   "metadata": {},
   "outputs": [
    {
     "name": "stdout",
     "output_type": "stream",
     "text": [
      "[100 200 300 400]\n",
      "[110 220 330 440]\n",
      "[10, 20, 30, 40, 10, 20, 30, 40, 10, 20, 30, 40, 10, 20, 30, 40, 10, 20, 30, 40, 10, 20, 30, 40, 10, 20, 30, 40, 10, 20, 30, 40, 10, 20, 30, 40, 10, 20, 30, 40]\n",
      "['flip flops', 'training', 'slippers', 'flip flops', 'training', 'slippers', 'flip flops', 'training', 'slippers', 'flip flops', 'training', 'slippers']\n",
      "['0000000000']\n"
     ]
    }
   ],
   "source": [
    "# array examples\n",
    "import numpy as np\n",
    "alist = [10, 20, 30, 40]\n",
    "a = np.array(alist)\n",
    "b = 10 * a\n",
    "print(b)\n",
    "c = a + b\n",
    "print(c)\n",
    "\n",
    "blist = 10 * alist\n",
    "print(blist)\n",
    "shoes = ['flip flops', 'training', 'slippers']\n",
    "shoes_many = 4 * shoes\n",
    "print(shoes_many)\n",
    "\n",
    "list0 = [10 * '0']\n",
    "print(list0)"
   ]
  },
  {
   "cell_type": "code",
   "execution_count": 21,
   "metadata": {},
   "outputs": [
    {
     "ename": "UnicodeDecodeError",
     "evalue": "'charmap' codec can't decode byte 0x9d in position 1166: character maps to <undefined>",
     "output_type": "error",
     "traceback": [
      "\u001b[1;31m---------------------------------------------------------------------------\u001b[0m",
      "\u001b[1;31mUnicodeDecodeError\u001b[0m                        Traceback (most recent call last)",
      "\u001b[1;32m<ipython-input-21-66ffc95f1281>\u001b[0m in \u001b[0;36m<module>\u001b[1;34m()\u001b[0m\n\u001b[0;32m      1\u001b[0m \u001b[1;32mwith\u001b[0m \u001b[0mopen\u001b[0m\u001b[1;33m(\u001b[0m\u001b[1;34m'the_hound_of_the_baskervilles.txt'\u001b[0m\u001b[1;33m)\u001b[0m \u001b[1;32mas\u001b[0m \u001b[0mhound_file\u001b[0m\u001b[1;33m:\u001b[0m\u001b[1;33m\u001b[0m\u001b[0m\n\u001b[1;32m----> 2\u001b[1;33m     \u001b[0mtext\u001b[0m \u001b[1;33m=\u001b[0m \u001b[0mhound_file\u001b[0m\u001b[1;33m.\u001b[0m\u001b[0mread\u001b[0m\u001b[1;33m(\u001b[0m\u001b[1;33m)\u001b[0m\u001b[1;33m\u001b[0m\u001b[0m\n\u001b[0m\u001b[0;32m      3\u001b[0m \u001b[0mprint\u001b[0m\u001b[1;33m(\u001b[0m\u001b[0mtext\u001b[0m\u001b[1;33m)\u001b[0m\u001b[1;33m\u001b[0m\u001b[0m\n",
      "\u001b[1;32mC:\\ProgramData\\Anaconda3\\lib\\encodings\\cp1252.py\u001b[0m in \u001b[0;36mdecode\u001b[1;34m(self, input, final)\u001b[0m\n\u001b[0;32m     21\u001b[0m \u001b[1;32mclass\u001b[0m \u001b[0mIncrementalDecoder\u001b[0m\u001b[1;33m(\u001b[0m\u001b[0mcodecs\u001b[0m\u001b[1;33m.\u001b[0m\u001b[0mIncrementalDecoder\u001b[0m\u001b[1;33m)\u001b[0m\u001b[1;33m:\u001b[0m\u001b[1;33m\u001b[0m\u001b[0m\n\u001b[0;32m     22\u001b[0m     \u001b[1;32mdef\u001b[0m \u001b[0mdecode\u001b[0m\u001b[1;33m(\u001b[0m\u001b[0mself\u001b[0m\u001b[1;33m,\u001b[0m \u001b[0minput\u001b[0m\u001b[1;33m,\u001b[0m \u001b[0mfinal\u001b[0m\u001b[1;33m=\u001b[0m\u001b[1;32mFalse\u001b[0m\u001b[1;33m)\u001b[0m\u001b[1;33m:\u001b[0m\u001b[1;33m\u001b[0m\u001b[0m\n\u001b[1;32m---> 23\u001b[1;33m         \u001b[1;32mreturn\u001b[0m \u001b[0mcodecs\u001b[0m\u001b[1;33m.\u001b[0m\u001b[0mcharmap_decode\u001b[0m\u001b[1;33m(\u001b[0m\u001b[0minput\u001b[0m\u001b[1;33m,\u001b[0m\u001b[0mself\u001b[0m\u001b[1;33m.\u001b[0m\u001b[0merrors\u001b[0m\u001b[1;33m,\u001b[0m\u001b[0mdecoding_table\u001b[0m\u001b[1;33m)\u001b[0m\u001b[1;33m[\u001b[0m\u001b[1;36m0\u001b[0m\u001b[1;33m]\u001b[0m\u001b[1;33m\u001b[0m\u001b[0m\n\u001b[0m\u001b[0;32m     24\u001b[0m \u001b[1;33m\u001b[0m\u001b[0m\n\u001b[0;32m     25\u001b[0m \u001b[1;32mclass\u001b[0m \u001b[0mStreamWriter\u001b[0m\u001b[1;33m(\u001b[0m\u001b[0mCodec\u001b[0m\u001b[1;33m,\u001b[0m\u001b[0mcodecs\u001b[0m\u001b[1;33m.\u001b[0m\u001b[0mStreamWriter\u001b[0m\u001b[1;33m)\u001b[0m\u001b[1;33m:\u001b[0m\u001b[1;33m\u001b[0m\u001b[0m\n",
      "\u001b[1;31mUnicodeDecodeError\u001b[0m: 'charmap' codec can't decode byte 0x9d in position 1166: character maps to <undefined>"
     ]
    }
   ],
   "source": [
    "with open('the_hound_of_the_baskervilles.txt') as hound_file:\n",
    "    text = hound_file.read()\n",
    "print(text)"
   ]
  },
  {
   "cell_type": "code",
   "execution_count": 38,
   "metadata": {},
   "outputs": [
    {
     "name": "stdout",
     "output_type": "stream",
     "text": [
      "80\n"
     ]
    }
   ],
   "source": [
    "hound_file = open('the_hound_of_the_baskervilles.txt', 'r')\n",
    "hound_line = hound_file.readlines() # .readlines() returns list of strings\n",
    "#print(hound_line)\n",
    "print(len(hound_line))"
   ]
  },
  {
   "cell_type": "code",
   "execution_count": 45,
   "metadata": {},
   "outputs": [
    {
     "name": "stdout",
     "output_type": "stream",
     "text": [
      "3585\n"
     ]
    }
   ],
   "source": [
    "hound_file = open('the_hound_of_the_baskervilles.txt', 'r')\n",
    "hound_line = hound_file.read()\n",
    "# print(hound_line)\n",
    "print(len(hound_line))"
   ]
  },
  {
   "cell_type": "code",
   "execution_count": 70,
   "metadata": {},
   "outputs": [
    {
     "name": "stdout",
     "output_type": "stream",
     "text": [
      "elements of frequency:\n",
      "[('a', 19695), ('b', 3565), ('c', 5912), ('d', 10449), ('e', 29983), ('f', 5164), ('g', 4347), ('h', 16722), ('i', 17064), ('j', 157), ('k', 1930), ('l', 9711), ('m', 6635), ('n', 16384), ('o', 19321), ('p', 3775), ('q', 191), ('r', 14363), ('s', 15309), ('t', 22620), ('u', 7477), ('v', 2602), ('w', 6463), ('x', 375), ('y', 5242), ('z', 121)]\n"
     ]
    }
   ],
   "source": [
    "from collections import defaultdict # collections is module\n",
    "\n",
    "with open('The Hound Of The Baskervilles.txt', 'r') as hound_file:\n",
    "    hound_line = hound_file.read()\n",
    "\n",
    "frequency = defaultdict(int)\n",
    "\n",
    "for letter in hound_line:\n",
    "    if letter.isalpha():\n",
    "        frequency[letter.lower()] += 1\n",
    "\n",
    "pairs = []\n",
    "print(\"elements of frequency:\")\n",
    "for element in frequency.items(): # uses dict.items()\n",
    "    key, value = element\n",
    "    pairs.append(element)\n",
    "\n",
    "pairs.sort()\n",
    "print(pairs)"
   ]
  },
  {
   "cell_type": "code",
   "execution_count": 64,
   "metadata": {},
   "outputs": [
    {
     "name": "stdout",
     "output_type": "stream",
     "text": [
      "[5.0, 10.0, 15.0, 20.0]\n",
      "[('a', 30), ('b', 20), ('c', 10)]\n",
      "[('c', 10), ('b', 20), ('a', 30)]\n"
     ]
    }
   ],
   "source": [
    "# concept of lambda\n",
    "\n",
    "a = [10, 20, 30, 40]\n",
    "b = [x/2 for x in a]\n",
    "print(b)\n",
    "\n",
    "# c = [lambda x: x^2 for x in a]\n",
    "# print(c)\n",
    "\n",
    "# sort by the second element of tuple\n",
    "\n",
    "alist = [('a', 30), ('c', 10), ('b', 20)]\n",
    "\n",
    "alist.sort()\n",
    "print(alist)\n",
    "\n",
    "alist.sort(key = lambda x: x[1])\n",
    "print(alist)"
   ]
  },
  {
   "cell_type": "code",
   "execution_count": 71,
   "metadata": {},
   "outputs": [
    {
     "name": "stdout",
     "output_type": "stream",
     "text": [
      "elements of frequency:\n",
      "[('a', 19695), ('b', 3565), ('c', 5912), ('d', 10449), ('e', 29983), ('f', 5164), ('g', 4347), ('h', 16722), ('i', 17064), ('j', 157), ('k', 1930), ('l', 9711), ('m', 6635), ('n', 16384), ('o', 19321), ('p', 3775), ('q', 191), ('r', 14363), ('s', 15309), ('t', 22620), ('u', 7477), ('v', 2602), ('w', 6463), ('x', 375), ('y', 5242), ('z', 121)]\n",
      "sort by second element of value:\n",
      "[('e', 29983), ('t', 22620), ('a', 19695), ('o', 19321), ('i', 17064), ('h', 16722), ('n', 16384), ('s', 15309), ('r', 14363), ('d', 10449), ('l', 9711), ('u', 7477), ('m', 6635), ('w', 6463), ('c', 5912), ('y', 5242), ('f', 5164), ('g', 4347), ('p', 3775), ('b', 3565), ('v', 2602), ('k', 1930), ('x', 375), ('q', 191), ('j', 157), ('z', 121)]\n"
     ]
    }
   ],
   "source": [
    "# sorting by value\n",
    "from collections import defaultdict # collections is module\n",
    "\n",
    "with open('The Hound Of The Baskervilles.txt', 'r') as hound_file:\n",
    "    hound_line = hound_file.read()\n",
    "\n",
    "frequency = defaultdict(int)\n",
    "\n",
    "for letter in hound_line:\n",
    "    if letter.isalpha():\n",
    "        frequency[letter.lower()] += 1\n",
    "\n",
    "pairs = []\n",
    "print(\"elements of frequency:\")\n",
    "for element in frequency.items(): # uses dict.items()\n",
    "    key, value = element\n",
    "    pairs.append(element)\n",
    "\n",
    "pairs.sort()\n",
    "print(pairs)\n",
    "\n",
    "print(\"sort by second element of value:\")\n",
    "pairs.sort(key = lambda x: x[1], reverse = True)\n",
    "print(pairs)"
   ]
  },
  {
   "cell_type": "code",
   "execution_count": 3,
   "metadata": {},
   "outputs": [
    {
     "name": "stdout",
     "output_type": "stream",
     "text": [
      "1\n",
      "2\n",
      "2\n"
     ]
    }
   ],
   "source": [
    "x = 1\n",
    "\n",
    "def my_function():\n",
    "    # global x\n",
    "    x = 2 \n",
    "    print(x)\n",
    "\n",
    "print(x) \n",
    "my_function() \n",
    "print(x) "
   ]
  },
  {
   "cell_type": "code",
   "execution_count": 4,
   "metadata": {},
   "outputs": [
    {
     "name": "stdout",
     "output_type": "stream",
     "text": [
      "negative\n",
      "non-negative\n",
      "non-negative\n"
     ]
    }
   ],
   "source": [
    "for integer in (-1,3,5): \n",
    "    if integer < 0: \n",
    "        print(\"negative\") \n",
    "    else: \n",
    "        print(\"non-negative\") "
   ]
  },
  {
   "cell_type": "code",
   "execution_count": 5,
   "metadata": {},
   "outputs": [
    {
     "name": "stdout",
     "output_type": "stream",
     "text": [
      "c 50 150\n",
      "d 51 151\n",
      "b 52 152\n"
     ]
    }
   ],
   "source": [
    "cities = [(\"c\", 50, 150), (\"d\", 51, 151), (\"b\", 52, 152)]\n",
    "for city in cities:\n",
    "    name, lat, lon = city\n",
    "    print (name, lat, lon)"
   ]
  },
  {
   "cell_type": "code",
   "execution_count": null,
   "metadata": {
    "collapsed": true
   },
   "outputs": [],
   "source": [
    "dict_cities = {\"c\":(50, 150), \"d\":(51, 151), \"b\":(52, 152)}"
   ]
  },
  {
   "cell_type": "code",
   "execution_count": 2,
   "metadata": {},
   "outputs": [
    {
     "name": "stdout",
     "output_type": "stream",
     "text": [
      "defaultdict(<class 'int'>, {'abc': 2, 'def': 1})\n",
      "defaultdict(<class 'list'>, {'a': [10]})\n"
     ]
    }
   ],
   "source": [
    "from collections import defaultdict\n",
    "a = defaultdict(int)\n",
    "a[\"abc\"] += 1\n",
    "a[\"def\"] += 1\n",
    "a[\"abc\"] += 1\n",
    "print(a)\n",
    "\n",
    "donor = defaultdict(list)\n",
    "donor[\"a\"].append(10)\n",
    "print(donor)"
   ]
  },
  {
   "cell_type": "code",
   "execution_count": 3,
   "metadata": {},
   "outputs": [
    {
     "name": "stdout",
     "output_type": "stream",
     "text": [
      "atuple: (1, 2, 3)\n",
      "atuple[0:2] (1, 2)\n",
      "atuple[0:1] (1,)\n",
      "type(a1): <class 'tuple'> len(a1): 1 a1: (1,)\n",
      "type(btuple): <class 'int'>\n",
      "btuple: 1\n",
      "atuple[0:1] == btuple: False\n",
      "atuple[btuple]: 2\n",
      "\n",
      "ctuple: (1,)\n",
      "atuple[0:1] == ctuple: True\n"
     ]
    }
   ],
   "source": [
    "atuple = (1, 2, 3)\n",
    "print(\"atuple:\", atuple)\n",
    "print(\"atuple[0:2]\", atuple[0:2])\n",
    "print(\"atuple[0:1]\", atuple[0:1])\n",
    "a1 = atuple[0:1]\n",
    "print(\"type(a1):\", type(a1), \"len(a1):\", len(a1), \"a1:\", a1)\n",
    "btuple = (1) # here (1) is just an int 1 in parenthesis: this is just an int number\n",
    "# btuple = (atuple[0])\n",
    "print(\"type(btuple):\", type(btuple))\n",
    "print(\"btuple:\", btuple)\n",
    "print(\"atuple[0:1] == btuple:\", atuple[0:1] == btuple)\n",
    "print(\"atuple[btuple]:\", atuple[btuple])\n",
    "\n",
    "print()\n",
    "ctuple = (1,)\n",
    "print(\"ctuple:\", ctuple)\n",
    "print(\"atuple[0:1] == ctuple:\", atuple[0:1] == ctuple)"
   ]
  },
  {
   "cell_type": "code",
   "execution_count": 4,
   "metadata": {},
   "outputs": [
    {
     "name": "stdout",
     "output_type": "stream",
     "text": [
      "[3, 2, 1]\n"
     ]
    }
   ],
   "source": [
    "alist = [1, 2, 3]\n",
    "alist.reverse()\n",
    "print(alist)"
   ]
  },
  {
   "cell_type": "code",
   "execution_count": 5,
   "metadata": {},
   "outputs": [
    {
     "data": {
      "text/plain": [
       "6"
      ]
     },
     "execution_count": 5,
     "metadata": {},
     "output_type": "execute_result"
    }
   ],
   "source": [
    "x = (1, 2, 3)\n",
    "sum(x)"
   ]
  },
  {
   "cell_type": "code",
   "execution_count": 6,
   "metadata": {},
   "outputs": [
    {
     "data": {
      "text/plain": [
       "'0123456789'"
      ]
     },
     "execution_count": 6,
     "metadata": {},
     "output_type": "execute_result"
    }
   ],
   "source": [
    "\"0\"+\"1\"+\"2\"+\"3\"+\"4\"+\"5\"+\"6\"+\"7\"+\"8\"+\"9\""
   ]
  },
  {
   "cell_type": "code",
   "execution_count": 7,
   "metadata": {},
   "outputs": [
    {
     "name": "stdout",
     "output_type": "stream",
     "text": [
      "odd\n",
      "Hello, Brown bear!\n",
      "Hello, Polar bear!\n"
     ]
    }
   ],
   "source": [
    "bears = {\"Grizzly\":\"angry\", \"Brown\":\"friendly\", \"Polar\":\"friendly\"}\n",
    "\n",
    "for bear in bears:\n",
    "    if bears[bear] == \"friendly\":\n",
    "        print(\"Hello, \"+bear+\" bear!\")\n",
    "    else:\n",
    "        print(\"odd\")"
   ]
  },
  {
   "cell_type": "code",
   "execution_count": 8,
   "metadata": {},
   "outputs": [
    {
     "name": "stdout",
     "output_type": "stream",
     "text": [
      "True\n"
     ]
    }
   ],
   "source": [
    "n = 19\n",
    "\n",
    "is_prime = True\n",
    "for i in range(2,n):\n",
    "    if n%i == 0:\n",
    "        is_prime = False\n",
    "\n",
    "print(is_prime)"
   ]
  },
  {
   "cell_type": "code",
   "execution_count": 9,
   "metadata": {},
   "outputs": [
    {
     "name": "stdout",
     "output_type": "stream",
     "text": [
      "['W', 'h', 'a', 't', 'y', 'o', 'u', 'd', 'o', 'd', 'o', 'w', 'i', 't', 'h', 'y', 'o', 'u', 'r', 'w', 'h', 'o', 'l', 'e', 'h', 'e', 'a', 'r', 't']\n"
     ]
    }
   ],
   "source": [
    "phrase = \"What you do, do with your whole heart\"\n",
    "\n",
    "word = [letter for letter in phrase if letter.isalpha()]\n",
    "print(word)"
   ]
  },
  {
   "cell_type": "code",
   "execution_count": 10,
   "metadata": {},
   "outputs": [
    {
     "name": "stdout",
     "output_type": "stream",
     "text": [
      "Loops I repeat\n",
      "loops\n",
      "loops\n",
      "loops\n",
      "I repeat\n",
      "until I\n",
      "break\n"
     ]
    },
    {
     "name": "stderr",
     "output_type": "stream",
     "text": [
      "  % Total    % Received % Xferd  Average Speed   Time    Time     Time  Current\n",
      "                                 Dload  Upload   Total   Spent    Left  Speed\n",
      "\n",
      "  0     0    0     0    0     0      0      0 --:--:-- --:--:-- --:--:--     0\n",
      "  0     0    0     0    0     0      0      0 --:--:-- --:--:-- --:--:--     0\n",
      "100    56  100    56    0     0    170      0 --:--:-- --:--:-- --:--:--   170\n"
     ]
    }
   ],
   "source": [
    "!curl https://raw.githubusercontent.com/MicrosoftLearning/intropython/master/poem1.txt -o poem1.txt\n",
    "poem1 = open('poem1.txt', 'r')\n",
    "\n",
    "for line in poem1:\n",
    "    line = line.rstrip()\n",
    "    print(line)\n",
    "    \n",
    "poem1.close()"
   ]
  },
  {
   "cell_type": "code",
   "execution_count": 11,
   "metadata": {},
   "outputs": [
    {
     "data": {
      "text/plain": [
       "False"
      ]
     },
     "execution_count": 11,
     "metadata": {},
     "output_type": "execute_result"
    }
   ],
   "source": [
    "def is_vowel(letter):\n",
    "    if letter in list(\"aeiouy\"):\n",
    "        return(True)\n",
    "    else:\n",
    "        return(False)\n",
    "\n",
    "is_vowel(4)"
   ]
  },
  {
   "cell_type": "code",
   "execution_count": 13,
   "metadata": {},
   "outputs": [
    {
     "name": "stdout",
     "output_type": "stream",
     "text": [
      "a after: [10, 20, 30, 40]\n"
     ]
    }
   ],
   "source": [
    "a = [20, 30, 40]\n",
    "a.insert(0, 10)\n",
    "print(\"a after:\", a)"
   ]
  },
  {
   "cell_type": "code",
   "execution_count": 15,
   "metadata": {},
   "outputs": [
    {
     "name": "stdout",
     "output_type": "stream",
     "text": [
      "[[11 12 13]\n",
      " [21 22 23]]\n"
     ]
    }
   ],
   "source": [
    "import numpy as np\n",
    "x = np.array([[11, 12, 13], [21, 22, 23]])\n",
    "print(x)"
   ]
  },
  {
   "cell_type": "code",
   "execution_count": 16,
   "metadata": {},
   "outputs": [
    {
     "data": {
      "text/plain": [
       "True"
      ]
     },
     "execution_count": 16,
     "metadata": {},
     "output_type": "execute_result"
    }
   ],
   "source": [
    "m = np.random.random(10)\n",
    "np.any(m > 0.1)"
   ]
  },
  {
   "cell_type": "code",
   "execution_count": 1,
   "metadata": {},
   "outputs": [
    {
     "name": "stdout",
     "output_type": "stream",
     "text": [
      "Hello\n"
     ]
    }
   ],
   "source": [
    "def create_string():\n",
    "    s = \"Hello\"\n",
    "    return s\n",
    "\n",
    "print(create_string())"
   ]
  },
  {
   "cell_type": "code",
   "execution_count": 2,
   "metadata": {},
   "outputs": [
    {
     "name": "stdout",
     "output_type": "stream",
     "text": [
      "10\n"
     ]
    }
   ],
   "source": [
    "def create_number():\n",
    "    num = 10\n",
    "    return num\n",
    "\n",
    "print(create_number())"
   ]
  },
  {
   "cell_type": "code",
   "execution_count": 4,
   "metadata": {},
   "outputs": [
    {
     "name": "stdout",
     "output_type": "stream",
     "text": [
      "[10, 20, 30]\n"
     ]
    }
   ],
   "source": [
    "def create_list():\n",
    "    l = [10, 20, 30]\n",
    "    return l\n",
    "\n",
    "my_list = create_list()\n",
    "print(my_list)"
   ]
  },
  {
   "cell_type": "code",
   "execution_count": 6,
   "metadata": {},
   "outputs": [
    {
     "data": {
      "text/plain": [
       "array([[11, 12, 13],\n",
       "       [21, 22, 23]])"
      ]
     },
     "execution_count": 6,
     "metadata": {},
     "output_type": "execute_result"
    }
   ],
   "source": [
    "# 2-dimensional arrays\n",
    "import numpy as np\n",
    "M = np.array(([11, 12, 13], [21, 22, 23]))\n",
    "M"
   ]
  },
  {
   "cell_type": "code",
   "execution_count": 10,
   "metadata": {},
   "outputs": [
    {
     "data": {
      "text/plain": [
       "array([[ 0.,  0.,  0.],\n",
       "       [ 0.,  0.,  0.]])"
      ]
     },
     "execution_count": 10,
     "metadata": {},
     "output_type": "execute_result"
    }
   ],
   "source": [
    "M2 = np.zeros((2, 3))\n",
    "M2"
   ]
  },
  {
   "cell_type": "code",
   "execution_count": 11,
   "metadata": {},
   "outputs": [
    {
     "data": {
      "text/plain": [
       "array([[ 0.,  0.,  0.],\n",
       "       [ 0.,  0.,  0.],\n",
       "       [ 0.,  0.,  0.]])"
      ]
     },
     "execution_count": 11,
     "metadata": {},
     "output_type": "execute_result"
    }
   ],
   "source": [
    "board = np.zeros((3, 3))\n",
    "board"
   ]
  },
  {
   "cell_type": "code",
   "execution_count": 13,
   "metadata": {},
   "outputs": [
    {
     "data": {
      "text/plain": [
       "array([[ 0.,  0.,  1.],\n",
       "       [ 0.,  0.,  0.],\n",
       "       [ 0.,  0.,  0.]])"
      ]
     },
     "execution_count": 13,
     "metadata": {},
     "output_type": "execute_result"
    }
   ],
   "source": [
    "board[0,2] = 1\n",
    "board"
   ]
  },
  {
   "cell_type": "code",
   "execution_count": 15,
   "metadata": {},
   "outputs": [
    {
     "data": {
      "text/plain": [
       "array([[ 0.,  0.,  1.],\n",
       "       [ 0.,  0.,  0.],\n",
       "       [ 0.,  2.,  0.]])"
      ]
     },
     "execution_count": 15,
     "metadata": {},
     "output_type": "execute_result"
    }
   ],
   "source": [
    "board[2,1] = 2\n",
    "board"
   ]
  },
  {
   "cell_type": "code",
   "execution_count": 16,
   "metadata": {},
   "outputs": [
    {
     "name": "stdout",
     "output_type": "stream",
     "text": [
      "empty\n"
     ]
    }
   ],
   "source": [
    "if board[2,0] == 0:\n",
    "    print(\"empty\")\n",
    "else:\n",
    "    print(\"occupied\")"
   ]
  },
  {
   "cell_type": "code",
   "execution_count": 21,
   "metadata": {},
   "outputs": [
    {
     "name": "stdout",
     "output_type": "stream",
     "text": [
      "2\n",
      "1\n",
      "occupied\n"
     ]
    }
   ],
   "source": [
    "# position = (2,0)\n",
    "position = (2,1)\n",
    "print(position[0])\n",
    "print(position[1])\n",
    "if board[position[0], position[1]] == 0:\n",
    "    print(\"empty\")\n",
    "else:\n",
    "    print(\"occupied\")"
   ]
  },
  {
   "cell_type": "code",
   "execution_count": 25,
   "metadata": {},
   "outputs": [
    {
     "ename": "SyntaxError",
     "evalue": "can't use starred expression here (<ipython-input-25-61ff7e5147b3>, line 3)",
     "output_type": "error",
     "traceback": [
      "\u001b[1;36m  File \u001b[1;32m\"<ipython-input-25-61ff7e5147b3>\"\u001b[1;36m, line \u001b[1;32m3\u001b[0m\n\u001b[1;33m    ab = *zip(atuple, btuple)\u001b[0m\n\u001b[1;37m        ^\u001b[0m\n\u001b[1;31mSyntaxError\u001b[0m\u001b[1;31m:\u001b[0m can't use starred expression here\n"
     ]
    }
   ],
   "source": [
    "# bad syntax\n",
    "atuple = ('a', 'b', 'c')\n",
    "btuple = (10, 20, 30)\n",
    "ab = zip(atuple, btuple)\n",
    "print(ab)"
   ]
  }
 ],
 "metadata": {
  "kernelspec": {
   "display_name": "Python 3",
   "language": "python",
   "name": "python3"
  },
  "language_info": {
   "codemirror_mode": {
    "name": "ipython",
    "version": 3
   },
   "file_extension": ".py",
   "mimetype": "text/x-python",
   "name": "python",
   "nbconvert_exporter": "python",
   "pygments_lexer": "ipython3",
   "version": "3.6.1"
  }
 },
 "nbformat": 4,
 "nbformat_minor": 2
}
