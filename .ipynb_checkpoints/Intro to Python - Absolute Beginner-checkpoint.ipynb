{
 "cells": [
  {
   "cell_type": "code",
   "execution_count": 6,
   "metadata": {},
   "outputs": [
    {
     "name": "stdout",
     "output_type": "stream",
     "text": [
      "enter the first number: 9\n",
      "enter the second number: thirteen\n",
      "wrong input\n"
     ]
    }
   ],
   "source": [
    "num_1 = input(\"enter the first number: \")\n",
    "num_2 = input(\"enter the second number: \")\n",
    "if num_1.isdigit() and num_2.isdigit():\n",
    "    sum = int(num_1) + int(num_2)\n",
    "    print(num_1,\"+\",num_2,\"=\",sum)\n",
    "else:\n",
    "    print(\"wrong input\")"
   ]
  },
  {
   "cell_type": "code",
   "execution_count": 6,
   "metadata": {},
   "outputs": [
    {
     "name": "stdout",
     "output_type": "stream",
     "text": [
      "enter number 1: 9\n",
      "enter second number: 12\n"
     ]
    },
    {
     "ename": "TypeError",
     "evalue": "str() takes at most 3 arguments (5 given)",
     "output_type": "error",
     "traceback": [
      "\u001b[1;31m---------------------------------------------------------------------------\u001b[0m",
      "\u001b[1;31mTypeError\u001b[0m                                 Traceback (most recent call last)",
      "\u001b[1;32m<ipython-input-6-1e947b35df6f>\u001b[0m in \u001b[0;36m<module>\u001b[1;34m()\u001b[0m\n\u001b[0;32m      5\u001b[0m     \u001b[1;32mreturn\u001b[0m \u001b[0mstr\u001b[0m\u001b[1;33m(\u001b[0m\u001b[0mnum_1\u001b[0m\u001b[1;33m,\u001b[0m\u001b[1;34m\"*\"\u001b[0m\u001b[1;33m,\u001b[0m\u001b[0mnum_2\u001b[0m\u001b[1;33m,\u001b[0m\u001b[1;34m\"=\"\u001b[0m\u001b[1;33m,\u001b[0m\u001b[0mresult\u001b[0m\u001b[1;33m)\u001b[0m\u001b[1;33m\u001b[0m\u001b[0m\n\u001b[0;32m      6\u001b[0m \u001b[1;33m\u001b[0m\u001b[0m\n\u001b[1;32m----> 7\u001b[1;33m \u001b[0mmultiply\u001b[0m\u001b[1;33m(\u001b[0m\u001b[1;33m)\u001b[0m\u001b[1;33m\u001b[0m\u001b[0m\n\u001b[0m",
      "\u001b[1;32m<ipython-input-6-1e947b35df6f>\u001b[0m in \u001b[0;36mmultiply\u001b[1;34m()\u001b[0m\n\u001b[0;32m      3\u001b[0m     \u001b[0mnum_2\u001b[0m \u001b[1;33m=\u001b[0m \u001b[0minput\u001b[0m\u001b[1;33m(\u001b[0m\u001b[1;34m\"enter second number: \"\u001b[0m\u001b[1;33m)\u001b[0m\u001b[1;33m\u001b[0m\u001b[0m\n\u001b[0;32m      4\u001b[0m     \u001b[0mresult\u001b[0m \u001b[1;33m=\u001b[0m \u001b[0mint\u001b[0m\u001b[1;33m(\u001b[0m\u001b[0mnum_1\u001b[0m\u001b[1;33m)\u001b[0m \u001b[1;33m*\u001b[0m \u001b[0mint\u001b[0m\u001b[1;33m(\u001b[0m\u001b[0mnum_2\u001b[0m\u001b[1;33m)\u001b[0m\u001b[1;33m\u001b[0m\u001b[0m\n\u001b[1;32m----> 5\u001b[1;33m     \u001b[1;32mreturn\u001b[0m \u001b[0mstr\u001b[0m\u001b[1;33m(\u001b[0m\u001b[0mnum_1\u001b[0m\u001b[1;33m,\u001b[0m\u001b[1;34m\"*\"\u001b[0m\u001b[1;33m,\u001b[0m\u001b[0mnum_2\u001b[0m\u001b[1;33m,\u001b[0m\u001b[1;34m\"=\"\u001b[0m\u001b[1;33m,\u001b[0m\u001b[0mresult\u001b[0m\u001b[1;33m)\u001b[0m\u001b[1;33m\u001b[0m\u001b[0m\n\u001b[0m\u001b[0;32m      6\u001b[0m \u001b[1;33m\u001b[0m\u001b[0m\n\u001b[0;32m      7\u001b[0m \u001b[0mmultiply\u001b[0m\u001b[1;33m(\u001b[0m\u001b[1;33m)\u001b[0m\u001b[1;33m\u001b[0m\u001b[0m\n",
      "\u001b[1;31mTypeError\u001b[0m: str() takes at most 3 arguments (5 given)"
     ]
    }
   ],
   "source": [
    "def multiply():\n",
    "    num_1 = input(\"enter number 1: \")\n",
    "    num_2 = input(\"enter second number: \")\n",
    "    result = int(num_1) * int(num_2)\n",
    "    return str(num_1,\"*\",num_2,\"=\",result)\n",
    "\n",
    "multiply()"
   ]
  },
  {
   "cell_type": "code",
   "execution_count": null,
   "metadata": {
    "collapsed": true
   },
   "outputs": [],
   "source": [
    "Task 3\n",
    "\n",
    "Project: Improved Multiplying Calculator Function\n",
    "\n",
    "putting together conditionals, input casting and math\n",
    "\n",
    "update the multiply() function to multiply or divide\n",
    "\n",
    "single parameter is operator with arguments of * or / operator\n",
    "default operator is \"*\" (multiply)\n",
    "return the result of multiplication or division\n",
    "if operator other than \"*\" or \"/\" then return \"Invalid Operator\"\n",
    "# [ ] create improved multiply() function and test with /, no argument, and an invalid operator ($)\n"
   ]
  },
  {
   "cell_type": "code",
   "execution_count": 6,
   "metadata": {},
   "outputs": [
    {
     "name": "stdout",
     "output_type": "stream",
     "text": [
      "enter age: 15\n",
      "Age in 10 years will be 25\n"
     ]
    }
   ],
   "source": [
    "age = input(\"enter age: \")\n",
    "age_int = int(age)\n",
    "if age_int >= 12:\n",
    "    print(\"Age in 10 years will be\", age_int + 10)\n",
    "else:\n",
    "    print(\"It's good to be\", age)"
   ]
  },
  {
   "cell_type": "code",
   "execution_count": 11,
   "metadata": {},
   "outputs": [
    {
     "name": "stdout",
     "output_type": "stream",
     "text": [
      "enter a single letter: z\n",
      "high\n"
     ]
    },
    {
     "data": {
      "text/plain": [
       "False"
      ]
     },
     "execution_count": 11,
     "metadata": {},
     "output_type": "execute_result"
    }
   ],
   "source": [
    "def check_guess(letter, guess):\n",
    "    if not guess.isalpha():\n",
    "        print(\"invalid\")\n",
    "        return False\n",
    "    \n",
    "    if guess == letter: # returns True only in this case\n",
    "        print(\"correct\")\n",
    "        return True\n",
    "    elif guess > letter:\n",
    "        print(\"high\")\n",
    "    else:\n",
    "        print(\"low\")\n",
    "\n",
    "    return False\n",
    "        \n",
    "letter = \"l\"\n",
    "guess = input(\"enter a single letter: \")\n",
    "\n",
    "check_guess(letter, guess)"
   ]
  },
  {
   "cell_type": "code",
   "execution_count": 14,
   "metadata": {},
   "outputs": [
    {
     "name": "stdout",
     "output_type": "stream",
     "text": [
      "enter your guess: m\n",
      "high\n",
      "enter your guess: a\n",
      "low\n",
      "enter your guess: h\n",
      "low\n"
     ]
    },
    {
     "data": {
      "text/plain": [
       "False"
      ]
     },
     "execution_count": 14,
     "metadata": {},
     "output_type": "execute_result"
    }
   ],
   "source": [
    "def letter_guess(letter):\n",
    "    guess = input(\"enter your guess: \")\n",
    "    if check_guess(letter, guess):\n",
    "        return True\n",
    "    \n",
    "    guess = input(\"enter your guess: \")\n",
    "    if check_guess(letter, guess):\n",
    "        return True\n",
    "    \n",
    "    guess = input(\"enter your guess: \")\n",
    "    if check_guess(letter, guess):\n",
    "        return True\n",
    "    \n",
    "    return False\n",
    "\n",
    "letter = \"l\"\n",
    "\n",
    "letter_guess(letter)"
   ]
  },
  {
   "cell_type": "code",
   "execution_count": 20,
   "metadata": {},
   "outputs": [
    {
     "name": "stdout",
     "output_type": "stream",
     "text": [
      "F\n"
     ]
    }
   ],
   "source": [
    "if \"\":\n",
    "    print(\"T\")\n",
    "else:\n",
    "    print(\"F\")"
   ]
  },
  {
   "cell_type": "code",
   "execution_count": 22,
   "metadata": {},
   "outputs": [
    {
     "name": "stdout",
     "output_type": "stream",
     "text": [
      "Enter favorite color of the rainbow: P\n",
      "no match\n"
     ]
    }
   ],
   "source": [
    "color = input(\"Enter favorite color of the rainbow: \")\n",
    "\n",
    "if color == \"R\":\n",
    "    print(\"Red\")\n",
    "elif color == \"O\":\n",
    "    print(\"Orange\")\n",
    "elif color == \"Y\":\n",
    "    print(\"Yellow\")\n",
    "elif color == \"G\":\n",
    "    print(\"Green\")\n",
    "elif color == \"B\":\n",
    "    print(\"Blue\")\n",
    "elif color == \"I\":\n",
    "    print(\"Indigo\")\n",
    "elif color == \"V\":\n",
    "    print(\"Violet\")\n",
    "else:\n",
    "    print(\"no match\")"
   ]
  },
  {
   "cell_type": "code",
   "execution_count": 24,
   "metadata": {},
   "outputs": [
    {
     "name": "stdout",
     "output_type": "stream",
     "text": [
      "enter favorite color: P\n",
      "no match\n"
     ]
    }
   ],
   "source": [
    "def rainbow_color(fav_color):\n",
    "    color = \"\"\n",
    "    if fav_color == \"R\":\n",
    "        color = \"Red\"\n",
    "    elif fav_color == \"O\":\n",
    "        color = \"Orange\"\n",
    "    elif fav_color == \"Y\":\n",
    "        color = \"Yellow\"\n",
    "    elif fav_color == \"G\":\n",
    "        color = \"Green\"\n",
    "    elif fav_color == \"B\":\n",
    "        color = \"Blue\"\n",
    "    elif fav_color == \"I\":\n",
    "        color = \"Indigo\"\n",
    "    elif fav_color == \"V\":\n",
    "        color = \"Violet\"\n",
    "    else:\n",
    "        color = \"no match\"\n",
    "    return color\n",
    "\n",
    "fav_color = input(\"enter favorite color: \")\n",
    "result = rainbow_color(fav_color)\n",
    "print(result)"
   ]
  },
  {
   "cell_type": "code",
   "execution_count": 29,
   "metadata": {},
   "outputs": [
    {
     "name": "stdout",
     "output_type": "stream",
     "text": [
      "enter your age:19\n"
     ]
    },
    {
     "data": {
      "text/plain": [
       "'39 years old, 20 years difference from now'"
      ]
     },
     "execution_count": 29,
     "metadata": {},
     "output_type": "execute_result"
    }
   ],
   "source": [
    "def age_20(age):\n",
    "    output = \"\"\n",
    "    if age > 20:\n",
    "        diff = age - 20\n",
    "        output = str(diff) + \" years old, 20 years difference from now\"\n",
    "    else:\n",
    "        sum = age + 20\n",
    "        output = str(sum) + \" years old, 20 years difference from now\"\n",
    "    return output\n",
    "\n",
    "age = int(input('enter your age:'))\n",
    "age_20(age)"
   ]
  },
  {
   "cell_type": "code",
   "execution_count": 35,
   "metadata": {},
   "outputs": [
    {
     "name": "stdout",
     "output_type": "stream",
     "text": [
      "enter rainbow color or age: *\n"
     ]
    },
    {
     "data": {
      "text/plain": [
       "False"
      ]
     },
     "execution_count": 35,
     "metadata": {},
     "output_type": "execute_result"
    }
   ],
   "source": [
    "def rainbow_or_age(s):\n",
    "    if s.isdigit():\n",
    "        return age_20(int(s))\n",
    "    elif s.isalpha():\n",
    "        return rainbow_color(s)\n",
    "    else:\n",
    "        return False\n",
    "    \n",
    "    \n",
    "s = input(\"enter rainbow color or age: \")\n",
    "rainbow_or_age(s)"
   ]
  },
  {
   "cell_type": "code",
   "execution_count": 47,
   "metadata": {},
   "outputs": [
    {
     "name": "stdout",
     "output_type": "stream",
     "text": [
      "enter order amount: 20\n",
      "20 costs $ 200\n"
     ]
    }
   ],
   "source": [
    "min_order_weight = 10\n",
    "max_order_weight = 100\n",
    "price_lb = 10\n",
    "order_amount = int(input(\"enter order amount: \"))\n",
    "\n",
    "if order_amount < 10:\n",
    "    print(order_amount, \"is below minimum order weight\")\n",
    "elif order_amount > 100:\n",
    "    print(order_amount, \"is above maximum order weight\")\n",
    "else:\n",
    "    price = order_amount * price_lb\n",
    "    print(order_amount, \"costs $\", price)\n"
   ]
  },
  {
   "cell_type": "code",
   "execution_count": 50,
   "metadata": {},
   "outputs": [
    {
     "name": "stdout",
     "output_type": "stream",
     "text": [
      "Hi, welcome to the sandwich shop. Please select your sandwich.\n",
      "c for Cheese or v for Veggie Special: v\n",
      "Here is your Veggie Special. Thank you.\n",
      "\n",
      "Goodbye!\n"
     ]
    }
   ],
   "source": [
    "print(\"Hi, welcome to the sandwich shop. Please select your sandwich.\")\n",
    "sandwich_type = input(\"c for Cheese or v for Veggie Special: \")\n",
    "\n",
    "if sandwich_type.lower() == \"c\":\n",
    "    print(\"Please select a cheese.\")\n",
    "    cheese_type = input('\"c\" for Cheddar or \"m\" for Manchego: ')\n",
    "    print()\n",
    "    \n",
    "    if cheese_type.lower() == \"c\":\n",
    "        print(\"Here is your Cheddar Cheese sandwich. Thank you.\")\n",
    "    elif cheese_type.lower() == \"m\":\n",
    "        print(\"Here is your Manchego Cheese sandwich.  Thank you.\") \n",
    "    else:\n",
    "        print(\"Sorry, we don't have\", cheese_type, \"choice today.\")\n",
    "elif sandwich_type.lower() == \"v\":\n",
    "    print(\"Here is your Veggie Special. Thank you.\")\n",
    "        \n",
    "else:\n",
    "    print(\"Sorry, we don't have\", sandwich_type, \"choice today.\")\n",
    "print()\n",
    "print(\"Goodbye!\")"
   ]
  },
  {
   "cell_type": "code",
   "execution_count": null,
   "metadata": {
    "collapsed": true
   },
   "outputs": [],
   "source": [
    "bird_names = \"robin dove hawk pigeon\"\n",
    "bird_guess = input(\"Guess the name of the bird: \")\n",
    "\n",
    "if bird_guess not in bird_names:\n",
    "    if bird_guess not in bird_names:\n",
    "        if bird_guess not in bird_names:\n",
    "            print(\"Sorry, out of tries\")\n",
    "        else:\n",
    "            print(\"Yes, 3rd try\")\n",
    "    else:\n",
    "        print(\"Yes, 2nd try\")\n",
    "else:\n",
    "    print(\"Yes, 1st try\")"
   ]
  },
  {
   "cell_type": "code",
   "execution_count": 5,
   "metadata": {},
   "outputs": [
    {
     "name": "stdout",
     "output_type": "stream",
     "text": [
      "Guess the name of the bird: dov\n",
      "Yes, 1st try!\n"
     ]
    }
   ],
   "source": [
    "bird_names = \"robin dove hawk pigeon\"\n",
    "\n",
    "# the 1st try\n",
    "bird_guess = input(\"Guess the name of the bird: \")\n",
    "if bird_guess in bird_names:\n",
    "    print(\"Yes, 1st try!\")\n",
    "else:\n",
    "    # second try\n",
    "    bird_guess = input(\"Guess the name of the bird: \")\n",
    "    if bird_guess in bird_names:\n",
    "        print(\"Yes, 2nd try!\")\n",
    "    else:\n",
    "        # third try\n",
    "        bird_guess = input(\"Guess the name of the bird: \")\n",
    "        if bird_guess in bird_names:\n",
    "            print(\"Yes, 3rd try!\")\n",
    "        else:\n",
    "            print(\"Sorry, out of tries\")\n",
    "\n"
   ]
  },
  {
   "cell_type": "code",
   "execution_count": 13,
   "metadata": {},
   "outputs": [
    {
     "name": "stdout",
     "output_type": "stream",
     "text": [
      "enter a word that starts with pre: apre\n"
     ]
    },
    {
     "data": {
      "text/plain": [
       "False"
      ]
     },
     "execution_count": 13,
     "metadata": {},
     "output_type": "execute_result"
    }
   ],
   "source": [
    "def pre_word():\n",
    "    if word.startswith(\"pre\"):\n",
    "        if word.isalpha():\n",
    "            return True\n",
    "    else:\n",
    "        return False\n",
    "        print(\"Word does not start with \\\"pre\\\"\")\n",
    "\n",
    "word = input(\"enter a word that starts with pre: \")\n",
    "pre_word()"
   ]
  },
  {
   "cell_type": "code",
   "execution_count": 4,
   "metadata": {},
   "outputs": [
    {
     "name": "stdout",
     "output_type": "stream",
     "text": [
      "enter a familiar family name: 8\n",
      "enter a familiar family name: A8\n",
      "enter a familiar family name: Anton\n",
      "Anton , Hi\n"
     ]
    }
   ],
   "source": [
    "family_name = \"\"\n",
    "while True:\n",
    "    familiar_name = input(\"enter a familiar family name: \")\n",
    "    if familiar_name.isalpha():\n",
    "        print(familiar_name, \"Hi\")\n",
    "    else:\n",
    "        familiar_name = input(\"enter a familiar family name: \")\n",
    "        if familiar_name.isalpha():\n",
    "            print(familiar_name, \"Hi\")\n",
    "        else:\n",
    "            familiar_name = input(\"enter a familiar family name: \")\n",
    "            print(familiar_name, \", Hi\")\n",
    "            break"
   ]
  },
  {
   "cell_type": "code",
   "execution_count": 13,
   "metadata": {},
   "outputs": [
    {
     "name": "stdout",
     "output_type": "stream",
     "text": [
      "enter seat type of \"hard\",\"soft\" or \"exit\" (to finish): hard\n",
      "enter seat type of \"hard\",\"soft\" or \"exit\" (to finish): soft\n",
      "enter seat type of \"hard\",\"soft\" or \"exit\" (to finish): exit\n",
      "\n",
      "2 Seats Total:  1 hard and 1 soft\n"
     ]
    }
   ],
   "source": [
    "# example\n",
    "seat_count = 0\n",
    "soft_seats = 0\n",
    "hard_seats = 0\n",
    "num_seats = 4\n",
    "\n",
    "while True:\n",
    "    seat_type = input('enter seat type of \"hard\",\"soft\" or \"exit\" (to finish): ')\n",
    "    \n",
    "    if seat_type.lower().startswith(\"e\"):\n",
    "        print()\n",
    "        break\n",
    "    elif seat_type.lower() == \"hard\":\n",
    "        hard_seats += 1\n",
    "    elif seat_type.lower() == \"soft\":\n",
    "        soft_seats += 1\n",
    "    else:\n",
    "        print(\"invalid entry: counted as hard\")\n",
    "        hard_seats += 1\n",
    "\n",
    "    seat_count += 1\n",
    "    if seat_count >= num_seats:\n",
    "        print(\"\\nseats are full\")\n",
    "        break\n",
    "        \n",
    "print(seat_count,\"Seats Total: \",hard_seats,\"hard and\",soft_seats,\"soft\" )"
   ]
  },
  {
   "cell_type": "code",
   "execution_count": 30,
   "metadata": {},
   "outputs": [
    {
     "name": "stdout",
     "output_type": "stream",
     "text": [
      "enter shirt size (\"S\", \"M\", \"L\" or \"E\"): S\n",
      "-- shirt_size: S\n",
      "small = 1 medium = 0  large = 0\n",
      "enter shirt size (\"S\", \"M\", \"L\" or \"E\"): M\n",
      "-- shirt_size: M\n",
      "small = 1 medium = 1  large = 0\n",
      "enter shirt size (\"S\", \"M\", \"L\" or \"E\"): L\n",
      "-- shirt_size: L\n",
      "small = 1 medium = 1  large = 1\n",
      "enter shirt size (\"S\", \"M\", \"L\" or \"E\"): XS\n",
      "-- shirt_size: XS\n",
      "invalid entry: try again\n",
      "small = 1 medium = 1  large = 1\n",
      "enter shirt size (\"S\", \"M\", \"L\" or \"E\"): S\n",
      "-- shirt_size: S\n",
      "small = 2 medium = 1  large = 1\n",
      "enter shirt size (\"S\", \"M\", \"L\" or \"E\"): M\n",
      "-- shirt_size: M\n",
      "small = 2 medium = 2  large = 1\n",
      "enter shirt size (\"S\", \"M\", \"L\" or \"E\"): E\n",
      "-- shirt_size: E\n",
      "goodbye\n",
      "Shirts purchased total: 5 small: 2 , medium: 2 , large: 1\n"
     ]
    }
   ],
   "source": [
    "small = 0\n",
    "medium = 0\n",
    "large = 0\n",
    "\n",
    "while True:\n",
    "    shirt_size = input('enter shirt size (\"S\", \"M\", \"L\" or \"E\"): ')\n",
    "    # print(\"-- shirt_size:\", shirt_size)\n",
    "    \n",
    "    if shirt_size.upper() == \"E\":\n",
    "        print(\"goodbye\") # leaving while loop\n",
    "        break\n",
    "    elif shirt_size.upper() == \"S\":\n",
    "        small += 1\n",
    "    elif shirt_size.upper() == \"M\":\n",
    "        medium += 1\n",
    "    elif shirt_size.upper() == \"L\":\n",
    "        large += 1\n",
    "    else:\n",
    "        print(\"invalid entry: try again\")\n",
    "    \n",
    "    # print(\"small =\", small, \"medium =\", medium, \" large =\", large)\n",
    "    \n",
    "total = small + medium + large\n",
    "\n",
    "# print(total, \"Shirts purchased: \", small, \"small and\", medium, \"medium and\", large, \"large\")\n",
    "print(\"Shirts purchased total:\", total, \"small:\", small, \", medium:\", medium, \", large:\", large)"
   ]
  },
  {
   "cell_type": "code",
   "execution_count": 31,
   "metadata": {},
   "outputs": [
    {
     "name": "stdout",
     "output_type": "stream",
     "text": [
      "5 !\n",
      "4 !\n",
      "3 !\n",
      "2 !\n",
      "1 !\n",
      "\n",
      "IGNITION\n"
     ]
    }
   ],
   "source": [
    "# example\n",
    "greet_count = 5\n",
    "while greet_count > 0:\n",
    "    print(greet_count, \"!\")\n",
    "    greet_count -=1\n",
    "    \n",
    "print(\"\\nIGNITION\")"
   ]
  },
  {
   "cell_type": "code",
   "execution_count": 62,
   "metadata": {},
   "outputs": [
    {
     "name": "stdout",
     "output_type": "stream",
     "text": [
      "False\n",
      "enter the name of an animal: 4\n",
      "dog 4\n"
     ]
    }
   ],
   "source": [
    "# example of trying to create the entire program at the same time\n",
    "num_animals = \"dog\"\n",
    "\n",
    "# print(num_animals < str(4))\n",
    "\n",
    "while num_animals < str(4):\n",
    "    if animal_name != \"exit\":\n",
    "        num_animals += \"animal_name\"\n",
    "    elif animal_name != \"exit\":\n",
    "        num_animals += \"animal_name\"\n",
    "    else:\n",
    "        break\n",
    "\n",
    "animal_name = input(\"enter the name of an animal: \")\n",
    "all_animals = num_animals + \" \" + animal_name\n",
    "print(all_animals)"
   ]
  },
  {
   "cell_type": "code",
   "execution_count": 80,
   "metadata": {},
   "outputs": [
    {
     "name": "stdout",
     "output_type": "stream",
     "text": [
      "enter the animal name (\"exit\" to exit): cat\n",
      "enter the animal name (\"exit\" to exit): dog\n",
      "enter the animal name (\"exit\" to exit): exit\n",
      "cat dog\n"
     ]
    }
   ],
   "source": [
    "num_animals = 0\n",
    "num_animals_max = 4\n",
    "s = \"\"\n",
    "while num_animals < num_animals_max:\n",
    "    # print(\"num_animals =\", num_animals)\n",
    "    user_input = input(\"enter the animal name (\\\"exit\\\" to exit): \")\n",
    "\n",
    "    if user_input.lower() == \"exit\":\n",
    "        break\n",
    "\n",
    "    if num_animals > 0:\n",
    "        s += \" \"\n",
    "    s += user_input\n",
    "    # print(\"s =\", s)\n",
    "    num_animals += 1\n",
    "\n",
    "print(s)"
   ]
  },
  {
   "cell_type": "code",
   "execution_count": 42,
   "metadata": {},
   "outputs": [
    {
     "name": "stdout",
     "output_type": "stream",
     "text": [
      "dog cat\n",
      "101\n"
     ]
    }
   ],
   "source": [
    "s = \"dog\"\n",
    "s += \" \" + \"cat\"\n",
    "print(s)\n",
    "\n",
    "d = \"2\"\n",
    "\"abc\" + \"DEF\"\n",
    "\n",
    "n = 0\n",
    "n += 1\n",
    "n += 100\n",
    "print(n)"
   ]
  },
  {
   "cell_type": "code",
   "execution_count": null,
   "metadata": {
    "collapsed": true
   },
   "outputs": [],
   "source": []
  }
 ],
 "metadata": {
  "kernelspec": {
   "display_name": "Python 3",
   "language": "python",
   "name": "python3"
  },
  "language_info": {
   "codemirror_mode": {
    "name": "ipython",
    "version": 3
   },
   "file_extension": ".py",
   "mimetype": "text/x-python",
   "name": "python",
   "nbconvert_exporter": "python",
   "pygments_lexer": "ipython3",
   "version": "3.6.1"
  }
 },
 "nbformat": 4,
 "nbformat_minor": 2
}
