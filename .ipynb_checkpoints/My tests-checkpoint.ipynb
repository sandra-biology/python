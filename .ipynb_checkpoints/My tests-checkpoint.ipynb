{
 "cells": [
  {
   "cell_type": "code",
   "execution_count": 8,
   "metadata": {
    "collapsed": false
   },
   "outputs": [
    {
     "name": "stdout",
     "output_type": "stream",
     "text": [
      "<open file 'C:\\\\Users\\\\sandr\\\\Documents\\\\Research\\\\Bioinformatics\\\\Sequences\\\\SOYM_296_final_asm_H75A01_Rhg4_Acclike B100B10.fasta.txt', mode 'r' at 0x0000000003E381E0>\n"
     ]
    }
   ],
   "source": [
    "file_object = open(\"C:\\Users\\sandr\\Documents\\Research\\Bioinformatics\\Sequences\\SOYM_296_final_asm_H75A01_Rhg4_Acclike B100B10.fasta.txt\", \"r\")\n",
    "print file_object"
   ]
  },
  {
   "cell_type": "code",
   "execution_count": 3,
   "metadata": {
    "collapsed": false
   },
   "outputs": [
    {
     "name": "stdout",
     "output_type": "stream",
     "text": [
      "<open file 'C:\\\\Users\\\\sandr\\\\Documents\\\\Research\\\\Bioinformatics\\\\Sequences\\\\SOYM_296_final_asm_H75A01_Rhg4_Acclike B100B10.fasta.txt', mode 'r' at 0x0000000003F37030>\n"
     ]
    }
   ],
   "source": [
    "f = open(\"C:\\Users\\sandr\\Documents\\Research\\Bioinformatics\\Sequences\\SOYM_296_final_asm_H75A01_Rhg4_Acclike B100B10.fasta.txt\", \"r\")\n",
    "print f"
   ]
  },
  {
   "cell_type": "code",
   "execution_count": 4,
   "metadata": {
    "collapsed": false
   },
   "outputs": [
    {
     "ename": "SyntaxError",
     "evalue": "EOL while scanning string literal (<ipython-input-4-e2f0f816ed4a>, line 1)",
     "output_type": "error",
     "traceback": [
      "\u001b[1;36m  File \u001b[1;32m\"<ipython-input-4-e2f0f816ed4a>\"\u001b[1;36m, line \u001b[1;32m1\u001b[0m\n\u001b[1;33m    s = 'Query  53557  AATTCTGGTGTGATaaaaaaaaTTGTGTAGACTCCTTTTAATGTCATAAAATCAGAAGTG  53616\u001b[0m\n\u001b[1;37m                                                                                         ^\u001b[0m\n\u001b[1;31mSyntaxError\u001b[0m\u001b[1;31m:\u001b[0m EOL while scanning string literal\n"
     ]
    }
   ],
   "source": [
    "s = 'Query  53557  AATTCTGGTGTGATaaaaaaaaTTGTGTAGACTCCTTTTAATGTCATAAAATCAGAAGTG  53616\n",
    "              ||||||||||||||||||||||||||||||||||||||||||||||||||||||||||||\n",
    "Sbjct  40810  AATTCTGGTGTGATAAAAAAAATTGTGTAGACTCCTTTTAATGTCATAAAATCAGAAGTG  40751'\n",
    "print s"
   ]
  },
  {
   "cell_type": "code",
   "execution_count": 7,
   "metadata": {
    "collapsed": false
   },
   "outputs": [
    {
     "ename": "SyntaxError",
     "evalue": "EOL while scanning string literal (<ipython-input-7-09c956eb26ae>, line 1)",
     "output_type": "error",
     "traceback": [
      "\u001b[1;36m  File \u001b[1;32m\"<ipython-input-7-09c956eb26ae>\"\u001b[1;36m, line \u001b[1;32m1\u001b[0m\n\u001b[1;33m    s =   \"AATTCTGGTGTGATaaaaaaaaTTGTGTAGACTCCTTTTAATGTCATAAAATCAGAAGTG ....\u001b[0m\n\u001b[1;37m                                                                           ^\u001b[0m\n\u001b[1;31mSyntaxError\u001b[0m\u001b[1;31m:\u001b[0m EOL while scanning string literal\n"
     ]
    }
   ],
   "source": [
    "s =   \"AATTCTGGTGTGATaaaaaaaaTTGTGTAGACTCCTTTTAATGTCATAAAATCAGAAGTG ....\n",
    "..     |||||||||||||||||||||||||||||||||||||||||||||||||||||||||||| ....\n",
    "..     AATTCTGGTGTGATAAAAAAAATTGTGTAGACTCCTTTTAATGTCATAAAATCAGAAGTG\"\n",
    "print s"
   ]
  },
  {
   "cell_type": "code",
   "execution_count": 13,
   "metadata": {
    "collapsed": false
   },
   "outputs": [
    {
     "data": {
      "text/plain": [
       "u'C:\\\\Users\\\\sandr\\\\python'"
      ]
     },
     "execution_count": 13,
     "metadata": {},
     "output_type": "execute_result"
    }
   ],
   "source": [
    "pwd"
   ]
  },
  {
   "cell_type": "code",
   "execution_count": 14,
   "metadata": {
    "collapsed": false
   },
   "outputs": [
    {
     "name": "stdout",
     "output_type": "stream",
     "text": [
      " Volume in drive C has no label.\n",
      " Volume Serial Number is 8003-A480\n",
      "\n",
      " Directory of C:\\Users\\sandr\\python\n",
      "\n",
      "07/17/2017  04:37 PM    <DIR>          .\n",
      "07/17/2017  04:37 PM    <DIR>          ..\n",
      "07/15/2017  07:19 PM    <DIR>          .ipynb_checkpoints\n",
      "06/22/2017  11:48 AM            21,349 Excercise.ipynb\n",
      "05/30/2016  07:05 PM                21 hello.py\n",
      "01/31/2012  04:51 PM            95,913 SOYM_296_final_asm_H75A01_Rhg4_Acclike B100B10.fasta.txt\n",
      "07/17/2017  03:45 PM             8,534 test.ipynb\n",
      "07/17/2017  04:21 PM                45 text.txt\n",
      "07/17/2017  04:37 PM             4,054 Untitled.ipynb\n",
      "07/15/2017  07:18 PM                 0 untitled.txt\n",
      "               7 File(s)        129,916 bytes\n",
      "               3 Dir(s)  171,707,998,208 bytes free\n"
     ]
    }
   ],
   "source": [
    "ls"
   ]
  },
  {
   "cell_type": "code",
   "execution_count": 19,
   "metadata": {
    "collapsed": false
   },
   "outputs": [
    {
     "name": "stdout",
     "output_type": "stream",
     "text": [
      "<open file 'text.txt', mode 'r' at 0x0000000003F370C0>\n",
      "abc def ghi\n",
      "jkl mno prs\n",
      "This is a text line\n"
     ]
    }
   ],
   "source": [
    "f = open(\"text.txt\", \"r\")\n",
    "print f\n",
    "for line in f:\n",
    "        print line.strip()"
   ]
  },
  {
   "cell_type": "code",
   "execution_count": 8,
   "metadata": {
    "collapsed": false,
    "scrolled": true
   },
   "outputs": [
    {
     "name": "stdout",
     "output_type": "stream",
     "text": [
      "<open file 'text.txt', mode 'r' at 0x00000000040A71E0>\n",
      "abc def ghi\n",
      "jkl mno prs\n",
      "This is a text line\n"
     ]
    },
    {
     "ename": "NameError",
     "evalue": "name 'close' is not defined",
     "output_type": "error",
     "traceback": [
      "\u001b[1;31m---------------------------------------------------------------------------\u001b[0m",
      "\u001b[1;31mNameError\u001b[0m                                 Traceback (most recent call last)",
      "\u001b[1;32m<ipython-input-8-0869c978632e>\u001b[0m in \u001b[0;36m<module>\u001b[1;34m()\u001b[0m\n\u001b[0;32m      3\u001b[0m \u001b[1;32mfor\u001b[0m \u001b[0mline\u001b[0m \u001b[1;32min\u001b[0m \u001b[0mf\u001b[0m\u001b[1;33m:\u001b[0m\u001b[1;33m\u001b[0m\u001b[0m\n\u001b[0;32m      4\u001b[0m     \u001b[1;32mprint\u001b[0m \u001b[0mline\u001b[0m\u001b[1;33m.\u001b[0m\u001b[0mstrip\u001b[0m\u001b[1;33m(\u001b[0m\u001b[1;33m)\u001b[0m\u001b[1;33m\u001b[0m\u001b[0m\n\u001b[1;32m----> 5\u001b[1;33m \u001b[0mclose\u001b[0m\u001b[1;33m(\u001b[0m\u001b[1;33m)\u001b[0m\u001b[1;33m\u001b[0m\u001b[0m\n\u001b[0m",
      "\u001b[1;31mNameError\u001b[0m: name 'close' is not defined"
     ]
    }
   ],
   "source": [
    "f = open(\"text.txt\", \"r\")\n",
    "print f\n",
    "for line in f:\n",
    "    print line.strip()\n"
   ]
  },
  {
   "cell_type": "code",
   "execution_count": 11,
   "metadata": {
    "collapsed": false
   },
   "outputs": [
    {
     "ename": "SyntaxError",
     "evalue": "invalid syntax (<ipython-input-11-0e3133b1fd07>, line 5)",
     "output_type": "error",
     "traceback": [
      "\u001b[1;36m  File \u001b[1;32m\"<ipython-input-11-0e3133b1fd07>\"\u001b[1;36m, line \u001b[1;32m5\u001b[0m\n\u001b[1;33m    finally:\u001b[0m\n\u001b[1;37m          ^\u001b[0m\n\u001b[1;31mSyntaxError\u001b[0m\u001b[1;31m:\u001b[0m invalid syntax\n"
     ]
    }
   ],
   "source": [
    "f = open('text.txt', 'r')\n",
    "\n",
    "try:\n",
    "    # do stuff with f\n",
    "finally:\n",
    "    f.close()"
   ]
  },
  {
   "cell_type": "code",
   "execution_count": 4,
   "metadata": {
    "collapsed": false
   },
   "outputs": [
    {
     "name": "stdout",
     "output_type": "stream",
     "text": [
      "This is a string\n",
      "This\n",
      "is a abc\tstring that contains abc and Abc and also abcd\n"
     ]
    }
   ],
   "source": [
    "s = \"This is a string\"\n",
    "print s\n",
    "\n",
    "s1= \"This\\nis a abc\\tstring that contains abc and Abc and also abcd\"\n",
    "print s1"
   ]
  },
  {
   "cell_type": "code",
   "execution_count": 5,
   "metadata": {
    "collapsed": false
   },
   "outputs": [
    {
     "name": "stdout",
     "output_type": "stream",
     "text": [
      "ABCD EFGH IJKL MNOP QRST UVWX YZ\n"
     ]
    }
   ],
   "source": [
    "s = \"ABCD EFGH IJKL MNOP QRST UVWX YZ\"\n",
    "print s\n"
   ]
  },
  {
   "cell_type": "code",
   "execution_count": 2,
   "metadata": {
    "collapsed": false,
    "scrolled": true
   },
   "outputs": [
    {
     "name": "stdout",
     "output_type": "stream",
     "text": [
      "enter a small int:\n",
      "3\n"
     ]
    }
   ],
   "source": [
    "print(\"enter a small int:\")\n",
    "small_int = input()"
   ]
  },
  {
   "cell_type": "code",
   "execution_count": 2,
   "metadata": {
    "collapsed": false
   },
   "outputs": [
    {
     "name": "stdout",
     "output_type": "stream",
     "text": [
      "enter somethings eaten in last 24 hrs: seafood, dairy, nuts, and chocolate cake\n"
     ]
    },
    {
     "ename": "SyntaxError",
     "evalue": "invalid syntax (<string>, line 1)",
     "output_type": "error",
     "traceback": [
      "\u001b[1;36m  File \u001b[1;32m\"<string>\"\u001b[1;36m, line \u001b[1;32m1\u001b[0m\n\u001b[1;33m    seafood, dairy, nuts, and chocolate cake\u001b[0m\n\u001b[1;37m                            ^\u001b[0m\n\u001b[1;31mSyntaxError\u001b[0m\u001b[1;31m:\u001b[0m invalid syntax\n"
     ]
    }
   ],
   "source": [
    "#required coding assignment from Introduction to Python:Absolute Beginner Module 1\n",
    "input_test = input(\"enter somethings eaten in last 24 hrs: \")\n",
    "print(\"dairy\" in input_test)\n",
    "input_test1 = input(\"enter somethings eaten in last 24 hrs: \")\n",
    "print(\"dairy\" in input_test1)\n",
    "input_test2 = input(\"enter somethings eaten in last 24 hrs: \")\n",
    "print(\"dairy\" in input_test2)\n",
    "input_test3 = input(\"enter somethings eaten in last 24 hrs: \")\n",
    "print(\"nuts\" in input_test3)\n",
    "input_test4 = input(\"enter somethings eaten in last 24 hrs: \")\n",
    "print(\"nuts\" in input_test4)\n",
    "input_test5 = input(\"enter somethings eaten in last 24 hrs: \")\n",
    "print(\"nuts\" in input_test5)\n",
    "input_test_challenge = input(\"enter somethings eaten in last 24 hrs: \")\n",
    "print(\"nuts Seafood chocolate\" in input_test_challenge)\n",
    "input_test_challenge1 = input(\"enter somethings eaten in last 24 hrs: \")\n",
    "print(\"nuts Seafood chocolate\" in input_test_challenge1)\n",
    "input_test_challenge2 = input(\"enter somethings eaten in last 24 hrs: \")\n",
    "print(\"nuts Seafood chocolate\" in input_test_challenge2)\n",
    "input_test7 = input(\"enter somethings eaten in last 24 hrs: \")\n",
    "print(\"nuts\" in input_test7)\n",
    "input_test8 = input(\"enter somethings eaten in last 24 hrs: \")\n",
    "print(\"nuts\" in input_test8)\n",
    "input_test9 = input(\"enter somethings eaten in last 24 hrs: \")\n",
    "print(\"nuts\" in input_test9)\n",
    "input_test10 = input(\"enter somethings eaten in last 24 hrs: \")\n",
    "print(\"seafood\" in input_test10)\n",
    "input_test11 = input(\"enter somethings eaten in last 24 hrs: \")\n",
    "print(\"chocolate\" in input_test11)"
   ]
  },
  {
   "cell_type": "code",
   "execution_count": null,
   "metadata": {
    "collapsed": true
   },
   "outputs": [],
   "source": []
  }
 ],
 "metadata": {
  "kernelspec": {
   "display_name": "Python 2",
   "language": "python",
   "name": "python2"
  },
  "language_info": {
   "codemirror_mode": {
    "name": "ipython",
    "version": 2
   },
   "file_extension": ".py",
   "mimetype": "text/x-python",
   "name": "python",
   "nbconvert_exporter": "python",
   "pygments_lexer": "ipython2",
   "version": "2.7.11"
  }
 },
 "nbformat": 4,
 "nbformat_minor": 0
}
