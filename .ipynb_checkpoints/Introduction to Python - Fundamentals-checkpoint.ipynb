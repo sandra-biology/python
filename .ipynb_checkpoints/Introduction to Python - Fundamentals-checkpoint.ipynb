{
 "cells": [
  {
   "cell_type": "code",
   "execution_count": 5,
   "metadata": {},
   "outputs": [
    {
     "name": "stdout",
     "output_type": "stream",
     "text": [
      "What you do, do with your whole heart\n",
      "What\n"
     ]
    }
   ],
   "source": [
    "# phrase = input(\"enter a famous quotation: \")\n",
    "phrase = \"What you do, do with your whole heart\"\n",
    "print(phrase)\n",
    "\n",
    "index = phrase.find(\" \")\n",
    "print(phrase[0:index])\n",
    "\n",
    "#if phrase.isalpha():\n",
    "#    for letter in phrase:\n",
    "#        word += letter\n",
    "#elif phrase.lower() > \"g\":\n",
    "#    word += phrase\n",
    "#    print(word)\n",
    "#else:\n",
    "#    pass\n",
    "    "
   ]
  },
  {
   "cell_type": "code",
   "execution_count": 23,
   "metadata": {},
   "outputs": [
    {
     "name": "stdout",
     "output_type": "stream",
     "text": [
      "enter a famous quotation: What you do do with your whole heart.\n",
      "What you do do with your whole heart.\n",
      "What\n",
      "\n",
      "WHAT\n",
      "YOU\n",
      "WITH\n",
      "YOUR\n",
      "WHOLE\n",
      "HEART\n"
     ]
    }
   ],
   "source": [
    "phrase = input(\"enter a famous quotation: \")\n",
    "# phrase = \"What you do, do with your whole heart\"\n",
    "print(phrase)\n",
    "\n",
    "phrase.find(\" \")\n",
    "print(phrase[:4])\n",
    "\n",
    "print()\n",
    "\n",
    "word = \"\"\n",
    "for letter in phrase:\n",
    "    if letter.isalpha():\n",
    "        word += letter\n",
    "    else:\n",
    "        if len(word) > 0:\n",
    "            if word[0].lower() > \"g\":\n",
    "                print(word.upper())\n",
    "        word = \"\""
   ]
  },
  {
   "cell_type": "code",
   "execution_count": 23,
   "metadata": {},
   "outputs": [
    {
     "name": "stdout",
     "output_type": "stream",
     "text": [
      "5\n"
     ]
    }
   ],
   "source": [
    "phrase = \"Mary has a little lamb\"\n",
    "\n",
    "word_count = 0\n",
    "\n",
    "for letter in phrase:\n",
    "    if letter == \" \":\n",
    "        word_count += 1\n",
    "\n",
    "word_count += 1 # to count the last word\n",
    "\n",
    "print(word_count)"
   ]
  },
  {
   "cell_type": "code",
   "execution_count": 28,
   "metadata": {},
   "outputs": [
    {
     "name": "stdout",
     "output_type": "stream",
     "text": [
      "c\n",
      "a\n",
      "t\n",
      "cat to tac\n",
      "False\n"
     ]
    }
   ],
   "source": [
    "pet_type = \"cat\"\n",
    "new_type = \"\"\n",
    "\n",
    "for letter in pet_type[::-1]:\n",
    "    new_type += letter\n",
    "    #print(new_type)\n",
    "for letter in pet_type[:]:\n",
    "    print(letter)\n",
    "\n",
    "print(pet_type, \"to\", new_type)\n",
    "\n",
    "if pet_type == new_type:\n",
    "    print(True)\n",
    "else:\n",
    "    print(False)"
   ]
  },
  {
   "cell_type": "code",
   "execution_count": 23,
   "metadata": {},
   "outputs": [
    {
     "name": "stdout",
     "output_type": "stream",
     "text": [
      "enter favorite color: Red\n",
      "d\n",
      "e\n",
      "R\n",
      "R\n",
      "e\n",
      "d\n"
     ]
    }
   ],
   "source": [
    "fav_color = input(\"enter favorite color: \")\n",
    "color_fav = \"\"\n",
    "for letter in fav_color[::-1]:\n",
    "    # color_fav += str(letter in fav_color[::-1])\n",
    "    print(letter)\n",
    "for letter in fav_color[:]:\n",
    "    print(letter)"
   ]
  },
  {
   "cell_type": "code",
   "execution_count": null,
   "metadata": {},
   "outputs": [],
   "source": []
  },
  {
   "cell_type": "code",
   "execution_count": null,
   "metadata": {
    "collapsed": true
   },
   "outputs": [],
   "source": []
  }
 ],
 "metadata": {
  "kernelspec": {
   "display_name": "Python 3",
   "language": "python",
   "name": "python3"
  },
  "language_info": {
   "codemirror_mode": {
    "name": "ipython",
    "version": 3
   },
   "file_extension": ".py",
   "mimetype": "text/x-python",
   "name": "python",
   "nbconvert_exporter": "python",
   "pygments_lexer": "ipython3",
   "version": "3.6.1"
  }
 },
 "nbformat": 4,
 "nbformat_minor": 2
}
