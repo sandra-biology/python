{
 "cells": [
  {
   "cell_type": "code",
   "execution_count": 1,
   "metadata": {},
   "outputs": [
    {
     "name": "stdout",
     "output_type": "stream",
     "text": [
      "11\n"
     ]
    }
   ],
   "source": [
    "s = 'abc def ghi'\n",
    "s_length = len(s)\n",
    "print(s_length)"
   ]
  },
  {
   "cell_type": "code",
   "execution_count": 8,
   "metadata": {},
   "outputs": [
    {
     "name": "stdout",
     "output_type": "stream",
     "text": [
      "<built-in method upper of str object at 0x000001844537AAB0>\n"
     ]
    }
   ],
   "source": [
    "name = 'sandra'\n",
    "type(name)\n",
    "dir(str)\n",
    "# help(name.upper)\n",
    "print(name.upper)"
   ]
  },
  {
   "cell_type": "code",
   "execution_count": 16,
   "metadata": {},
   "outputs": [
    {
     "data": {
      "text/plain": [
       "36"
      ]
     },
     "execution_count": 16,
     "metadata": {},
     "output_type": "execute_result"
    }
   ],
   "source": [
    "2+1\n",
    "_*2 # underscore returns the value of previous operation\n",
    "_**2 # ** is raising the number to a certain power"
   ]
  },
  {
   "cell_type": "code",
   "execution_count": 17,
   "metadata": {},
   "outputs": [
    {
     "data": {
      "text/plain": [
       "24"
      ]
     },
     "execution_count": 17,
     "metadata": {},
     "output_type": "execute_result"
    }
   ],
   "source": [
    "import math\n",
    "math.factorial(4)"
   ]
  },
  {
   "cell_type": "code",
   "execution_count": 19,
   "metadata": {},
   "outputs": [
    {
     "data": {
      "text/plain": [
       "bool"
      ]
     },
     "execution_count": 19,
     "metadata": {},
     "output_type": "execute_result"
    }
   ],
   "source": [
    "# expressions and boolean\n",
    "type(True)\n",
    "type(False)"
   ]
  },
  {
   "cell_type": "code",
   "execution_count": 26,
   "metadata": {},
   "outputs": [
    {
     "data": {
      "text/plain": [
       "True"
      ]
     },
     "execution_count": 26,
     "metadata": {},
     "output_type": "execute_result"
    }
   ],
   "source": [
    "# boolean\n",
    "True or False\n",
    "True and False\n",
    "not False"
   ]
  },
  {
   "cell_type": "code",
   "execution_count": 28,
   "metadata": {},
   "outputs": [
    {
     "data": {
      "text/plain": [
       "False"
      ]
     },
     "execution_count": 28,
     "metadata": {},
     "output_type": "execute_result"
    }
   ],
   "source": [
    "# boolean and object comparison\n",
    "[2, 3] == [2, 3]\n",
    "[2, 3] is [2, 3]"
   ]
  },
  {
   "cell_type": "code",
   "execution_count": 32,
   "metadata": {},
   "outputs": [
    {
     "data": {
      "text/plain": [
       "True"
      ]
     },
     "execution_count": 32,
     "metadata": {},
     "output_type": "execute_result"
    }
   ],
   "source": [
    "# same contents but two different objects\n",
    "[2, 3] is not [2, 3]"
   ]
  },
  {
   "cell_type": "code",
   "execution_count": 31,
   "metadata": {},
   "outputs": [
    {
     "name": "stdout",
     "output_type": "stream",
     "text": [
      "[10, 20, 30, 40] [10, 20, 30, 40]\n"
     ]
    }
   ],
   "source": [
    "alist = [10, 20, 30]\n",
    "blist = alist\n",
    "alist is blist\n",
    "alist.append(40)\n",
    "print(alist, blist)"
   ]
  },
  {
   "cell_type": "code",
   "execution_count": 33,
   "metadata": {},
   "outputs": [
    {
     "data": {
      "text/plain": [
       "True"
      ]
     },
     "execution_count": 33,
     "metadata": {},
     "output_type": "execute_result"
    }
   ],
   "source": [
    "2.0 == 2 # Python automatically casts float as integer"
   ]
  },
  {
   "cell_type": "markdown",
   "metadata": {},
   "source": [
    "identity has to do with memory where objects are located"
   ]
  },
  {
   "cell_type": "code",
   "execution_count": 44,
   "metadata": {},
   "outputs": [
    {
     "name": "stdout",
     "output_type": "stream",
     "text": [
      "t[-0:0] ()\n",
      "t[-0]: 1\n",
      "t[0:1] (1,)\n",
      "(1,)\n",
      "list elements one way: [1]\n",
      "list elements another way: [1]\n"
     ]
    }
   ],
   "source": [
    "t = (1, 2, 3)\n",
    "print(\"t[-0:0]\", t[-0:0]) # t[-0:0] == t[0:0] because -0 == 0\n",
    "print(\"t[-0]:\", t[-0])\n",
    "\n",
    "t = (1, 2, 3)\n",
    "print(\"t[0:1]\", t[0:1])\n",
    "print(t[:1])\n",
    "t = [1, 2, 3]\n",
    "print(\"list elements one way:\", t[0:1])\n",
    "print(\"list elements another way:\", t[:1])"
   ]
  },
  {
   "cell_type": "code",
   "execution_count": 65,
   "metadata": {},
   "outputs": [
    {
     "name": "stdout",
     "output_type": "stream",
     "text": [
      "[3, 2, 1]\n"
     ]
    }
   ],
   "source": [
    "alist = [1, 2, 3]\n",
    "alist.reverse()\n",
    "print(alist)"
   ]
  },
  {
   "cell_type": "code",
   "execution_count": 1,
   "metadata": {},
   "outputs": [
    {
     "data": {
      "text/plain": [
       "tuple"
      ]
     },
     "execution_count": 1,
     "metadata": {},
     "output_type": "execute_result"
    }
   ],
   "source": [
    "x = 12.23\n",
    "y = 23.34\n",
    "coordinate = (x, y) # packing tuples - packing two numbers into tuple\n",
    "type(coordinate)"
   ]
  },
  {
   "cell_type": "code",
   "execution_count": 3,
   "metadata": {},
   "outputs": [
    {
     "name": "stdout",
     "output_type": "stream",
     "text": [
      "coordinate: (12.23, 23.34)\n",
      "c1: 12.23\n",
      "c2: 23.34\n"
     ]
    }
   ],
   "source": [
    "x = 12.23\n",
    "y = 23.34\n",
    "coordinate = (x, y)\n",
    "print(\"coordinate:\", coordinate)\n",
    "\n",
    "(c1, c2) = coordinate #unpacking tuples\n",
    "print(\"c1:\", c1)\n",
    "print(\"c2:\", c2)"
   ]
  },
  {
   "cell_type": "code",
   "execution_count": 5,
   "metadata": {},
   "outputs": [
    {
     "name": "stdout",
     "output_type": "stream",
     "text": [
      "0 0\n",
      "1 1\n",
      "2 4\n",
      "3 9\n",
      "4 16\n",
      "5 25\n",
      "6 36\n",
      "7 49\n",
      "8 64\n",
      "9 81\n"
     ]
    }
   ],
   "source": [
    "coordinates = [(0, 0), (1, 1), (2, 4), (3, 9), (4, 16), (5, 25), (6, 36), (7, 49), (8, 64), (9, 81)]\n",
    "\n",
    "for x, y in coordinates:\n",
    "    print(x, y)"
   ]
  },
  {
   "cell_type": "code",
   "execution_count": 11,
   "metadata": {},
   "outputs": [
    {
     "name": "stdout",
     "output_type": "stream",
     "text": [
      "<class 'int'>\n",
      "<class 'tuple'>\n",
      "<class 'tuple'>\n"
     ]
    }
   ],
   "source": [
    "# tuple with just one object\n",
    "c = (2)\n",
    "print(type(c))\n",
    "c1 = (2,)\n",
    "print(type(c1))\n",
    "c2 = 2,\n",
    "print(type(c2))"
   ]
  },
  {
   "cell_type": "code",
   "execution_count": 20,
   "metadata": {},
   "outputs": [
    {
     "data": {
      "text/plain": [
       "tuple"
      ]
     },
     "execution_count": 20,
     "metadata": {},
     "output_type": "execute_result"
    }
   ],
   "source": [
    "type((2,))"
   ]
  },
  {
   "cell_type": "code",
   "execution_count": 22,
   "metadata": {},
   "outputs": [
    {
     "data": {
      "text/plain": [
       "[0, 1, 2, 3, 4]"
      ]
     },
     "execution_count": 22,
     "metadata": {},
     "output_type": "execute_result"
    }
   ],
   "source": [
    "list(range(5))"
   ]
  },
  {
   "cell_type": "code",
   "execution_count": 25,
   "metadata": {},
   "outputs": [
    {
     "data": {
      "text/plain": [
       "1"
      ]
     },
     "execution_count": 25,
     "metadata": {},
     "output_type": "execute_result"
    }
   ],
   "source": [
    "x = (1, 2, 3)\n",
    "x.index(2) # this is tuple's answer to find in strings"
   ]
  },
  {
   "cell_type": "code",
   "execution_count": 27,
   "metadata": {},
   "outputs": [
    {
     "name": "stdout",
     "output_type": "stream",
     "text": [
      "['Tina', 'fey']\n",
      "2\n"
     ]
    }
   ],
   "source": [
    "name = \"Tina fey\"\n",
    "names = name.split(\" \")\n",
    "print(names)\n",
    "print(len(names))"
   ]
  },
  {
   "cell_type": "code",
   "execution_count": 31,
   "metadata": {},
   "outputs": [
    {
     "data": {
      "text/plain": [
       "'0123456789'"
      ]
     },
     "execution_count": 31,
     "metadata": {},
     "output_type": "execute_result"
    }
   ],
   "source": [
    "\"\".join([str(i) for i in range(10)])"
   ]
  },
  {
   "cell_type": "code",
   "execution_count": 32,
   "metadata": {},
   "outputs": [
    {
     "data": {
      "text/plain": [
       "'range(0, 10)'"
      ]
     },
     "execution_count": 32,
     "metadata": {},
     "output_type": "execute_result"
    }
   ],
   "source": [
    "str(range(10))"
   ]
  },
  {
   "cell_type": "code",
   "execution_count": 35,
   "metadata": {},
   "outputs": [
    {
     "data": {
      "text/plain": [
       "False"
      ]
     },
     "execution_count": 35,
     "metadata": {},
     "output_type": "execute_result"
    }
   ],
   "source": [
    "x = \"125,000\"\n",
    "x.isdigit()"
   ]
  },
  {
   "cell_type": "markdown",
   "metadata": {},
   "source": [
    "two types of sets: set and frozenset\n",
    "frozenset is immutable once it has been created\n",
    "objects inside sets don't have locations"
   ]
  },
  {
   "cell_type": "code",
   "execution_count": 38,
   "metadata": {},
   "outputs": [
    {
     "name": "stdout",
     "output_type": "stream",
     "text": [
      "{1, 2, 4, 6, 8, 9, 10}\n",
      "ids after: {1, 2, 4, 6, 8, 9, 10}\n"
     ]
    }
   ],
   "source": [
    "ids = set()\n",
    "ids = set([1, 2, 4, 6, 6, 8, 9])\n",
    "ids.add(10) #have to be added individually, sets have not append()\n",
    "print(ids)\n",
    "ids.add(2)\n",
    "print(\"ids after:\", ids)"
   ]
  },
  {
   "cell_type": "code",
   "execution_count": 39,
   "metadata": {},
   "outputs": [
    {
     "name": "stdout",
     "output_type": "stream",
     "text": [
      "ids: {0, 1, 2, 3, 4, 5, 6, 7, 8, 9}\n",
      "everyone: {0, 1, 2, 3, 4, 5, 6, 7, 8, 9}\n"
     ]
    }
   ],
   "source": [
    "ids = set(range(10))\n",
    "print(\"ids:\", ids)\n",
    "males = set([1, 3, 5, 6, 7])\n",
    "females = ids - males\n",
    "# set union\n",
    "everyone = males|females\n",
    "print(\"everyone:\", everyone)"
   ]
  },
  {
   "cell_type": "code",
   "execution_count": 40,
   "metadata": {},
   "outputs": [
    {
     "data": {
      "text/plain": [
       "{1, 2, 3}"
      ]
     },
     "execution_count": 40,
     "metadata": {},
     "output_type": "execute_result"
    }
   ],
   "source": [
    "# set intersection\n",
    "everyone & set([1, 2, 3])"
   ]
  },
  {
   "cell_type": "code",
   "execution_count": 42,
   "metadata": {},
   "outputs": [
    {
     "data": {
      "text/plain": [
       "12"
      ]
     },
     "execution_count": 42,
     "metadata": {},
     "output_type": "execute_result"
    }
   ],
   "source": [
    "word = \"antidisestablishmentarianism\"\n",
    "letters = set(word)\n",
    "len(letters) # find out how many unique letters"
   ]
  },
  {
   "cell_type": "code",
   "execution_count": 46,
   "metadata": {},
   "outputs": [
    {
     "data": {
      "text/plain": [
       "{2, 3}"
      ]
     },
     "execution_count": 46,
     "metadata": {},
     "output_type": "execute_result"
    }
   ],
   "source": [
    "x={1,2,3}\n",
    "y={2,3,4}\n",
    "x & y # & is mathematical AND"
   ]
  },
  {
   "cell_type": "code",
   "execution_count": 70,
   "metadata": {},
   "outputs": [
    {
     "name": "stdout",
     "output_type": "stream",
     "text": [
      "{1, 4}\n"
     ]
    }
   ],
   "source": [
    "x={1,2,3}\n",
    "y={2,3,4}\n",
    "z = x | y\n",
    "w = x & y\n",
    "result = z - w\n",
    "print(result)"
   ]
  },
  {
   "cell_type": "code",
   "execution_count": 72,
   "metadata": {},
   "outputs": [
    {
     "name": "stdout",
     "output_type": "stream",
     "text": [
      "{1, 4}\n"
     ]
    }
   ],
   "source": [
    "result = (x | y) - (x & y)\n",
    "print(result)"
   ]
  },
  {
   "cell_type": "code",
   "execution_count": 77,
   "metadata": {},
   "outputs": [
    {
     "data": {
      "text/plain": [
       "False"
      ]
     },
     "execution_count": 77,
     "metadata": {},
     "output_type": "execute_result"
    }
   ],
   "source": [
    "x={1,2,3}\n",
    "y={2,3,4}\n",
    "x in y\n",
    "x.issubset(y)"
   ]
  },
  {
   "cell_type": "code",
   "execution_count": 87,
   "metadata": {},
   "outputs": [
    {
     "name": "stdout",
     "output_type": "stream",
     "text": [
      "0\n",
      "1\n"
     ]
    },
    {
     "data": {
      "text/plain": [
       "True"
      ]
     },
     "execution_count": 87,
     "metadata": {},
     "output_type": "execute_result"
    }
   ],
   "source": [
    "x={1,2,3}\n",
    "y={2,3,4}\n",
    "z={2,3}\n",
    "print(len(z - (y & z)))\n",
    "print(len(x - (y & x)))\n",
    "z.issubset(y)"
   ]
  },
  {
   "cell_type": "code",
   "execution_count": 88,
   "metadata": {},
   "outputs": [
    {
     "data": {
      "text/plain": [
       "False"
      ]
     },
     "execution_count": 88,
     "metadata": {},
     "output_type": "execute_result"
    }
   ],
   "source": [
    "x={1,2,3}\n",
    "y={2,3,4}\n",
    "z={2,3}\n",
    "z in y"
   ]
  },
  {
   "cell_type": "code",
   "execution_count": 99,
   "metadata": {},
   "outputs": [
    {
     "name": "stdout",
     "output_type": "stream",
     "text": [
      "type of names: <class 'dict_keys'>\n",
      "names before: dict_keys(['Tim', 'Jim', 'Pam', 'Sam'])\n",
      "names after: dict_keys(['Tim', 'Jim', 'Pam', 'Sam', 'Tom'])\n",
      "\n",
      "ages: dict_values([29, 31, 27, 35, 50])\n",
      "names after Nick: dict_keys(['Tim', 'Jim', 'Pam', 'Sam', 'Tom', 'Nick'])\n",
      "ages after Nick: dict_values([29, 31, 27, 35, 50, 31])\n"
     ]
    },
    {
     "data": {
      "text/plain": [
       "False"
      ]
     },
     "execution_count": 99,
     "metadata": {},
     "output_type": "execute_result"
    }
   ],
   "source": [
    "age = {\"Tim\": 29, \"Jim\": 31, \"Pam\": 27, \"Sam\": 35}\n",
    "names = age.keys()\n",
    "print(\"type of names:\", type(names))\n",
    "print(\"names before:\", names)\n",
    "\n",
    "# view object: does not redefine dictionary keys\n",
    "age[\"Tom\"] = 50\n",
    "print(\"names after:\", names)\n",
    "print()\n",
    "ages = age.values()\n",
    "print(\"ages:\", ages)\n",
    "\n",
    "age[\"Nick\"] = 31\n",
    "print(\"names after Nick:\", names)\n",
    "print(\"ages after Nick:\", ages)\n",
    "\n",
    "\"Tom\" in age\n",
    "\"Zofia\" in age # testing for object membership in dictionary"
   ]
  },
  {
   "cell_type": "code",
   "execution_count": 101,
   "metadata": {},
   "outputs": [
    {
     "ename": "KeyError",
     "evalue": "'Andriy'",
     "output_type": "error",
     "traceback": [
      "\u001b[1;31m---------------------------------------------------------------------------\u001b[0m",
      "\u001b[1;31mKeyError\u001b[0m                                  Traceback (most recent call last)",
      "\u001b[1;32m<ipython-input-101-1cdaa6c5275b>\u001b[0m in \u001b[0;36m<module>\u001b[1;34m()\u001b[0m\n\u001b[0;32m      1\u001b[0m \u001b[0mage\u001b[0m\u001b[1;33m=\u001b[0m\u001b[1;33m{\u001b[0m\u001b[1;34m'Tim'\u001b[0m\u001b[1;33m:\u001b[0m\u001b[1;36m29\u001b[0m\u001b[1;33m,\u001b[0m \u001b[1;34m'Jim'\u001b[0m\u001b[1;33m:\u001b[0m\u001b[1;36m31\u001b[0m\u001b[1;33m,\u001b[0m \u001b[1;34m'Pam'\u001b[0m\u001b[1;33m:\u001b[0m\u001b[1;36m27\u001b[0m\u001b[1;33m,\u001b[0m \u001b[1;34m'Sam'\u001b[0m\u001b[1;33m:\u001b[0m\u001b[1;36m35\u001b[0m\u001b[1;33m}\u001b[0m\u001b[1;33m\u001b[0m\u001b[0m\n\u001b[1;32m----> 2\u001b[1;33m \u001b[0mage\u001b[0m\u001b[1;33m[\u001b[0m\u001b[1;34m\"Andriy\"\u001b[0m\u001b[1;33m]\u001b[0m\u001b[1;33m\u001b[0m\u001b[0m\n\u001b[0m",
      "\u001b[1;31mKeyError\u001b[0m: 'Andriy'"
     ]
    }
   ],
   "source": [
    "age={'Tim':29, 'Jim':31, 'Pam':27, 'Sam':35}\n",
    "age[\"Andriy\"] # no key"
   ]
  },
  {
   "cell_type": "code",
   "execution_count": 103,
   "metadata": {},
   "outputs": [
    {
     "name": "stdout",
     "output_type": "stream",
     "text": [
      "{'Tim': 29, 'Pam': 27, 10: 100, 5.5: 'Sam'}\n"
     ]
    }
   ],
   "source": [
    "age = {\"Tim\": 29, \"Pam\": 27, 10: 100, 5.5: \"Sam\"}\n",
    "print(age)"
   ]
  },
  {
   "cell_type": "code",
   "execution_count": 2,
   "metadata": {},
   "outputs": [
    {
     "name": "stdout",
     "output_type": "stream",
     "text": [
      "l equal to m: True\n",
      "l is m: False\n",
      "id of l: 2511852475528\n",
      "id of m: 2511849958088\n"
     ]
    }
   ],
   "source": [
    "# mutable objects having the same content but being different objects\n",
    "l = [1, 2, 3]\n",
    "m = [1, 2, 3]\n",
    "print(\"l equal to m:\", l == m) # equal in content\n",
    "print(\"l is m:\", l is m)\n",
    "print(\"id of l:\", id(l))\n",
    "print(\"id of m:\", id(m))"
   ]
  },
  {
   "cell_type": "code",
   "execution_count": 6,
   "metadata": {},
   "outputs": [
    {
     "data": {
      "text/plain": [
       "False"
      ]
     },
     "execution_count": 6,
     "metadata": {},
     "output_type": "execute_result"
    }
   ],
   "source": [
    "import copy \n",
    "x = [1,[2]] \n",
    "y = copy.copy(x) \n",
    "z = copy.deepcopy(x) \n",
    "y is z "
   ]
  },
  {
   "cell_type": "code",
   "execution_count": 11,
   "metadata": {},
   "outputs": [
    {
     "name": "stdout",
     "output_type": "stream",
     "text": [
      "Jim\n",
      "Tom\n",
      "Nick\n",
      "Pam\n",
      "Sam\n",
      "Tim\n",
      "\n",
      "Jim\n",
      "Tom\n",
      "Nick\n",
      "Pam\n",
      "Sam\n",
      "Tim\n"
     ]
    }
   ],
   "source": [
    "names = [\"Jim\", \"Tom\", \"Nick\", \"Pam\", \"Sam\", \"Tim\"]\n",
    "\n",
    "for i in range(len(names)): # i is index\n",
    "    print(names[i]) # name so that Python prints actual name associated with that index\n",
    "    #print(i)\n",
    "print()\n",
    "#Pythonic way\n",
    "for name in names:\n",
    "    print(name)"
   ]
  },
  {
   "cell_type": "code",
   "execution_count": 18,
   "metadata": {},
   "outputs": [
    {
     "name": "stdout",
     "output_type": "stream",
     "text": [
      "dict_keys(['Tim', 'Jim', 'Pam', 'Sam', 'Tom'])\n",
      "Tim 29\n",
      "Jim 31\n",
      "Pam 27\n",
      "Sam 35\n",
      "Tom 50\n",
      "\n",
      "Tim 29\n",
      "Jim 31\n",
      "Pam 27\n",
      "Sam 35\n",
      "Tom 50\n",
      "\n",
      "Jim 31\n",
      "Pam 27\n",
      "Sam 35\n",
      "Tim 29\n",
      "Tom 50\n",
      "\n",
      "Tom 50\n",
      "Tim 29\n",
      "Sam 35\n",
      "Pam 27\n",
      "Jim 31\n"
     ]
    }
   ],
   "source": [
    "age = {\"Tim\": 29, \"Jim\": 31, \"Pam\": 27, \"Sam\": 35, \"Tom\": 50}\n",
    "print(age.keys())\n",
    "\n",
    "for name in age.keys():\n",
    "    print(name, age[name]) #similar to print(names[i]) in above example\n",
    "print()\n",
    "# looping over a dictionary is a common operation, so here is a shortcut\n",
    "for name in age:\n",
    "    print(name, age[name])\n",
    "print()\n",
    "# looping over the dictionary in alphabetical order\n",
    "for name in sorted(age.keys()):\n",
    "    print(name, age[name])\n",
    "print()\n",
    "# looping over the dictionary in reverse order\n",
    "for name in sorted(age, reverse=True):\n",
    "    print(name, age[name])"
   ]
  },
  {
   "cell_type": "code",
   "execution_count": 8,
   "metadata": {},
   "outputs": [
    {
     "name": "stdout",
     "output_type": "stream",
     "text": [
      "7\n"
     ]
    }
   ],
   "source": [
    "n=100\n",
    "number_of_times = 0\n",
    "while n >= 1:\n",
    "    n //= 2 # treat as integer\n",
    "    number_of_times += 1\n",
    "\n",
    "print(number_of_times)"
   ]
  },
  {
   "cell_type": "code",
   "execution_count": 11,
   "metadata": {},
   "outputs": [
    {
     "name": "stdout",
     "output_type": "stream",
     "text": [
      "squares done normally: [0, 1, 4, 9, 16, 25, 36, 49, 64, 81]\n",
      "\n",
      "squares done using list comprehension: [0, 1, 4, 9, 16, 25, 36, 49, 64, 81]\n"
     ]
    }
   ],
   "source": [
    "# using list comprehension\n",
    "numbers = range(10)\n",
    "squares = []\n",
    "for number in numbers:\n",
    "    square = number ** 2\n",
    "    squares.append(square)\n",
    "print(\"squares done normally:\", squares)\n",
    "print()\n",
    "squares2 = [number**2 for number in numbers] # number**2 becomes the number to append into sqaures2 list\n",
    "# number**2 is what to do, everything after for keyword is where to get it\n",
    "# putting the cart before the horse\n",
    "print(\"squares done using list comprehension:\", squares2)"
   ]
  },
  {
   "cell_type": "markdown",
   "metadata": {},
   "source": [
    "why use list comprehensions:\n",
    "    1. list comprehensions are very fast\n",
    "    2. list comprehensoins are elegant - you can done a lot in just one line"
   ]
  },
  {
   "cell_type": "code",
   "execution_count": 42,
   "metadata": {},
   "outputs": [
    {
     "name": "stdout",
     "output_type": "stream",
     "text": [
      "25\n"
     ]
    }
   ],
   "source": [
    "#addition_result = 0\n",
    "result = 0\n",
    "for number in range(10):\n",
    "    if number%2 != 0:\n",
    "        #print(\"sum before addition:\", addition_result)\n",
    "        #print(number)\n",
    "        result += number\n",
    "print(result)"
   ]
  },
  {
   "cell_type": "code",
   "execution_count": 44,
   "metadata": {},
   "outputs": [
    {
     "name": "stdout",
     "output_type": "stream",
     "text": [
      "[1, 3, 5, 7, 9]\n"
     ]
    }
   ],
   "source": [
    "numbers = range(10)\n",
    "result = [number for number in numbers if number%2 == 1]\n",
    "print(result)"
   ]
  },
  {
   "cell_type": "code",
   "execution_count": 45,
   "metadata": {},
   "outputs": [
    {
     "name": "stdout",
     "output_type": "stream",
     "text": [
      "25\n"
     ]
    }
   ],
   "source": [
    "result = sum([n for n in range(10) if n%2 == 1])\n",
    "print(result)"
   ]
  },
  {
   "cell_type": "code",
   "execution_count": 80,
   "metadata": {
    "collapsed": true
   },
   "outputs": [],
   "source": [
    "f = open(\"output.txt\", \"w\")\n",
    "f.write(\"Python\\n\")\n",
    "f.close()"
   ]
  },
  {
   "cell_type": "code",
   "execution_count": 76,
   "metadata": {},
   "outputs": [
    {
     "data": {
      "text/plain": [
       "(35, 5)"
      ]
     },
     "execution_count": 76,
     "metadata": {},
     "output_type": "execute_result"
    }
   ],
   "source": [
    "def add_and_sub(a, b):\n",
    "    mysum = a + b\n",
    "    mydiff = a - b\n",
    "    # return mysum and mydiff to the caller of the function\n",
    "    return (mysum, mydiff)\n",
    "\n",
    "add_and_sub(20, 15)"
   ]
  },
  {
   "cell_type": "code",
   "execution_count": 78,
   "metadata": {},
   "outputs": [
    {
     "data": {
      "text/plain": [
       "[3, 4, 5]"
      ]
     },
     "execution_count": 78,
     "metadata": {},
     "output_type": "execute_result"
    }
   ],
   "source": [
    "def intersect(s1, s2):\n",
    "    # keep track of results that our function generates\n",
    "    res = []\n",
    "    for x in s1:\n",
    "        if x in s2: # x is in both s1 and s2\n",
    "            res.append(x)\n",
    "    return res\n",
    "\n",
    "intersect([1, 2, 3, 4, 5], [3, 4, 5, 6, 7])"
   ]
  },
  {
   "cell_type": "code",
   "execution_count": 84,
   "metadata": {},
   "outputs": [
    {
     "data": {
      "text/plain": [
       "True"
      ]
     },
     "execution_count": 84,
     "metadata": {},
     "output_type": "execute_result"
    }
   ],
   "source": [
    "def is_vowel(letter):\n",
    "    if letter in \"aeiouy\":\n",
    "        return(True)\n",
    "    else:\n",
    "        return(False)\n",
    "\n",
    "is_vowel(\"a\")"
   ]
  },
  {
   "cell_type": "code",
   "execution_count": 102,
   "metadata": {},
   "outputs": [
    {
     "data": {
      "text/plain": [
       "120"
      ]
     },
     "execution_count": 102,
     "metadata": {},
     "output_type": "execute_result"
    }
   ],
   "source": [
    "def factorial(n):\n",
    "    if n == 0:\n",
    "        return 1\n",
    "    else:\n",
    "        N = 1\n",
    "        for i in range(1, n+1):\n",
    "            N *= i\n",
    "    return(N)\n",
    "\n",
    "factorial(5)"
   ]
  },
  {
   "cell_type": "code",
   "execution_count": 104,
   "metadata": {},
   "outputs": [
    {
     "name": "stdout",
     "output_type": "stream",
     "text": [
      "{'J': 1, 'i': 5, 'm': 1, 'q': 1, 'u': 3, 'c': 1, 'k': 1, 'l': 3, 'y': 1, 'r': 2, 'e': 8, 'a': 4, 'z': 1, 'd': 1, 't': 4, 'h': 2, 'b': 1, 'f': 1, 'g': 1, 'o': 1, 'w': 1, 'n': 2, 's': 2, 'x': 1, 'p': 1, 'v': 1}\n"
     ]
    }
   ],
   "source": [
    "import string\n",
    "alphabet = string.ascii_letters\n",
    "\n",
    "sentence = 'Jim quickly realized that the beautiful gowns are expensive'\n",
    "\n",
    "count_letters = {}\n",
    "#write your code here!\n",
    "for letter in sentence:\n",
    "    #print(letter)\n",
    "    if letter in alphabet:\n",
    "        if letter in count_letters:\n",
    "            count_letters[letter] += 1\n",
    "        else:\n",
    "            count_letters[letter] = 1\n",
    "\n",
    "print(count_letters)"
   ]
  },
  {
   "cell_type": "code",
   "execution_count": null,
   "metadata": {
    "collapsed": true
   },
   "outputs": [],
   "source": [
    "def counter(input_string):\n",
    "    alphabet = string.ascii_letters\n",
    "    count_letters = {}\n",
    "    for letter in input_string:\n",
    "        if letter in alphabet:\n",
    "            if letter in count_letters:\n",
    "                count_letters[letter] += 1\n",
    "            else:\n",
    "                count_letters[letter] = 1\n",
    "    return count_letters\n",
    "\n",
    "frequency = counter(sentence)\n",
    "print(frequency)"
   ]
  },
  {
   "cell_type": "code",
   "execution_count": 117,
   "metadata": {},
   "outputs": [
    {
     "name": "stdout",
     "output_type": "stream",
     "text": [
      "{'a': 5, 'b': 10, 'c': 15, 'd': 2}\n",
      "a 5\n",
      "b 10\n",
      "c 15\n",
      "d 2\n",
      "max_key = c max_value = 15\n"
     ]
    }
   ],
   "source": [
    "# finding most frequent key\n",
    "di = {'a': 5, 'b': 10, 'c': 15, 'd': 2}\n",
    "# di.pop('b') # acts like in list: removes element\n",
    "print(di)\n",
    "# max(di)\n",
    "\n",
    "max_key = \"\"\n",
    "max_value = 0\n",
    "\n",
    "for item in di.items():\n",
    "    key, value = item\n",
    "    print(key, value)\n",
    "    if value > max_value:\n",
    "        max_value = value\n",
    "        max_key = key\n",
    "\n",
    "print(\"max_key =\", max_key, \"max_value =\", max_value)"
   ]
  },
  {
   "cell_type": "markdown",
   "metadata": {},
   "source": [
    "Homework week 1"
   ]
  },
  {
   "cell_type": "code",
   "execution_count": 123,
   "metadata": {},
   "outputs": [
    {
     "data": {
      "text/plain": [
       "-0.7312715117751976"
      ]
     },
     "execution_count": 123,
     "metadata": {},
     "output_type": "execute_result"
    }
   ],
   "source": [
    "import random\n",
    "\n",
    "random.seed(1) # This line fixes the value called by your function,\n",
    "               # and is used for answer-checking.\n",
    "\n",
    "def rand():\n",
    "    # define `rand` here!\n",
    "    # return 2 * random.random() - 1\n",
    "    return random.uniform(-1, 1)\n",
    "\n",
    "rand()"
   ]
  },
  {
   "cell_type": "code",
   "execution_count": 129,
   "metadata": {},
   "outputs": [
    {
     "name": "stdout",
     "output_type": "stream",
     "text": [
      "1.4142135623730951\n"
     ]
    }
   ],
   "source": [
    "import math\n",
    "\n",
    "def distance(x, y):\n",
    "    distance = math.sqrt((x[0] - y[0])**2 + (x[1] - y[1])**2)\n",
    "    return distance\n",
    "\n",
    "dist = distance((0,0), (1,1))\n",
    "print(dist)"
   ]
  },
  {
   "cell_type": "code",
   "execution_count": 137,
   "metadata": {},
   "outputs": [
    {
     "name": "stdout",
     "output_type": "stream",
     "text": [
      "False\n"
     ]
    }
   ],
   "source": [
    "random.seed(1)\n",
    "\n",
    "def in_circle(x, origin = [0]*2):\n",
    "    if distance(x, origin) < 1:\n",
    "        return True\n",
    "    else:\n",
    "        return False\n",
    "   # Define your function here!\n",
    "\n",
    "answer = in_circle((1,1), (0,0))\n",
    "print(answer)"
   ]
  },
  {
   "cell_type": "code",
   "execution_count": 138,
   "metadata": {},
   "outputs": [
    {
     "name": "stdout",
     "output_type": "stream",
     "text": [
      "0.779\n"
     ]
    }
   ],
   "source": [
    "R = 10000\n",
    "x = []\n",
    "inside = []\n",
    "for i in range(R):\n",
    "    point = [rand(), rand()]\n",
    "    x.append(point)\n",
    "    # append inside here!\n",
    "    inside.append(in_circle(point))\n",
    "print(sum(inside) / R)"
   ]
  },
  {
   "cell_type": "code",
   "execution_count": 141,
   "metadata": {},
   "outputs": [
    {
     "name": "stdout",
     "output_type": "stream",
     "text": [
      "pi divided by 4: 0.7853981633974483\n",
      "-0.006398163397448253\n"
     ]
    }
   ],
   "source": [
    "print(\"pi divided by 4:\", math.pi / 4)\n",
    "difference = (sum(inside) / R) - (math.pi / 4)\n",
    "difference = -difference\n",
    "print(difference)"
   ]
  },
  {
   "cell_type": "code",
   "execution_count": 1,
   "metadata": {},
   "outputs": [
    {
     "name": "stdout",
     "output_type": "stream",
     "text": [
      "30.0\n"
     ]
    }
   ],
   "source": [
    "data = [30, 10, 60, 20, 30]\n",
    "\n",
    "sum_data = 0\n",
    "for element in data:\n",
    "    sum_data += element\n",
    "\n",
    "mean = sum_data / len(data)\n",
    "print(mean)"
   ]
  },
  {
   "cell_type": "code",
   "execution_count": 15,
   "metadata": {},
   "outputs": [
    {
     "name": "stdout",
     "output_type": "stream",
     "text": [
      "30.0\n",
      "[30, 30, 30, 10, 60, 20, 30, 40, 40, 40]\n",
      "[32.0, 30.0, 30.0, 32.0, 38.0, 34.0]\n"
     ]
    }
   ],
   "source": [
    "data = [30, 10, 60, 20, 30, 40]\n",
    "\n",
    "def window_average(data, n_neighbors, ielement):\n",
    "    width = 2 * n_neighbors + 1\n",
    "    sum_window = 0\n",
    "    for i in range(ielement-n_neighbors, ielement+n_neighbors+1):\n",
    "        sum_window += data[i]\n",
    "    mean = sum_window / width\n",
    "    return mean\n",
    "\n",
    "n_neighbors = 2\n",
    "ielement = 2\n",
    "average = window_average(data, n_neighbors, ielement)\n",
    "print(average)\n",
    "\n",
    "data_extend = [data[0]]*n_neighbors + data + [data[-1]]*n_neighbors\n",
    "print(data_extend)\n",
    "\n",
    "mean_list = []\n",
    "for i in range(n_neighbors, len(data_extend)-n_neighbors):\n",
    "    # print(\"i:\", i)\n",
    "    average = window_average(data_extend, n_neighbors, i)\n",
    "    mean_list.append(average)\n",
    "\n",
    "print(mean_list)"
   ]
  },
  {
   "cell_type": "code",
   "execution_count": 3,
   "metadata": {},
   "outputs": [
    {
     "name": "stdout",
     "output_type": "stream",
     "text": [
      "[3.3333333333333335, 5.0, 6.0, 3.0, 3.0, 3.6666666666666665]\n"
     ]
    }
   ],
   "source": [
    "def moving_window_average(x, n_neighbors=1):\n",
    "    n = len(x)\n",
    "    width = n_neighbors*2 + 1\n",
    "    x = [x[0]]*n_neighbors + x + [x[-1]]*n_neighbors\n",
    "    \n",
    "    # To complete the function,\n",
    "    # return a list of the mean of values from i to i+width for all values i from 0 to n-1.\n",
    "    \n",
    "    xmean = []\n",
    "    for i in range(n_neighbors, n+n_neighbors):\n",
    "        a = sum(x[i-n_neighbors:i+n_neighbors+1]) / width\n",
    "        xmean.append(a)\n",
    "    return xmean\n",
    "    \n",
    "x=[0,10,5,3,1,5]\n",
    "print(moving_window_average(x, 1))"
   ]
  },
  {
   "cell_type": "code",
   "execution_count": 1,
   "metadata": {},
   "outputs": [
    {
     "name": "stdout",
     "output_type": "stream",
     "text": [
      "[0.13436424411240122, 0.8474337369372327, 0.763774618976614, 0.2550690257394217, 0.49543508709194095, 0.4494910647887381, 0.651592972722763, 0.7887233511355132, 0.0938595867742349, 0.02834747652200631]\n"
     ]
    }
   ],
   "source": [
    "import random\n",
    "\n",
    "random.seed(1)\n",
    "\n",
    "R = 1000\n",
    "# x = [r = random.random() for range(10)]\n",
    "\n",
    "x = []\n",
    "for i in range(R):\n",
    "    x.append(random.random())\n",
    "\n",
    "print(x)"
   ]
  },
  {
   "cell_type": "code",
   "execution_count": 9,
   "metadata": {},
   "outputs": [
    {
     "name": "stdout",
     "output_type": "stream",
     "text": [
      "[[0.13436424411240122, 0.8474337369372327, 0.763774618976614, 0.2550690257394217, 0.49543508709194095, 0.4494910647887381, 0.651592972722763, 0.7887233511355132, 0.0938595867742349, 0.02834747652200631, 0.8357651039198697, 0.43276706790505337, 0.762280082457942, 0.0021060533511106927, 0.4453871940548014, 0.7215400323407826, 0.22876222127045265, 0.9452706955539223, 0.9014274576114836, 0.030589983033553536], [0.3720540750540117, 0.5818575333420827, 0.6220924605510895, 0.5047595772693255, 0.3999983925400336, 0.5321730415344806, 0.6299357962156714, 0.511391970210837, 0.30364347147725146, 0.31932405573870365, 0.43229321611564314, 0.6769374180942883, 0.3990510679047021, 0.40325777662128476, 0.3896777599155649, 0.4652298158886789, 0.6318576497217192, 0.691820124811953, 0.6257627120663197, 0.32086914122619686], [0.40286021765021013, 0.4270011739756141, 0.49921534257152206, 0.5622407067067895, 0.5230725538638955, 0.5280623002956754, 0.4958204125026381, 0.40240289038865107, 0.47965769821487747, 0.4358925172513355, 0.43060386351582125, 0.4122531568311964, 0.4956611003377554, 0.47281608602193803, 0.4320151166950179, 0.4686132393142139, 0.6484775201662885, 0.565518077962039, 0.4273280681005932, 0.3876936204532133], [0.3433906225861248, 0.3949721715832019, 0.4399902888226785, 0.5138801071955873, 0.6073599796274605, 0.4997065296041751, 0.3946455092535168, 0.47760209185072383, 0.46864951768116836, 0.5133336630624832, 0.42054981743796144, 0.37150179499785974, 0.46117043007879516, 0.48980110790000175, 0.5054447638477236, 0.5723962480914994, 0.4678690910308724, 0.47193822384264994, 0.4126814794110432, 0.3139743295100105], [0.3370592988119128, 0.3720733899981725, 0.42954324873265715, 0.5022498161796695, 0.497749298697651, 0.48596965785427376, 0.48467314307456694, 0.44789452628883786, 0.5042513103686735, 0.44943697328635906, 0.4489809876492549, 0.4567528831623682, 0.39453497984402813, 0.48913621415288233, 0.5861451009406021, 0.4966811986199002, 0.4519948558564002, 0.3706959559203571, 0.3738608369961841, 0.3277722579938233]]\n"
     ]
    }
   ],
   "source": [
    "import random\n",
    "\n",
    "random.seed(1)\n",
    "\n",
    "R = 1000\n",
    "# x = [r = random.random() for range(10)]\n",
    "\n",
    "x = []\n",
    "for i in range(R):\n",
    "    x.append(random.random())\n",
    "\n",
    "# Y = []\n",
    "# for i_neighbors in range(1,10):\n",
    "#     Y.append(moving_window_average(x, i_neighbors))\n",
    "\n",
    "Y = [moving_window_average(x, i_neighbors) for i_neighbors in range(1,10)]\n",
    "Y.insert(0, x)\n",
    "print(len(Y))"
   ]
  },
  {
   "cell_type": "code",
   "execution_count": 7,
   "metadata": {},
   "outputs": [
    {
     "name": "stdout",
     "output_type": "stream",
     "text": [
      "a after: [10, 20, 30, 40]\n"
     ]
    }
   ],
   "source": [
    "a = [20, 30, 40]\n",
    "a.insert(0, 10)\n",
    "print(\"a after:\", a)"
   ]
  },
  {
   "cell_type": "code",
   "execution_count": 10,
   "metadata": {},
   "outputs": [
    {
     "name": "stdout",
     "output_type": "stream",
     "text": [
      "[0.40286021765021013, 0.4270011739756141, 0.49921534257152206, 0.5622407067067895, 0.5230725538638955, 0.5280623002956754, 0.4958204125026381, 0.40240289038865107, 0.47965769821487747, 0.4358925172513355, 0.43060386351582125, 0.4122531568311964, 0.4956611003377554, 0.47281608602193803, 0.4320151166950179, 0.4686132393142139, 0.6484775201662885, 0.565518077962039, 0.4273280681005932, 0.3876936204532133]\n"
     ]
    }
   ],
   "source": [
    "ranges = []\n",
    "# maximum = \"\"\n",
    "max_value = 0\n",
    "\n",
    "maximum = max(Y)\n",
    "print(maximum)"
   ]
  },
  {
   "cell_type": "code",
   "execution_count": 26,
   "metadata": {},
   "outputs": [
    {
     "name": "stdout",
     "output_type": "stream",
     "text": [
      "[200, 300, 150]\n"
     ]
    }
   ],
   "source": [
    "nestled_list = [[200, 400, 300], [500, 600, 800, 700], [100, 175, 150, 250, 225]]\n",
    "maximum = []\n",
    "ranges = []\n",
    "\n",
    "for element in nestled_list:\n",
    "    r = max(element) - min(element)\n",
    "    # print(max(element), min(element), \"r:\", r)\n",
    "    ranges.append(r)\n",
    "    \n",
    "print(ranges)"
   ]
  },
  {
   "cell_type": "code",
   "execution_count": 27,
   "metadata": {},
   "outputs": [
    {
     "name": "stdout",
     "output_type": "stream",
     "text": [
      "[200, 300, 150]\n"
     ]
    }
   ],
   "source": [
    "nestled_list = [[200, 400, 300], [500, 600, 800, 700], [100, 175, 150, 250, 225]]\n",
    "\n",
    "ranges = [max(l_element) - min(l_element) for l_element in nestled_list]\n",
    "print(ranges)"
   ]
  },
  {
   "cell_type": "markdown",
   "metadata": {},
   "source": [
    "scope rules:\n",
    "L - local\n",
    "E - enclosing function\n",
    "G - global\n",
    "B - built-in"
   ]
  },
  {
   "cell_type": "code",
   "execution_count": 34,
   "metadata": {},
   "outputs": [
    {
     "name": "stdout",
     "output_type": "stream",
     "text": [
      "[10, 3, 5, 2, 7, 6, 4, 8]\n",
      "[3, 5, 2, 7, 6, 4, 8]\n"
     ]
    }
   ],
   "source": [
    "# classes and object-oriented programming\n",
    "class MyList(list): # list because it inherits the attributes of list in Python\n",
    "    # derived class (MyList) can redefine attributes and add its own new attributes\n",
    "    # the functions defined inside a class are called \"instance methods\"\n",
    "    # by convention the name of the class instance is called self and it is always passed as the first\n",
    "    # argument to the functions defined inside a class\n",
    "    def remove_min(self):\n",
    "        self.remove(min(self))\n",
    "    def remove_max(self):\n",
    "        self.remove(max(self))\n",
    "\n",
    "x = [10, 3, 5, 1, 2, 7, 6, 4, 8]\n",
    "y = MyList(x)\n",
    "\n",
    "y.remove_min()\n",
    "print(y)\n",
    "y.remove_max()\n",
    "print(y)"
   ]
  },
  {
   "cell_type": "code",
   "execution_count": 47,
   "metadata": {},
   "outputs": [
    {
     "name": "stdout",
     "output_type": "stream",
     "text": [
      "Sandra, 30\n",
      "Hello, Sandra\n",
      "\n",
      "Andriy, 30, Physicist\n",
      "Hello, Physicist Andriy\n"
     ]
    }
   ],
   "source": [
    "class Person:\n",
    "    def __init__(self, name, age):\n",
    "        self.name = name\n",
    "        self.age = age\n",
    "\n",
    "    def __repr__(self):\n",
    "        return self.name + \", \" + str(self.age)\n",
    "\n",
    "    def __str__(self):\n",
    "        return self.name + \", \" + str(self.age)\n",
    "\n",
    "    def get_name(self):\n",
    "        return self.name\n",
    "    \n",
    "    def get_age(self):\n",
    "        return self.age\n",
    "    \n",
    "    def greeting(self):\n",
    "        return \"Hello, \" + self.name\n",
    "\n",
    "class Employee(Person):\n",
    "    def __init__(self, name, age, occupation):\n",
    "        super().__init__(name, age)\n",
    "        self.occupation = occupation\n",
    "\n",
    "    def __repr__(self):\n",
    "        return self.name + \", \" + str(self.age) + \", \" + self.occupation\n",
    "\n",
    "    def __str__(self):\n",
    "        return self.name + \", \" + str(self.age) + \", \" + self.occupation\n",
    "        \n",
    "    def greeting(self):\n",
    "        return \"Hello, \" + self.occupation + \" \" + self.name\n",
    "    \n",
    "    def set_salary(self, salary):\n",
    "        self.salary = salary\n",
    "\n",
    "    def get_salary(self):\n",
    "        return self.salary\n",
    "\n",
    "person = Person(\"Sandra\", 30)\n",
    "print(person)\n",
    "print(person.greeting())\n",
    "print()\n",
    "employee = Employee(\"Andriy\", 30, \"Physicist\")\n",
    "print(employee)\n",
    "print(employee.greeting())"
   ]
  },
  {
   "cell_type": "code",
   "execution_count": 74,
   "metadata": {},
   "outputs": [
    {
     "name": "stdout",
     "output_type": "stream",
     "text": [
      "element at index 1 in x: 3\n",
      "element in x up to index 2: [1 2]\n",
      "z: [5 7 9]\n",
      "X: [[1 2 3]\n",
      " [4 5 6]]\n",
      "first column of X: [2 5]\n",
      "Y: [[ 2  4  6]\n",
      " [ 8 10 12]]\n",
      "first column of Y: [ 4 10]\n",
      "addition of first column of X and Y: [ 6 15]\n",
      "elements in first row of X: [4 5 6]\n",
      "addition of second row of X and Y: [[3 6 9]]\n",
      "addition of first row X and Y: [12 15 18]\n"
     ]
    },
    {
     "data": {
      "text/plain": [
       "array([ 8, 12])"
      ]
     },
     "execution_count": 74,
     "metadata": {},
     "output_type": "execute_result"
    }
   ],
   "source": [
    "import numpy as np\n",
    "x = np.array([1, 2, 3])\n",
    "y = np.array([4, 5, 6])\n",
    "X = np.array([[1, 2, 3], [4, 5, 6]])\n",
    "Y = np.array([[2, 4, 6], [8, 10, 12]])\n",
    "print(\"element at index 1 in x:\", x[2])\n",
    "print(\"element in x up to index 2:\", x[0:2])\n",
    "z = x + y\n",
    "print(\"z:\", z) # element wide additions of x and y\n",
    "print(\"X:\", X)\n",
    "print(\"first column of X:\", X[:, 1])\n",
    "print(\"Y:\", Y)\n",
    "print(\"first column of Y:\", Y[:, 1])\n",
    "print(\"addition of first column of X and Y:\", X[:, 1] + Y[:, 1])\n",
    "print(\"elements in first row of X:\", X[1,:]) # is the same as X[1]\n",
    "print(\"addition of second row of X and Y:\", X[:1] + Y[:1])\n",
    "print(\"addition of first row X and Y:\", X[1,:] + Y[1,:])\n",
    "np.array([2, 4]) + np.array([6, 8])"
   ]
  },
  {
   "cell_type": "code",
   "execution_count": 76,
   "metadata": {},
   "outputs": [
    {
     "ename": "ValueError",
     "evalue": "operands could not be broadcast together with shapes (2,) (3,) ",
     "output_type": "error",
     "traceback": [
      "\u001b[1;31m---------------------------------------------------------------------------\u001b[0m",
      "\u001b[1;31mValueError\u001b[0m                                Traceback (most recent call last)",
      "\u001b[1;32m<ipython-input-76-a66b3693ff28>\u001b[0m in \u001b[0;36m<module>\u001b[1;34m()\u001b[0m\n\u001b[0;32m      1\u001b[0m \u001b[0ma\u001b[0m \u001b[1;33m=\u001b[0m \u001b[0mnp\u001b[0m\u001b[1;33m.\u001b[0m\u001b[0marray\u001b[0m\u001b[1;33m(\u001b[0m\u001b[1;33m[\u001b[0m\u001b[1;36m1\u001b[0m\u001b[1;33m,\u001b[0m\u001b[1;36m2\u001b[0m\u001b[1;33m]\u001b[0m\u001b[1;33m)\u001b[0m\u001b[1;33m\u001b[0m\u001b[0m\n\u001b[0;32m      2\u001b[0m \u001b[0mb\u001b[0m \u001b[1;33m=\u001b[0m \u001b[0mnp\u001b[0m\u001b[1;33m.\u001b[0m\u001b[0marray\u001b[0m\u001b[1;33m(\u001b[0m\u001b[1;33m[\u001b[0m\u001b[1;36m3\u001b[0m\u001b[1;33m,\u001b[0m\u001b[1;36m4\u001b[0m\u001b[1;33m,\u001b[0m\u001b[1;36m5\u001b[0m\u001b[1;33m]\u001b[0m\u001b[1;33m)\u001b[0m\u001b[1;33m\u001b[0m\u001b[0m\n\u001b[1;32m----> 3\u001b[1;33m \u001b[0ma\u001b[0m \u001b[1;33m+\u001b[0m \u001b[0mb\u001b[0m\u001b[1;33m\u001b[0m\u001b[0m\n\u001b[0m",
      "\u001b[1;31mValueError\u001b[0m: operands could not be broadcast together with shapes (2,) (3,) "
     ]
    }
   ],
   "source": [
    "a = np.array([1,2]) \n",
    "b = np.array([3,4,5]) \n",
    "a + b"
   ]
  },
  {
   "cell_type": "code",
   "execution_count": 86,
   "metadata": {},
   "outputs": [
    {
     "name": "stdout",
     "output_type": "stream",
     "text": [
      "z1: [1 3 5 7 9]\n",
      "z2: [ 2  4  6  8 10]\n",
      "z1 indexed using list: [1 5 7]\n",
      "z1 indexed using numpy array: [1 5 7]\n"
     ]
    }
   ],
   "source": [
    "z1 = np.array([1, 3, 5, 7, 9])\n",
    "z2 = z1 + 1\n",
    "print(\"z1:\", z1)\n",
    "print(\"z2:\", z2)\n",
    "ind = [0, 2, 3]\n",
    "print(\"z1 indexed using list:\", z1[ind])\n",
    "ind = np.array([0, 2, 3])\n",
    "print(\"z1 indexed using numpy array:\", z1[ind])"
   ]
  },
  {
   "cell_type": "code",
   "execution_count": 96,
   "metadata": {},
   "outputs": [
    {
     "name": "stdout",
     "output_type": "stream",
     "text": [
      "[False False False  True  True]\n",
      "logical vector for z1: [7 9]\n",
      "logical vector for z2: [ 8 10]\n",
      "type of ind: [False False False  True  True]\n",
      "z1: [7 9]\n",
      "z2: [ 8 10]\n"
     ]
    }
   ],
   "source": [
    "# Boolean arrays also called logical arrays\n",
    "z1 = np.array([1, 3, 5, 7, 9])\n",
    "print(z1 > 6)\n",
    "# we can use these arrays to index a Boolean vector\n",
    "# Python returns True only for those elements for which corresponding value is True\n",
    "\n",
    "# using the logical vector to access elements of z1\n",
    "print(\"logical vector for z1:\", z1[z1 > 6])\n",
    "print(\"logical vector for z2:\", z2[z2 > 6])\n",
    "ind = z1 > 6\n",
    "print(\"type of ind:\", ind)\n",
    "\n",
    "# using ind\n",
    "print(\"z1:\", z1[ind])\n",
    "print(\"z2:\", z2[ind])"
   ]
  },
  {
   "cell_type": "code",
   "execution_count": 102,
   "metadata": {},
   "outputs": [
    {
     "name": "stdout",
     "output_type": "stream",
     "text": [
      "W: [1 3 5]\n",
      "w after: [3 3 5]\n",
      "z1 after w: [3 3 5 7 9]\n",
      "\n",
      "using indexing:\n",
      "[1 3 5]\n",
      "w after: [3 3 5]\n",
      "z1 after w modification: [1 3 5 7 9]\n"
     ]
    }
   ],
   "source": [
    "# by slicing we get a view of the object\n",
    "# if you modify it, the original array will also be modified\n",
    "z1 = np.array([1, 3, 5, 7, 9])\n",
    "w = z1[0:3]\n",
    "print(\"W:\", w)\n",
    "w[0] = 3\n",
    "print(\"w after:\", w)\n",
    "print(\"z1 after w:\", z1)\n",
    "print()\n",
    "\n",
    "# when accessing using indexing what is returned to you is a copy of the original data\n",
    "z1 = np.array([1, 3, 5, 7, 9])\n",
    "ind = np.array([0, 1, 2])\n",
    "w = z1[ind]\n",
    "print(\"using indexing:\")\n",
    "print(w)\n",
    "w[0] = 3\n",
    "print(\"w after:\", w)\n",
    "print(\"z1 after w modification:\", z1)"
   ]
  },
  {
   "cell_type": "code",
   "execution_count": 104,
   "metadata": {},
   "outputs": [
    {
     "data": {
      "text/plain": [
       "False"
      ]
     },
     "execution_count": 104,
     "metadata": {},
     "output_type": "execute_result"
    }
   ],
   "source": [
    "a = np.array([1,2]) \n",
    "b = np.array([3,4,5]) \n",
    "b[a]\n",
    "c = b[1:] \n",
    "b[a] is c "
   ]
  },
  {
   "cell_type": "code",
   "execution_count": 117,
   "metadata": {},
   "outputs": [
    {
     "name": "stdout",
     "output_type": "stream",
     "text": [
      "linspace: [   0.           11.11111111   22.22222222   33.33333333   44.44444444\n",
      "   55.55555556   66.66666667   77.77777778   88.88888889  100.        ]\n",
      "logspace: [  10.           12.91549665   16.68100537   21.5443469    27.82559402\n",
      "   35.93813664   46.41588834   59.94842503   77.42636827  100.        ]\n",
      "logspace with 250 and 500: [ 250.          270.01493472  291.63225989  314.98026247  340.19750004\n",
      "  367.43362307  396.85026299  428.62199143  462.93735614  500.        ]\n",
      "\n",
      "shape: (2, 3)\n",
      "size: 6\n"
     ]
    }
   ],
   "source": [
    "print(\"linspace:\", np.linspace(0, 100, 10))\n",
    "# with logspace the first argument is the logarhythm of the starting point\n",
    "print(\"logspace:\", np.logspace(1, 2, 10))\n",
    "print(\"logspace with 250 and 500:\", np.logspace(np.log10(250), np.log10(500), 10))\n",
    "print()\n",
    "x = np.array([[1, 2, 3], [4, 5, 6]])\n",
    "print(\"shape:\", x.shape)\n",
    "print(\"size:\", x.size)"
   ]
  },
  {
   "cell_type": "code",
   "execution_count": 120,
   "metadata": {},
   "outputs": [
    {
     "name": "stdout",
     "output_type": "stream",
     "text": [
      "[ 0.87559504  0.80240029  0.0638322   0.15003677  0.5906866   0.68457073\n",
      "  0.05598316  0.92563602  0.63141637  0.71800259]\n",
      "any: True\n",
      "all: False\n"
     ]
    }
   ],
   "source": [
    "x = np.random.random(10)\n",
    "print(x)\n",
    "print(\"any:\", np.any(x > 0.9))\n",
    "print(\"all:\", np.all(x >= 0.1))"
   ]
  },
  {
   "cell_type": "code",
   "execution_count": 5,
   "metadata": {},
   "outputs": [
    {
     "data": {
      "image/png": "[encoded data removed]",
      "text/plain": [
       "<matplotlib.figure.Figure at 0x1e9f572af28>"
      ]
     },
     "metadata": {},
     "output_type": "display_data"
    }
   ],
   "source": [
    "import matplotlib.pyplot as plt\n",
    "plt.plot([0, 1, 4, 9, 16])\n",
    "plt.show()"
   ]
  },
  {
   "cell_type": "code",
   "execution_count": 6,
   "metadata": {},
   "outputs": [
    {
     "data": {
      "image/png": "[encoded data removed]",
      "text/plain": [
       "<matplotlib.figure.Figure at 0x1e9f5291cc0>"
      ]
     },
     "metadata": {},
     "output_type": "display_data"
    }
   ],
   "source": [
    "import numpy as np\n",
    "x = np.linspace(0, 10, 20)\n",
    "y = x**2\n",
    "plt.plot(x,y)\n",
    "plt.show()"
   ]
  },
  {
   "cell_type": "code",
   "execution_count": 13,
   "metadata": {},
   "outputs": [
    {
     "data": {
      "image/png": "[encoded data removed]",
      "text/plain": [
       "<matplotlib.figure.Figure at 0x1e9f5b3ec88>"
      ]
     },
     "metadata": {},
     "output_type": "display_data"
    }
   ],
   "source": [
    "x = np.linspace(0, 10, 20)\n",
    "y1 = x**2\n",
    "y2 = x**1.5\n",
    "plt.plot(x, y1, \"bo-\", linewidth=2, markersize=4)\n",
    "# plt.show()\n",
    "plt.plot(x, y2, \"gs-\", linewidth=2, markersize=12)\n",
    "plt.show()"
   ]
  },
  {
   "cell_type": "code",
   "execution_count": 14,
   "metadata": {},
   "outputs": [
    {
     "data": {
      "image/png": "[encoded data removed]",
      "text/plain": [
       "<matplotlib.figure.Figure at 0x1e9f596cef0>"
      ]
     },
     "metadata": {},
     "output_type": "display_data"
    }
   ],
   "source": [
    "plt.plot([0,1,2],[0,1,4],\"rd-\")\n",
    "plt.show()"
   ]
  },
  {
   "cell_type": "code",
   "execution_count": 3,
   "metadata": {},
   "outputs": [
    {
     "data": {
      "image/png": "[encoded data removed]",
      "text/plain": [
       "<matplotlib.figure.Figure at 0x201cdefc438>"
      ]
     },
     "metadata": {},
     "output_type": "display_data"
    }
   ],
   "source": [
    "import numpy as np\n",
    "import matplotlib.pyplot as plt\n",
    "x = np.linspace(0, 10, 20)\n",
    "y1 = x**2\n",
    "y2 = x**1.5\n",
    "plt.plot(x, y1, \"bo-\", linewidth=2, markersize=4, label=\"First\")\n",
    "plt.plot(x, y2, \"gs-\", linewidth=2, markersize=12, label=\"Second\")\n",
    "plt.xlabel(\"$X$\")\n",
    "plt.ylabel(\"$Y$\")\n",
    "# plt.axis([xmin, xmax, ymin, ymax])\n",
    "plt.axis([-0.5, 10.5, -5, 105])\n",
    "plt.legend(loc=\"upper left\")\n",
    "plt.show()\n",
    "plt.savefig(\"myplot.pdf\")"
   ]
  },
  {
   "cell_type": "code",
   "execution_count": 4,
   "metadata": {},
   "outputs": [
    {
     "data": {
      "image/png": "[encoded data removed]",
      "text/plain": [
       "<matplotlib.figure.Figure at 0x201cb2cf908>"
      ]
     },
     "metadata": {},
     "output_type": "display_data"
    }
   ],
   "source": [
    "x = [0.03, 0.06, 0.093, 0.14, 0.18, 0.28, 0.46, 0.55, 0.74, 1.00]\n",
    "y = [250000, 150000, 100000, 75000, 50000, 37000, 25000, 20000, 15000, 10000]\n",
    "plt.plot(x, y)\n",
    "plt.xlabel(\"Rf\")\n",
    "plt.ylabel(\"MW\")\n",
    "plt.show()"
   ]
  },
  {
   "cell_type": "code",
   "execution_count": 6,
   "metadata": {},
   "outputs": [
    {
     "data": {
      "image/png": "[encoded data removed]",
      "text/plain": [
       "<matplotlib.figure.Figure at 0x201ce414f28>"
      ]
     },
     "metadata": {},
     "output_type": "display_data"
    }
   ],
   "source": [
    "x = np.logspace(-1, 1, 40)\n",
    "y1 = x**2\n",
    "y2 = x**1.5\n",
    "plt.loglog(x, y1, \"bo-\", linewidth=2, markersize=4, label=\"First\")\n",
    "plt.loglog(x, y2, \"gs-\", linewidth=2, markersize=12, label=\"Second\")\n",
    "plt.xlabel(\"$X$\")\n",
    "plt.ylabel(\"$Y$\")\n",
    "# plt.axis([xmin, xmax, ymin, ymax])\n",
    "plt.axis([-0.5, 10.5, -5, 105])\n",
    "plt.legend(loc=\"upper left\")\n",
    "plt.show()"
   ]
  },
  {
   "cell_type": "code",
   "execution_count": 16,
   "metadata": {},
   "outputs": [
    {
     "data": {
      "image/png": "[encoded data removed]",
      "text/plain": [
       "<matplotlib.figure.Figure at 0x201ce56e550>"
      ]
     },
     "metadata": {},
     "output_type": "display_data"
    },
    {
     "data": {
      "image/png": "[encoded data removed]",
      "text/plain": [
       "<matplotlib.figure.Figure at 0x201cf78dda0>"
      ]
     },
     "metadata": {},
     "output_type": "display_data"
    }
   ],
   "source": [
    "import matplotlib.pyplot as plt\n",
    "import numpy as np\n",
    "x = np.random.normal(size=1000)\n",
    "plt.hist(x)\n",
    "plt.show()\n",
    "plt.hist(x, normed = True, bins = np.linspace(-5, 5, 20))\n",
    "plt.show()"
   ]
  },
  {
   "cell_type": "code",
   "execution_count": 27,
   "metadata": {},
   "outputs": [
    {
     "data": {
      "image/png": "[encoded data removed]",
      "text/plain": [
       "<matplotlib.figure.Figure at 0x201cf6d38d0>"
      ]
     },
     "metadata": {},
     "output_type": "display_data"
    },
    {
     "data": {
      "image/png": "[encoded data removed]",
      "text/plain": [
       "<matplotlib.figure.Figure at 0x201cf715048>"
      ]
     },
     "metadata": {},
     "output_type": "display_data"
    }
   ],
   "source": [
    "x = np.random.gamma(2, 3, 100000)\n",
    "plt.hist(x, bins = 30, cumulative = True, normed = True, histtype = \"step\")\n",
    "plt.figure()\n",
    "plt.subplot(221)\n",
    "plt.hist(x, bins = 30)\n",
    "plt.subplot(222)\n",
    "plt.hist(x, bins = 30, normed = True)\n",
    "plt.subplot(223)\n",
    "plt.hist(x, bins = 30, cumulative = 30)\n",
    "plt.subplot(224)\n",
    "plt.hist(x, bins = 30, normed = True, cumulative = True, histtype = \"step\")\n",
    "plt.show()"
   ]
  },
  {
   "cell_type": "code",
   "execution_count": 36,
   "metadata": {},
   "outputs": [
    {
     "data": {
      "text/plain": [
       "'T'"
      ]
     },
     "execution_count": 36,
     "metadata": {},
     "output_type": "execute_result"
    }
   ],
   "source": [
    "import random\n",
    "random.choice([\"H\", \"T\"])"
   ]
  },
  {
   "cell_type": "code",
   "execution_count": 49,
   "metadata": {},
   "outputs": [
    {
     "data": {
      "text/plain": [
       "1"
      ]
     },
     "execution_count": 49,
     "metadata": {},
     "output_type": "execute_result"
    }
   ],
   "source": [
    "random.choice([0, 1])"
   ]
  },
  {
   "cell_type": "code",
   "execution_count": 57,
   "metadata": {},
   "outputs": [
    {
     "data": {
      "text/plain": [
       "4"
      ]
     },
     "execution_count": 57,
     "metadata": {},
     "output_type": "execute_result"
    }
   ],
   "source": [
    "random.choice([1,2,3,4,5,6])\n",
    "random.choice(range(1,7))"
   ]
  },
  {
   "cell_type": "code",
   "execution_count": 8,
   "metadata": {},
   "outputs": [
    {
     "data": {
      "text/plain": [
       "3"
      ]
     },
     "execution_count": 8,
     "metadata": {},
     "output_type": "execute_result"
    }
   ],
   "source": [
    "import random\n",
    "random.choice(random.choice([range(1,7), range(1,9), range(1,11)]))"
   ]
  },
  {
   "cell_type": "code",
   "execution_count": 20,
   "metadata": {},
   "outputs": [
    {
     "data": {
      "text/plain": [
       "[6, 3, 9, 5, 7, 4, 8, 1, 2, 0]"
      ]
     },
     "execution_count": 20,
     "metadata": {},
     "output_type": "execute_result"
    }
   ],
   "source": [
    "# sum(random.sample(range(10),10))\n",
    "random.sample(range(10),10)"
   ]
  },
  {
   "cell_type": "code",
   "execution_count": 28,
   "metadata": {},
   "outputs": [
    {
     "data": {
      "image/png": "[encoded data removed]",
      "text/plain": [
       "<matplotlib.figure.Figure at 0x1ce47402320>"
      ]
     },
     "metadata": {},
     "output_type": "display_data"
    }
   ],
   "source": [
    "import matplotlib.pyplot as plt\n",
    "import numpy as np\n",
    "\n",
    "rolls = []\n",
    "for k in range(10000000):\n",
    "    rolls.append(random.choice([1, 2, 3, 4, 5, 6]))\n",
    "\n",
    "plt.hist(rolls, bins = np.linspace(0.5, 6.5, 7))\n",
    "plt.show()"
   ]
  },
  {
   "cell_type": "code",
   "execution_count": 8,
   "metadata": {},
   "outputs": [
    {
     "data": {
      "image/png": "[encoded data removed]",
      "text/plain": [
       "<matplotlib.figure.Figure at 0x221001b4cc0>"
      ]
     },
     "metadata": {},
     "output_type": "display_data"
    }
   ],
   "source": [
    "import random\n",
    "import matplotlib.pyplot as plt\n",
    "ys = []\n",
    "\n",
    "for rep in range(1000000):\n",
    "    y = 0\n",
    "    for k in range(10):\n",
    "        x = random.choice([1,2,3,4,5,6])\n",
    "        y += x\n",
    "    ys.append(y)\n",
    "plt.hist(ys)\n",
    "plt.show()"
   ]
  },
  {
   "cell_type": "code",
   "execution_count": 14,
   "metadata": {},
   "outputs": [
    {
     "data": {
      "text/plain": [
       "array([ 0.29317796,  0.26572274,  0.51699102,  0.87237005,  0.87732026])"
      ]
     },
     "execution_count": 14,
     "metadata": {},
     "output_type": "execute_result"
    }
   ],
   "source": [
    "import numpy as np\n",
    "np.random.random(5)"
   ]
  },
  {
   "cell_type": "code",
   "execution_count": 15,
   "metadata": {},
   "outputs": [
    {
     "data": {
      "text/plain": [
       "array([[ 0.46524517,  0.26209892,  0.89502938],\n",
       "       [ 0.15396572,  0.72398531,  0.09204009],\n",
       "       [ 0.28826903,  0.47172314,  0.58569544],\n",
       "       [ 0.61916055,  0.30400165,  0.25700376],\n",
       "       [ 0.98103282,  0.08044378,  0.21034196]])"
      ]
     },
     "execution_count": 15,
     "metadata": {},
     "output_type": "execute_result"
    }
   ],
   "source": [
    "np.random.random((5,3))"
   ]
  },
  {
   "cell_type": "code",
   "execution_count": 16,
   "metadata": {},
   "outputs": [
    {
     "data": {
      "text/plain": [
       "0.04861401196705004"
      ]
     },
     "execution_count": 16,
     "metadata": {},
     "output_type": "execute_result"
    }
   ],
   "source": [
    "np.random.normal(0,1) # mean, standard deviation"
   ]
  },
  {
   "cell_type": "code",
   "execution_count": 17,
   "metadata": {},
   "outputs": [
    {
     "data": {
      "text/plain": [
       "array([-0.16451559,  0.47492144,  0.50733698,  0.07663516,  0.44622399])"
      ]
     },
     "execution_count": 17,
     "metadata": {},
     "output_type": "execute_result"
    }
   ],
   "source": [
    "np.random.normal(0, 1, 5)"
   ]
  },
  {
   "cell_type": "code",
   "execution_count": 18,
   "metadata": {},
   "outputs": [
    {
     "data": {
      "text/plain": [
       "array([[-0.01334476,  1.03119892,  0.87654731, -1.90810616, -1.1474672 ],\n",
       "       [ 1.02365043, -0.67947076, -0.63031148, -0.20583899,  1.19579519]])"
      ]
     },
     "execution_count": 18,
     "metadata": {},
     "output_type": "execute_result"
    }
   ],
   "source": [
    "np.random.normal(0, 1, (2,5))"
   ]
  },
  {
   "cell_type": "code",
   "execution_count": 19,
   "metadata": {},
   "outputs": [
    {
     "data": {
      "text/plain": [
       "95"
      ]
     },
     "execution_count": 19,
     "metadata": {},
     "output_type": "execute_result"
    }
   ],
   "source": [
    "X = np.random.randint(1, 7, (10, 3))\n",
    "np.sum(X)"
   ]
  },
  {
   "cell_type": "code",
   "execution_count": 20,
   "metadata": {},
   "outputs": [
    {
     "data": {
      "text/plain": [
       "array([38, 24, 33])"
      ]
     },
     "execution_count": 20,
     "metadata": {},
     "output_type": "execute_result"
    }
   ],
   "source": [
    "np.sum(X, axis=0) # summing over all the rows"
   ]
  },
  {
   "cell_type": "code",
   "execution_count": 21,
   "metadata": {},
   "outputs": [
    {
     "data": {
      "text/plain": [
       "array([ 7, 10,  8,  9,  8,  9, 12,  7, 16,  9])"
      ]
     },
     "execution_count": 21,
     "metadata": {},
     "output_type": "execute_result"
    }
   ],
   "source": [
    "np.sum(X, axis=1) # summing over all the columns"
   ]
  },
  {
   "cell_type": "code",
   "execution_count": 2,
   "metadata": {},
   "outputs": [
    {
     "data": {
      "image/png": "[encoded data removed]",
      "text/plain": [
       "<matplotlib.figure.Figure at 0x1f31a77d5c0>"
      ]
     },
     "metadata": {},
     "output_type": "display_data"
    }
   ],
   "source": [
    "import numpy as np\n",
    "import matplotlib.pyplot as plt\n",
    "X = np.random.randint(1, 7, (1000000, 10))\n",
    "Y = np.sum(X, axis=1)\n",
    "plt.hist(Y)\n",
    "plt.show()"
   ]
  },
  {
   "cell_type": "code",
   "execution_count": 8,
   "metadata": {},
   "outputs": [
    {
     "data": {
      "text/plain": [
       "6.929326642683497e-05"
      ]
     },
     "execution_count": 8,
     "metadata": {},
     "output_type": "execute_result"
    }
   ],
   "source": [
    "import time\n",
    "start_time = time.clock()\n",
    "end_time = time.clock()\n",
    "end_time - start_time"
   ]
  },
  {
   "cell_type": "code",
   "execution_count": 11,
   "metadata": {},
   "outputs": [
    {
     "name": "stdout",
     "output_type": "stream",
     "text": [
      "54.13689141424351\n"
     ]
    }
   ],
   "source": [
    "import random\n",
    "start_time = time.clock()\n",
    "\n",
    "ys = []\n",
    "for rep in range(1000000):\n",
    "    y = 0\n",
    "    for k in range(10):\n",
    "        x = random.choice([1,2,3,4,5,6])\n",
    "        y += x\n",
    "    ys.append(y)\n",
    "\n",
    "end_time = time.clock()\n",
    "print(end_time - start_time)"
   ]
  },
  {
   "cell_type": "code",
   "execution_count": 13,
   "metadata": {},
   "outputs": [
    {
     "name": "stdout",
     "output_type": "stream",
     "text": [
      "0.4003546788674157\n"
     ]
    }
   ],
   "source": [
    "start_time = time.clock()\n",
    "X = np.random.randint(1, 7, (1000000, 10))\n",
    "Y = np.sum(X, axis=1)\n",
    "end_time = time.clock()\n",
    "print(end_time - start_time)"
   ]
  },
  {
   "cell_type": "code",
   "execution_count": 14,
   "metadata": {},
   "outputs": [
    {
     "data": {
      "text/plain": [
       "135.2223272808855"
      ]
     },
     "execution_count": 14,
     "metadata": {},
     "output_type": "execute_result"
    }
   ],
   "source": [
    "54.13689141424351 / 0.4003546788674157"
   ]
  },
  {
   "cell_type": "code",
   "execution_count": 17,
   "metadata": {},
   "outputs": [
    {
     "data": {
      "image/png": "[encoded data removed]",
      "text/plain": [
       "<matplotlib.figure.Figure at 0x1f31c9b6940>"
      ]
     },
     "metadata": {},
     "output_type": "display_data"
    }
   ],
   "source": [
    "delta_x = np.random.normal(0,1,(2,5)) # rows, columns\n",
    "plt.plot(delta_x[0], delta_x[1], \"go\")\n",
    "plt.show()"
   ]
  },
  {
   "cell_type": "code",
   "execution_count": 20,
   "metadata": {},
   "outputs": [
    {
     "name": "stdout",
     "output_type": "stream",
     "text": [
      "delta_x: [[ 0.93705249  0.96905979 -0.91516973  1.19740059 -0.99379217]\n",
      " [-1.260957   -0.53105337 -0.60666816  1.35522044  2.7289681 ]]\n",
      "[[ 0.93705249  1.90611227  0.99094254  2.18834313  1.19455096]\n",
      " [-1.260957   -1.79201037 -2.39867852 -1.04345808  1.68551002]]\n"
     ]
    }
   ],
   "source": [
    "print(\"delta_x:\", delta_x)\n",
    "xsum = np.cumsum(delta_x, axis = 1)\n",
    "print(xsum)"
   ]
  },
  {
   "cell_type": "code",
   "execution_count": 30,
   "metadata": {},
   "outputs": [
    {
     "name": "stdout",
     "output_type": "stream",
     "text": [
      "[[-0.53188295  0.18434041  0.4820809   0.5253649   1.4180756 ]\n",
      " [ 1.862176    2.85716771  3.41885961  2.82710711  4.27971328]]\n"
     ]
    },
    {
     "data": {
      "image/png": "[encoded data removed]",
      "text/plain": [
       "<matplotlib.figure.Figure at 0x1f31c72cef0>"
      ]
     },
     "metadata": {},
     "output_type": "display_data"
    }
   ],
   "source": [
    "X0 = np.array([[0], [0]])\n",
    "delta_x = np.random.normal(0,1,(2,5))\n",
    "Xsum = np.cumsum(delta_x, axis = 1)\n",
    "print(Xsum)\n",
    "X = np.concatenate((X0, Xsum), axis = 1)\n",
    "plt.plot(X[0], X[1], \"ro-\")\n",
    "plt.show()\n",
    "plt.savefig(\"rw2.pdf\")"
   ]
  },
  {
   "cell_type": "code",
   "execution_count": 32,
   "metadata": {},
   "outputs": [
    {
     "data": {
      "image/png": "[encoded data removed]",
      "text/plain": [
       "<matplotlib.figure.Figure at 0x1f31c776d68>"
      ]
     },
     "metadata": {},
     "output_type": "display_data"
    }
   ],
   "source": [
    "X0 = np.array([[0], [0]])\n",
    "delta_x = np.random.normal(0,1,(2,100))\n",
    "Xsum = np.cumsum(delta_x, axis = 1)\n",
    "#print(Xsum)\n",
    "X = np.concatenate((X0, Xsum), axis = 1)\n",
    "plt.plot(X[0], X[1], \"ro-\")\n",
    "plt.show()\n",
    "plt.savefig(\"rw3.pdf\")"
   ]
  },
  {
   "cell_type": "code",
   "execution_count": 36,
   "metadata": {},
   "outputs": [
    {
     "name": "stdout",
     "output_type": "stream",
     "text": [
      "[  10   20   30  100  200  300 1000 2000 3000]\n"
     ]
    }
   ],
   "source": [
    "a = np.concatenate(([10, 20, 30], [100, 200, 300], [1000, 2000, 3000]), axis=0)\n",
    "print(a)"
   ]
  },
  {
   "cell_type": "code",
   "execution_count": 42,
   "metadata": {},
   "outputs": [
    {
     "name": "stdout",
     "output_type": "stream",
     "text": [
      "[[ 0.  0.  0.]\n",
      " [ 0.  0.  0.]\n",
      " [ 0.  0.  0.]]\n"
     ]
    }
   ],
   "source": [
    "# np.zeros((3,3))\n",
    "\n",
    "def create_board():\n",
    "    array = np.zeros((3,3))\n",
    "    return array\n",
    "\n",
    "board = create_board()\n",
    "print(board)"
   ]
  },
  {
   "cell_type": "code",
   "execution_count": 48,
   "metadata": {},
   "outputs": [
    {
     "name": "stdout",
     "output_type": "stream",
     "text": [
      "[[ 0.  0.  0.]\n",
      " [ 0.  0.  0.]\n",
      " [ 0.  0.  0.]]\n",
      "[[ 1.  0.  0.]\n",
      " [ 0.  0.  0.]\n",
      " [ 0.  0.  0.]]\n",
      "[[ 1.  0.  0.]\n",
      " [ 0.  0.  0.]\n",
      " [ 0.  1.  0.]]\n",
      "This space is already taken\n",
      "[[ 1.  0.  0.]\n",
      " [ 0.  0.  0.]\n",
      " [ 0.  1.  0.]]\n"
     ]
    }
   ],
   "source": [
    "def place(board, player, position):\n",
    "    if board[position[0], position[1]] == 0:\n",
    "        board[position[0], position[1]] = player\n",
    "    else:\n",
    "        print(\"This space is already taken\")\n",
    "\n",
    "# create board\n",
    "board = create_board()\n",
    "print(board)\n",
    "\n",
    "position = (0,0)\n",
    "place(board, 1, position)\n",
    "print(board)\n",
    "\n",
    "position = (2,1)\n",
    "place(board, 1, position)\n",
    "print(board)\n",
    "\n",
    "position = (0,0)\n",
    "place(board, 1, position)\n",
    "print(board)\n"
   ]
  },
  {
   "cell_type": "code",
   "execution_count": 51,
   "metadata": {},
   "outputs": [
    {
     "name": "stdout",
     "output_type": "stream",
     "text": [
      "[[ 1.  0.  0.]\n",
      " [ 0.  0.  0.]\n",
      " [ 0.  0.  0.]]\n"
     ]
    }
   ],
   "source": [
    "def create_board():\n",
    "    array = np.zeros((3,3))\n",
    "    return array\n",
    "\n",
    "def place(board, player, position):\n",
    "    if board[position[0], position[1]] == 0:\n",
    "        board[position[0], position[1]] = player\n",
    "    else:\n",
    "        print(\"This space is already taken\")\n",
    "\n",
    "# create board\n",
    "board = create_board()\n",
    "# print(board)\n",
    "\n",
    "position = (0,0)\n",
    "player = 1\n",
    "place(board, player, position)\n",
    "print(board)"
   ]
  },
  {
   "cell_type": "code",
   "execution_count": 55,
   "metadata": {},
   "outputs": [
    {
     "name": "stdout",
     "output_type": "stream",
     "text": [
      "[[ 1.  0.  0.]\n",
      " [ 0.  0.  0.]\n",
      " [ 0.  0.  0.]]\n",
      "[[ 1.  0.  0.]\n",
      " [ 0.  0.  0.]\n",
      " [ 0.  2.  0.]]\n",
      "[[ 1.  0.  0.]\n",
      " [ 0.  1.  0.]\n",
      " [ 0.  2.  0.]]\n",
      "[(0, 1), (0, 2), (1, 0), (1, 2), (2, 0), (2, 2)]\n"
     ]
    }
   ],
   "source": [
    "def create_board():\n",
    "    array = np.zeros((3,3))\n",
    "    return array\n",
    "\n",
    "def place(board, player, position):\n",
    "    if board[position[0], position[1]] == 0: # position because it's one of the parameters\n",
    "        board[position[0], position[1]] = player\n",
    "    else:\n",
    "        print(\"This space is already taken\")\n",
    "\n",
    "def possibilities(board):\n",
    "    list_tuples = []\n",
    "    for row in range(3):\n",
    "        for col in range(3):\n",
    "            if board[row, col] == 0:\n",
    "                tup = (row, col)\n",
    "                list_tuples.append(tup)\n",
    "    return list_tuples\n",
    "\n",
    "# create board\n",
    "board = create_board()\n",
    "\n",
    "position = (0,0)\n",
    "player = 1\n",
    "place(board, player, position)\n",
    "# print(board)\n",
    "\n",
    "position = (2,1)\n",
    "player = 2\n",
    "place(board, player, position)\n",
    "# print(board)\n",
    "\n",
    "position = (1,1)\n",
    "player = 1\n",
    "place(board, player, position)\n",
    "\n",
    "print(board)\n",
    "\n",
    "poss = possibilities(board)\n",
    "print(poss)"
   ]
  },
  {
   "cell_type": "code",
   "execution_count": null,
   "metadata": {
    "collapsed": true
   },
   "outputs": [],
   "source": [
    "# submitted solution\n",
    "\n",
    "def possibilities(board):\n",
    "    list_tuples = []\n",
    "    for row in range(3):\n",
    "        for col in range(3):\n",
    "            if board[row, col] == 0:\n",
    "                tup = (row, col)\n",
    "                list_tuples.append(tup)\n",
    "    return list_tuples\n",
    "\n",
    "poss = possibilities(board)"
   ]
  },
  {
   "cell_type": "code",
   "execution_count": 57,
   "metadata": {},
   "outputs": [
    {
     "name": "stdout",
     "output_type": "stream",
     "text": [
      "(0, 1)\n"
     ]
    }
   ],
   "source": [
    "poss = [(0, 1), (0, 2), (1, 0), (1, 2), (2, 0), (2, 2)]\n",
    "print(random.choice(poss))"
   ]
  },
  {
   "cell_type": "code",
   "execution_count": 68,
   "metadata": {},
   "outputs": [
    {
     "name": "stdout",
     "output_type": "stream",
     "text": [
      "[[ 1.  0.  0.]\n",
      " [ 0.  0.  0.]\n",
      " [ 0.  2.  0.]]\n"
     ]
    }
   ],
   "source": [
    "import random\n",
    "import numpy as np\n",
    "\n",
    "def create_board():\n",
    "    array = np.zeros((3,3))\n",
    "    return array\n",
    "\n",
    "def place(board, player, position):\n",
    "    if board[position[0], position[1]] == 0: # position because it's one of the parameters\n",
    "        board[position[0], position[1]] = player\n",
    "    else:\n",
    "        print(\"This space is already taken\")\n",
    "\n",
    "def possibilities(board):\n",
    "    list_tuples = []\n",
    "    for row in range(3):\n",
    "        for col in range(3):\n",
    "            if board[row, col] == 0:\n",
    "                tup = (row, col)\n",
    "                list_tuples.append(tup)\n",
    "    return list_tuples\n",
    "\n",
    "def random_place(board, player):\n",
    "    poss = possibilities(board) # poss is list of tuples\n",
    "    placement = random.choice(poss) # select random tuple from poss\n",
    "    place(board, player, placement)\n",
    "\n",
    "# --- main ---\n",
    "\n",
    "board = create_board()\n",
    "\n",
    "# make the first move\n",
    "player = 1\n",
    "position = (0, 0)\n",
    "place(board, player, position)\n",
    "\n",
    "player = 2\n",
    "random_place(board, player)\n",
    "print(board)"
   ]
  },
  {
   "cell_type": "code",
   "execution_count": 70,
   "metadata": {},
   "outputs": [
    {
     "name": "stdout",
     "output_type": "stream",
     "text": [
      "[[ 0.  0.  0.]\n",
      " [ 0.  0.  0.]\n",
      " [ 0.  0.  0.]]\n",
      "[[ 1.  0.  0.]\n",
      " [ 0.  0.  1.]\n",
      " [ 2.  0.  0.]]\n"
     ]
    }
   ],
   "source": [
    "board = create_board()\n",
    "print(board)\n",
    "player = 2 # initialize player 2 to so that player 1 makes the first move\n",
    "for move in range(3):\n",
    "    # swap player number\n",
    "    if player == 1:\n",
    "        player = 2\n",
    "    else:\n",
    "        player = 1\n",
    "    random_place(board, player)\n",
    "\n",
    "print(board)"
   ]
  },
  {
   "cell_type": "code",
   "execution_count": 72,
   "metadata": {},
   "outputs": [
    {
     "name": "stdout",
     "output_type": "stream",
     "text": [
      "[[ 0.  0.  0.]\n",
      " [ 0.  0.  0.]\n",
      " [ 0.  0.  0.]]\n",
      "[[ 1.  0.  2.]\n",
      " [ 2.  1.  0.]\n",
      " [ 1.  2.  0.]]\n"
     ]
    }
   ],
   "source": [
    "board = create_board()\n",
    "print(board)\n",
    "\n",
    "for i in range(3):\n",
    "    random_place(board, 1)\n",
    "    random_place(board, 2)\n",
    "\n",
    "print(board)"
   ]
  },
  {
   "cell_type": "code",
   "execution_count": 77,
   "metadata": {},
   "outputs": [
    {
     "data": {
      "text/plain": [
       "False"
      ]
     },
     "execution_count": 77,
     "metadata": {},
     "output_type": "execute_result"
    }
   ],
   "source": [
    "def row_win(board, player):\n",
    "    # check row 0\n",
    "    if board[0, 0] == player and board[0, 1] == player and board[0, 2] == player:\n",
    "        return True\n",
    "    # check row 1\n",
    "    if board[1, 0] == player and board[1, 1] == player and board[1, 2] == player:\n",
    "        return True\n",
    "    # check row 2\n",
    "    if board[2, 0] == player and board[2, 1] == player and board[2, 2] == player:\n",
    "        return True\n",
    "    return False\n",
    "\n",
    "# print(board)\n",
    "player = 1\n",
    "row_win(board, player)"
   ]
  },
  {
   "cell_type": "code",
   "execution_count": 78,
   "metadata": {},
   "outputs": [
    {
     "data": {
      "text/plain": [
       "False"
      ]
     },
     "execution_count": 78,
     "metadata": {},
     "output_type": "execute_result"
    }
   ],
   "source": [
    "def col_win(board, player):\n",
    "    # check column 0\n",
    "    if board[0, 0] == player and board[1, 0] == player and board[2, 0] == player:\n",
    "        return True\n",
    "    # check column 1\n",
    "    if board[0, 1] == player and board[1, 1] == player and board[2, 1] == player:\n",
    "        return True\n",
    "    # check column 2\n",
    "    if board[0, 2] == player and board[1, 2] == player and board[2, 2] == player:\n",
    "        return True\n",
    "    return False\n",
    "\n",
    "# print(board)\n",
    "player = 1\n",
    "col_win(board, player)"
   ]
  }
 ],
 "metadata": {
  "kernelspec": {
   "display_name": "Python 3",
   "language": "python",
   "name": "python3"
  },
  "language_info": {
   "codemirror_mode": {
    "name": "ipython",
    "version": 3
   },
   "file_extension": ".py",
   "mimetype": "text/x-python",
   "name": "python",
   "nbconvert_exporter": "python",
   "pygments_lexer": "ipython3",
   "version": "3.6.1"
  }
 },
 "nbformat": 4,
 "nbformat_minor": 2
}
