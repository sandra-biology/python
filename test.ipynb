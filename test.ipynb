{
 "cells": [
  {
   "cell_type": "code",
   "execution_count": null,
   "metadata": {
    "collapsed": true
   },
   "outputs": [],
   "source": [
    "x = range(6)\n",
    "y = map(lambda a: a**2, x)\n",
    "print 'x:\\n', x, '\\ny:\\n', y\n",
    "\n",
    "# import matplotlib.pyplot as plt\n",
    "# plt.plot(x, y)\n",
    "# plt.show()"
   ]
  },
  {
   "cell_type": "code",
   "execution_count": null,
   "metadata": {
    "collapsed": true
   },
   "outputs": [],
   "source": [
    "import matplotlib.pyplot as plt\n",
    "plt.plot([0, 1, 2, 3, 4], [0, 1, 4, 9, 16])\n",
    "plt.show()"
   ]
  },
  {
   "cell_type": "code",
   "execution_count": 4,
   "metadata": {},
   "outputs": [
    {
     "name": "stdout",
     "output_type": "stream",
     "text": [
      "100 200\n",
      "False\n",
      "True\n"
     ]
    }
   ],
   "source": [
    "a1 = 100 #assigning operator\n",
    "a2 = 200\n",
    "print a1, a2\n",
    "print a1 == a2 # == is comparison\n",
    "a3 = 100\n",
    "print a1 == a3"
   ]
  },
  {
   "cell_type": "code",
   "execution_count": 7,
   "metadata": {},
   "outputs": [
    {
     "name": "stdout",
     "output_type": "stream",
     "text": [
      "[10, 20, 30, 40]\n"
     ]
    },
    {
     "ename": "IndexError",
     "evalue": "list index out of range",
     "output_type": "error",
     "traceback": [
      "\u001b[1;31m---------------------------------------------------------------------------\u001b[0m",
      "\u001b[1;31mIndexError\u001b[0m                                Traceback (most recent call last)",
      "\u001b[1;32m<ipython-input-7-826e619c9fd4>\u001b[0m in \u001b[0;36m<module>\u001b[1;34m()\u001b[0m\n\u001b[0;32m      1\u001b[0m \u001b[0ma\u001b[0m \u001b[1;33m=\u001b[0m \u001b[1;33m[\u001b[0m\u001b[1;36m10\u001b[0m\u001b[1;33m,\u001b[0m \u001b[1;36m20\u001b[0m\u001b[1;33m,\u001b[0m \u001b[1;36m30\u001b[0m\u001b[1;33m,\u001b[0m \u001b[1;36m40\u001b[0m\u001b[1;33m,\u001b[0m\u001b[1;33m]\u001b[0m \u001b[1;31m# list or array or vector\u001b[0m\u001b[1;33m\u001b[0m\u001b[0m\n\u001b[0;32m      2\u001b[0m \u001b[1;32mprint\u001b[0m \u001b[0ma\u001b[0m\u001b[1;33m\u001b[0m\u001b[0m\n\u001b[1;32m----> 3\u001b[1;33m \u001b[1;32mprint\u001b[0m \u001b[0ma\u001b[0m\u001b[1;33m[\u001b[0m\u001b[1;36m4\u001b[0m\u001b[1;33m]\u001b[0m\u001b[1;33m\u001b[0m\u001b[0m\n\u001b[0m",
      "\u001b[1;31mIndexError\u001b[0m: list index out of range"
     ]
    }
   ],
   "source": [
    "a = [10, 20, 30, 40] # list or array or vector\n",
    "print a\n",
    "print a[4] # out of range error"
   ]
  },
  {
   "cell_type": "code",
   "execution_count": 19,
   "metadata": {},
   "outputs": [
    {
     "name": "stdout",
     "output_type": "stream",
     "text": [
      "a[4] = 50\n",
      "10\n",
      "20\n",
      "30\n",
      "40\n",
      "50\n",
      "use index\n",
      "10\n",
      "20\n",
      "30\n",
      "40\n",
      "50\n",
      "range example\n",
      "range(5) = [0, 1, 2, 3, 4]\n",
      "use range\n",
      "a[ 0 ] = 10\n",
      "a[ 1 ] = 20\n",
      "a[ 2 ] = 30\n",
      "a[ 3 ] = 40\n",
      "a[ 4 ] = 50\n"
     ]
    }
   ],
   "source": [
    "a = [10, 20, 30, 40, 50]\n",
    "print \"a[4] =\", a[4]\n",
    "for element in a:\n",
    "    # loop body\n",
    "    print element\n",
    "\n",
    "print \"use index\"\n",
    "for i in [0, 1, 2, 3, 4]:\n",
    "    print a[i]\n",
    "print \"range example\"\n",
    "print \"range(5) =\", range(5)\n",
    "print \"use range\"\n",
    "for i in range(5):\n",
    "    print \"a[\", i, \"] =\", a[i]"
   ]
  },
  {
   "cell_type": "code",
   "execution_count": 28,
   "metadata": {},
   "outputs": [
    {
     "name": "stdout",
     "output_type": "stream",
     "text": [
      "['abc', 'def', 'ghi']\n",
      "string = abc\n",
      "string = def\n",
      "string = ghi\n",
      "use index\n",
      "abc\n",
      "def\n",
      "ghi\n"
     ]
    }
   ],
   "source": [
    "s = ['abc', 'def', 'ghi']\n",
    "print s\n",
    "for string in s:\n",
    "    print \"string =\", string\n",
    "\n",
    "print \"use index\"\n",
    "for i in range(len(s)):\n",
    "    print s[i]"
   ]
  },
  {
   "cell_type": "code",
   "execution_count": 6,
   "metadata": {},
   "outputs": [
    {
     "name": "stdout",
     "output_type": "stream",
     "text": [
      "1\n",
      "7\n",
      "11\n",
      "13\n",
      "77\n",
      "91\n",
      "143\n"
     ]
    }
   ],
   "source": [
    "n = 1001\n",
    "for i in range(1,n):\n",
    "    if n % i == 0:\n",
    "        print i"
   ]
  },
  {
   "cell_type": "code",
   "execution_count": 36,
   "metadata": {},
   "outputs": [
    {
     "name": "stdout",
     "output_type": "stream",
     "text": [
      "29\n",
      "67\n",
      "prime(2017)\n",
      "2017 is a prime number\n",
      "the end\n",
      "2\n",
      "3\n",
      "2017 is a prime number\n"
     ]
    }
   ],
   "source": [
    "def prime(n):\n",
    "    is_prime = True\n",
    "    for i in range(2,n):\n",
    "        if n % i == 0:\n",
    "            print i\n",
    "            is_prime = False\n",
    "    if is_prime:\n",
    "        print n, \"is a prime number\"\n",
    "\n",
    "prime(1943)\n",
    "mm = 2017\n",
    "print \"prime(2017)\"\n",
    "prime(mm)\n",
    "print \"the end\"\n",
    "prime(6)\n",
    "prime(2017)"
   ]
  },
  {
   "cell_type": "code",
   "execution_count": 37,
   "metadata": {},
   "outputs": [
    {
     "name": "stdout",
     "output_type": "stream",
     "text": [
      "2\n",
      "3\n",
      "4\n",
      "6\n",
      "8\n",
      "12\n",
      "16\n",
      "24\n",
      "41\n",
      "48\n",
      "82\n",
      "123\n",
      "164\n",
      "246\n",
      "328\n",
      "492\n",
      "656\n",
      "984\n"
     ]
    }
   ],
   "source": [
    "def prime(n):\n",
    "    is_prime = True\n",
    "    for i in range(2,n):\n",
    "        if n % i ==0:\n",
    "            print i\n",
    "            is_prime = False\n",
    "    if is_prime:\n",
    "        print n, \"is a prime number\"\n",
    "\n",
    "prime(1968)"
   ]
  },
  {
   "cell_type": "code",
   "execution_count": 39,
   "metadata": {},
   "outputs": [
    {
     "name": "stdout",
     "output_type": "stream",
     "text": [
      "3\n",
      "19\n"
     ]
    }
   ],
   "source": [
    "def prime(n):\n",
    "    is_prime = True\n",
    "    for i in range(2,n):\n",
    "        if n % i ==0:\n",
    "            print i\n",
    "            is_prime = False\n",
    "    if is_prime:\n",
    "        print n, \"is a prime number\"\n",
    "        \n",
    "prime (57)"
   ]
  },
  {
   "cell_type": "code",
   "execution_count": 28,
   "metadata": {},
   "outputs": [
    {
     "name": "stdout",
     "output_type": "stream",
     "text": [
      "This\n",
      "is a abc\tstring that contains abc and Abc and also abcd\n",
      "84\n",
      "T\n",
      "len(s) = 60\n",
      "ord(s[59]) = 100\n",
      "ord(\"d\") = 100\n",
      "100\n",
      "ord(s[-1]) = 100\n",
      "21\n"
     ]
    }
   ],
   "source": [
    "s = 'This\\nis a abc\\tstring that contains abc and Abc and also abcd'\n",
    "print s\n",
    "print ord(s[0])\n",
    "print chr(84)\n",
    "print 'len(s) =', len(s)\n",
    "print 'ord(s[59]) =', ord(s[59])\n",
    "print 'ord(\"d\") =', ord('d')\n",
    "print ord(s[len(s)-1])\n",
    "print 'ord(s[-1]) =', ord(s[-1])\n",
    "# print 'ord(s[1000]) =', ord(s[1000])\n",
    "\n",
    "print s.find(\"that\")"
   ]
  },
  {
   "cell_type": "code",
   "execution_count": 4,
   "metadata": {},
   "outputs": [
    {
     "name": "stdout",
     "output_type": "stream",
     "text": [
      "ABCD 1234 ABCD 1234\n",
      "1234\n"
     ]
    }
   ],
   "source": [
    "s = 'ABCD 1234 ABCD 1234'\n",
    "print s\n",
    "s1 = s[5:9]\n",
    "print s1"
   ]
  },
  {
   "cell_type": "code",
   "execution_count": 2,
   "metadata": {},
   "outputs": [
    {
     "name": "stdout",
     "output_type": "stream",
     "text": [
      "enter a sentence: This is Python 3\n",
      "This is Python 3\n"
     ]
    }
   ],
   "source": [
    "s = input(\"enter a sentence: \")\n",
    "print(s)"
   ]
  },
  {
   "cell_type": "code",
   "execution_count": 1,
   "metadata": {},
   "outputs": [
    {
     "name": "stdout",
     "output_type": "stream",
     "text": [
      "5\n"
     ]
    }
   ],
   "source": [
    "s = \"abc def ghi klm nop\"\n",
    "counter = 0\n",
    "\n",
    "for letter in s:\n",
    "    if letter == \" \":\n",
    "        counter += 1\n",
    "\n",
    "counter += 1 # to count the last word\n",
    "print(counter)"
   ]
  },
  {
   "cell_type": "code",
   "execution_count": 7,
   "metadata": {},
   "outputs": [
    {
     "name": "stdout",
     "output_type": "stream",
     "text": [
      "19\n",
      "5\n"
     ]
    }
   ],
   "source": [
    "s = \"abc def ghi klm nop\"\n",
    "\n",
    "s_length = len(s)\n",
    "print(s_length)\n",
    "\n",
    "def word_count(s):\n",
    "    count = 0\n",
    "    for letter in s:\n",
    "        if letter == \" \":\n",
    "            count += 1\n",
    "    count += 1 # to count the last word\n",
    "    print(count)\n",
    "\n",
    "word_count(s)"
   ]
  },
  {
   "cell_type": "code",
   "execution_count": 8,
   "metadata": {},
   "outputs": [
    {
     "name": "stdout",
     "output_type": "stream",
     "text": [
      "5\n"
     ]
    }
   ],
   "source": [
    "def word_count1(s):\n",
    "    count = 0\n",
    "    for letter in s:\n",
    "        if letter == \" \":\n",
    "            count += 1\n",
    "    count += 1 # to count the last word\n",
    "    return count\n",
    "\n",
    "s = \"abc def ghi klm nop\"\n",
    "\n",
    "n = word_count1(s)\n",
    "print(n)"
   ]
  }
 ],
 "metadata": {
  "kernelspec": {
   "display_name": "Python 3",
   "language": "python",
   "name": "python3"
  },
  "language_info": {
   "codemirror_mode": {
    "name": "ipython",
    "version": 3
   },
   "file_extension": ".py",
   "mimetype": "text/x-python",
   "name": "python",
   "nbconvert_exporter": "python",
   "pygments_lexer": "ipython3",
   "version": "3.6.1"
  }
 },
 "nbformat": 4,
 "nbformat_minor": 1
}
